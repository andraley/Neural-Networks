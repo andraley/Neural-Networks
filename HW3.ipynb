{
  "cells": [
    {
      "cell_type": "markdown",
      "metadata": {
        "id": "j9uRd98UFzPL"
      },
      "source": [
        "# Введение в искусственные нейронные сети\n",
        "# Урок 3. TensorFlow"
      ]
    },
    {
      "cell_type": "markdown",
      "metadata": {
        "id": "k3iOZn2wFzPQ"
      },
      "source": [
        "## Содержание методического пособия:\n",
        "\n",
        "\n",
        "<ol>\n",
        "<li>Что такое TensorFlow</li>\n",
        "<li>Основы синтаксиса TensorFlow</li>\n",
        "<li>Пример нейросети на TensorFlow</li>\n",
        "</ol>"
      ]
    },
    {
      "cell_type": "markdown",
      "metadata": {
        "id": "Sx3Su3u6FzPS"
      },
      "source": [
        "## Что такое TensorFlow\n",
        "\n",
        "TensorFlow - это фреймворк для создания ML моделей. TensorFlow предназначен в первую очередь для Deep Learning, т.е. создания современных нейросетей. Однако в TensorFlow также есть поддержка некоторых классических ML алгоритмов: K-means clustering, Random Forests, Support Vector Machines, Gaussian Mixture Model clustering, Linear/logistic regression.\n",
        "\n",
        "TensorFlow выпустила компания Google в 2015. TensorFlow - это opensource проект. На данный момент это один из основных инструментов для создания нейросетей в рабочих целях. TensorFlow позволяет создавать нейронные сети как для кластеров из большого количества вычислительных устройств, так и для устройств с относительно небольшой вычислитей мощностью, таких как смартфоны и одноплатные компьютеры.\n",
        "\n",
        "TensorFlow применяется самой компанией Google для ее поиска, почты, переводчика, распознования голоса, внутренних нужд наподобие мониторинга оборудования. TensorFlow используется различными компаниями для различных проектов связанных с компьютерным зрением, решением задач ранжирования и т.д.\n"
      ]
    },
    {
      "cell_type": "markdown",
      "metadata": {
        "id": "mBqyxNwdFzPU"
      },
      "source": [
        "## Основы синтаксиса TensorFlow\n",
        "\n",
        "Процесс создания нейросети на TensorFlow схож с разобранным нами процессом обучения нейросети на Keras. Отличее здесь в том, что здесь нам нужно прописать больше деталей в коде. \n",
        "\n",
        "Название TensorFlow означает поток тензоров. Тензоры - это массивы. Данные в компьютере предствлены часто в виде массивах и работа с этими массивами подразумевает их преобразования. Преобразования осуществляются через, к примеру, математические операции. Работа TensorFlow складывается из цепочки преобразований тензоров, т.е. данных. Сами операции осуществляющие преобразование данных представлены в TensorFlow в виде графов. Особенностью TensorFlow версии 1 является то, что сначала необходимо декларировать переменные и вычисления, которые будут совершенны над ними, а потом уже непосредственно запускать работу над данными. "
      ]
    },
    {
      "cell_type": "markdown",
      "metadata": {
        "id": "NTDIFFhhFzPW"
      },
      "source": [
        "Давайте рассмотрим базовые вещи в синтаксисе Tensorflow 2."
      ]
    },
    {
      "cell_type": "markdown",
      "metadata": {
        "id": "BuAYrRxLFzPY"
      },
      "source": [
        "Выведем строку Hello world, а также версию tensorflow"
      ]
    },
    {
      "cell_type": "code",
      "execution_count": 118,
      "metadata": {
        "id": "A4Hcl_IoHv7n"
      },
      "outputs": [],
      "source": [
        "#!pip install --upgrade pip\n",
        "#!pip install tensorflow\n",
        "#!pip install tf-nightly"
      ]
    },
    {
      "cell_type": "code",
      "execution_count": 119,
      "metadata": {
        "id": "ad84hsn2Gwhi"
      },
      "outputs": [],
      "source": [
        "%tensorflow_version 2.x"
      ]
    },
    {
      "cell_type": "code",
      "execution_count": 120,
      "metadata": {
        "colab": {
          "base_uri": "https://localhost:8080/"
        },
        "id": "75BVCTdbFzPa",
        "outputId": "7d34f481-1e31-4ce1-c25c-6118e7a91422"
      },
      "outputs": [
        {
          "output_type": "stream",
          "name": "stdout",
          "text": [
            "2.7.0\n",
            "TensorFlow 2.0 Hello World\n"
          ]
        }
      ],
      "source": [
        "import tensorflow as tf\n",
        "print(tf.__version__)\n",
        "msg = tf.constant('TensorFlow 2.0 Hello World')\n",
        "tf.print(msg)"
      ]
    },
    {
      "cell_type": "markdown",
      "metadata": {
        "id": "S4ZN0rdqFzPh"
      },
      "source": [
        "Пример создания тензора - "
      ]
    },
    {
      "cell_type": "code",
      "execution_count": 121,
      "metadata": {
        "colab": {
          "base_uri": "https://localhost:8080/"
        },
        "id": "VATG0L6IFzPj",
        "outputId": "f11a413c-2691-42d2-b70a-89a311c926bd"
      },
      "outputs": [
        {
          "output_type": "stream",
          "name": "stdout",
          "text": [
            "tf.Tensor(\n",
            "[[3 2]\n",
            " [5 2]], shape=(2, 2), dtype=int32)\n"
          ]
        }
      ],
      "source": [
        "A = tf.constant( [[3, 2], \n",
        "                 [5, 2]])\n",
        "\n",
        "print(A)"
      ]
    },
    {
      "cell_type": "code",
      "execution_count": 122,
      "metadata": {
        "colab": {
          "base_uri": "https://localhost:8080/"
        },
        "id": "zO731BJ7cUBG",
        "outputId": "f8e564bc-e1bd-46de-8569-525eedf405fb"
      },
      "outputs": [
        {
          "output_type": "execute_result",
          "data": {
            "text/plain": [
              "<tf.Variable 'Variable:0' shape=(2, 1) dtype=float32, numpy=\n",
              "array([[1.],\n",
              "       [2.]], dtype=float32)>"
            ]
          },
          "metadata": {},
          "execution_count": 122
        }
      ],
      "source": [
        "w = tf.Variable([[1.], [2.]])\n",
        "w"
      ]
    },
    {
      "cell_type": "markdown",
      "metadata": {
        "id": "PoSPW2QuREEv"
      },
      "source": [
        "Тензор, заполненный только единицами"
      ]
    },
    {
      "cell_type": "code",
      "execution_count": 123,
      "metadata": {
        "colab": {
          "base_uri": "https://localhost:8080/"
        },
        "id": "g4OGJqgiQvY-",
        "outputId": "27cefb4f-dfa0-4b4b-8b24-40edc53b89f1"
      },
      "outputs": [
        {
          "output_type": "stream",
          "name": "stdout",
          "text": [
            "tf.Tensor([[1. 1.]], shape=(1, 2), dtype=float32)\n"
          ]
        }
      ],
      "source": [
        "x = tf.ones(shape=(1, 2))\n",
        "print(x)"
      ]
    },
    {
      "cell_type": "markdown",
      "metadata": {
        "id": "lVQVuCv5RIU5"
      },
      "source": [
        "Тензор, заполненный только нулями:"
      ]
    },
    {
      "cell_type": "code",
      "execution_count": 124,
      "metadata": {
        "colab": {
          "base_uri": "https://localhost:8080/"
        },
        "id": "C2T4MAHCQ4Fn",
        "outputId": "91bdbd87-62e7-437b-d40f-88da07fb24e5"
      },
      "outputs": [
        {
          "output_type": "stream",
          "name": "stdout",
          "text": [
            "tf.Tensor(\n",
            "[[0.]\n",
            " [0.]], shape=(2, 1), dtype=float32)\n"
          ]
        }
      ],
      "source": [
        "x = tf.zeros(shape=(2, 1))\n",
        "print(x)"
      ]
    },
    {
      "cell_type": "markdown",
      "metadata": {
        "id": "wZRIvAwdRNGt"
      },
      "source": [
        "Cлучайные тензоры"
      ]
    },
    {
      "cell_type": "code",
      "execution_count": 125,
      "metadata": {
        "colab": {
          "base_uri": "https://localhost:8080/"
        },
        "id": "h6ker3veRBrQ",
        "outputId": "60fe4cc7-85f8-417a-8900-35ad83c8a59e"
      },
      "outputs": [
        {
          "output_type": "stream",
          "name": "stdout",
          "text": [
            "tf.Tensor(\n",
            "[[-0.78015053]\n",
            " [-0.11903024]\n",
            " [ 1.390667  ]], shape=(3, 1), dtype=float32)\n"
          ]
        }
      ],
      "source": [
        "x = tf.random.normal(shape=(3, 1), mean=0., stddev=1.)\n",
        "print(x)"
      ]
    },
    {
      "cell_type": "code",
      "execution_count": 126,
      "metadata": {
        "colab": {
          "base_uri": "https://localhost:8080/"
        },
        "id": "YLjXW-uFRfTB",
        "outputId": "6d1e4e66-7cb0-4a18-a6f0-d3b6a98665cd"
      },
      "outputs": [
        {
          "output_type": "stream",
          "name": "stdout",
          "text": [
            "<tf.Variable 'Variable:0' shape=(3, 1) dtype=float32, numpy=\n",
            "array([[ 0.53701925],\n",
            "       [-0.13214248],\n",
            "       [-1.0237484 ]], dtype=float32)>\n"
          ]
        }
      ],
      "source": [
        "v = tf.Variable(initial_value=tf.random.normal(shape=(3, 1)))\n",
        "print(v)"
      ]
    },
    {
      "cell_type": "markdown",
      "metadata": {
        "id": "ueNZM4bARngO"
      },
      "source": [
        "Состояние переменной можно изменить с помощью метода assign"
      ]
    },
    {
      "cell_type": "code",
      "execution_count": 127,
      "metadata": {
        "colab": {
          "base_uri": "https://localhost:8080/"
        },
        "id": "s4VMhhuBRlgp",
        "outputId": "c3c0806f-5db8-4b91-840c-4d1303b0eaaf"
      },
      "outputs": [
        {
          "output_type": "execute_result",
          "data": {
            "text/plain": [
              "<tf.Variable 'UnreadVariable' shape=(3, 1) dtype=float32, numpy=\n",
              "array([[1.],\n",
              "       [1.],\n",
              "       [1.]], dtype=float32)>"
            ]
          },
          "metadata": {},
          "execution_count": 127
        }
      ],
      "source": [
        "v.assign(tf.ones((3, 1)))"
      ]
    },
    {
      "cell_type": "code",
      "execution_count": 128,
      "metadata": {
        "colab": {
          "base_uri": "https://localhost:8080/"
        },
        "id": "SejHNh3QRwXu",
        "outputId": "ffc8a69b-987e-4f48-d75a-c0241bd593d5"
      },
      "outputs": [
        {
          "output_type": "execute_result",
          "data": {
            "text/plain": [
              "<tf.Variable 'UnreadVariable' shape=(3, 1) dtype=float32, numpy=\n",
              "array([[3.],\n",
              "       [1.],\n",
              "       [1.]], dtype=float32)>"
            ]
          },
          "metadata": {},
          "execution_count": 128
        }
      ],
      "source": [
        "v[0, 0].assign(3.)"
      ]
    },
    {
      "cell_type": "markdown",
      "metadata": {
        "id": "XTfjbLKLFzPx"
      },
      "source": [
        "Пример изменения размерности тензора - "
      ]
    },
    {
      "cell_type": "code",
      "execution_count": 129,
      "metadata": {
        "colab": {
          "base_uri": "https://localhost:8080/"
        },
        "id": "Yk_mB4qGFzPz",
        "outputId": "9d9f8df1-6669-4826-9a2d-83cbe7dbcfba"
      },
      "outputs": [
        {
          "output_type": "stream",
          "name": "stdout",
          "text": [
            "BEFORE [[3 2]\n",
            " [5 2]\n",
            " [9 5]\n",
            " [1 3]]\n",
            "AFTER [[3 2 5 2 9 5 1 3]]\n"
          ]
        }
      ],
      "source": [
        "tensor = tf.constant([[3, 2], \n",
        "                      [5, 2], \n",
        "                      [9, 5], \n",
        "                      [1, 3]])\n",
        "\n",
        "resh_tensor = tf.reshape(tensor = tensor, shape = [1, 8]) \n",
        "\n",
        "print(f'BEFORE {tensor.numpy()}')\n",
        "print(f'AFTER {resh_tensor.numpy()}')"
      ]
    },
    {
      "cell_type": "markdown",
      "metadata": {
        "id": "van47kdAFzPp"
      },
      "source": [
        "Пример сложения тензеров - "
      ]
    },
    {
      "cell_type": "code",
      "execution_count": 130,
      "metadata": {
        "colab": {
          "base_uri": "https://localhost:8080/"
        },
        "id": "wYwJYGSvFzPr",
        "outputId": "eb629e99-1b7d-4d7e-86c6-ecb95cd231cb"
      },
      "outputs": [
        {
          "output_type": "stream",
          "name": "stdout",
          "text": [
            "[[3 2 9 5]\n",
            " [5 2 1 3]]\n"
          ]
        }
      ],
      "source": [
        "B = tf.constant([[9, 5], \n",
        "                 [1, 3]])\n",
        "\n",
        "AB = tf.concat(values=[A, B], axis=1)\n",
        "print(AB.numpy())"
      ]
    },
    {
      "cell_type": "markdown",
      "metadata": {
        "id": "rDoym3IkSN-k"
      },
      "source": [
        "Для переменных можно еще и так (добавить к тому. что есть)"
      ]
    },
    {
      "cell_type": "code",
      "execution_count": 131,
      "metadata": {
        "colab": {
          "base_uri": "https://localhost:8080/"
        },
        "id": "zmPnlSvTRUqk",
        "outputId": "ade4eefd-7d4d-4fbe-ae32-75e426eb4ebb"
      },
      "outputs": [
        {
          "output_type": "execute_result",
          "data": {
            "text/plain": [
              "<tf.Variable 'UnreadVariable' shape=(3, 1) dtype=float32, numpy=\n",
              "array([[4.],\n",
              "       [2.],\n",
              "       [2.]], dtype=float32)>"
            ]
          },
          "metadata": {},
          "execution_count": 131
        }
      ],
      "source": [
        "v.assign_add(tf.ones((3, 1)))"
      ]
    },
    {
      "cell_type": "markdown",
      "metadata": {
        "id": "txp4OBMXFzP6"
      },
      "source": [
        "Пример умножения матриц, одной из самых частых операций в машинном обучении - "
      ]
    },
    {
      "cell_type": "code",
      "execution_count": 132,
      "metadata": {
        "colab": {
          "base_uri": "https://localhost:8080/"
        },
        "id": "2VM7TqHlFzP8",
        "outputId": "ee5084a2-d7c4-4d61-ad81-a81a5bb6b45e"
      },
      "outputs": [
        {
          "output_type": "stream",
          "name": "stdout",
          "text": [
            "tf.Tensor(\n",
            "[[  30   70]\n",
            " [1000 9000]], shape=(2, 2), dtype=int32)\n"
          ]
        }
      ],
      "source": [
        "A = tf.constant([[3, 7], \n",
        "                 [1, 9]])\n",
        "\n",
        "\n",
        "B = tf.constant([[10, 10],\n",
        "                 [1000, 1000]])\n",
        "\n",
        "AB = tf.multiply(A, B)\n",
        "print(AB)\n"
      ]
    },
    {
      "cell_type": "code",
      "execution_count": 133,
      "metadata": {
        "colab": {
          "base_uri": "https://localhost:8080/"
        },
        "id": "qCCRCUpj9aPF",
        "outputId": "4c8ef800-121f-4032-cfdc-8e35f5067a8e"
      },
      "outputs": [
        {
          "output_type": "stream",
          "name": "stdout",
          "text": [
            "tf.Tensor([[10 15]], shape=(1, 2), dtype=int32)\n",
            "(1, 2)\n",
            "<dtype: 'int32'>\n"
          ]
        }
      ],
      "source": [
        "x = tf.matmul([[5]], [[2, 3]])\n",
        "print(x)\n",
        "print(x.shape)\n",
        "print(x.dtype)"
      ]
    },
    {
      "cell_type": "markdown",
      "metadata": {
        "id": "YuV-xpouSe97"
      },
      "source": [
        "Можно много всякого похожего на numpy"
      ]
    },
    {
      "cell_type": "code",
      "execution_count": 134,
      "metadata": {
        "colab": {
          "base_uri": "https://localhost:8080/"
        },
        "id": "mctsk4y8SnCp",
        "outputId": "dc726387-0c61-4bc3-fee7-06a4c3d02777"
      },
      "outputs": [
        {
          "output_type": "stream",
          "name": "stdout",
          "text": [
            "tf.Tensor(\n",
            "[[2. 2.]\n",
            " [2. 2.]], shape=(2, 2), dtype=float32)\n",
            "tf.Tensor(\n",
            "[[4. 4.]\n",
            " [4. 4.]], shape=(2, 2), dtype=float32)\n",
            "tf.Tensor(\n",
            "[[1.4142137 1.4142137]\n",
            " [1.4142137 1.4142137]], shape=(2, 2), dtype=float32)\n",
            "tf.Tensor(\n",
            "[[5.4142137 5.4142137]\n",
            " [5.4142137 5.4142137]], shape=(2, 2), dtype=float32)\n",
            "tf.Tensor(\n",
            "[[16. 16.]\n",
            " [16. 16.]], shape=(2, 2), dtype=float32)\n",
            "tf.Tensor(\n",
            "[[86.62742 86.62742]\n",
            " [86.62742 86.62742]], shape=(2, 2), dtype=float32)\n"
          ]
        }
      ],
      "source": [
        "a = tf.ones((2, 2)) * 2\n",
        "print(a)\n",
        "b = tf.square(a)\n",
        "print(b)\n",
        "c = tf.sqrt(a)\n",
        "print(c)\n",
        "d = b + c\n",
        "print(d)\n",
        "e = tf.matmul(a, b)\n",
        "print(e)\n",
        "e *= d\n",
        "print(e)\n",
        "\n"
      ]
    },
    {
      "cell_type": "code",
      "execution_count": 135,
      "metadata": {
        "colab": {
          "base_uri": "https://localhost:8080/"
        },
        "id": "5zd1GMQ0-o80",
        "outputId": "58437da5-fe11-4c7e-9db7-69b6f2f00804"
      },
      "outputs": [
        {
          "output_type": "stream",
          "name": "stdout",
          "text": [
            "превратим numpy arrays в Tensors \n",
            "tf.Tensor(\n",
            "[[42. 42. 42.]\n",
            " [42. 42. 42.]\n",
            " [42. 42. 42.]], shape=(3, 3), dtype=float64)\n",
            "добавим к тензору 1 \n",
            "[[43. 43. 43.]\n",
            " [43. 43. 43.]\n",
            " [43. 43. 43.]]\n",
            " .numpy() превратим тензор в  numpy array\n",
            "[[42. 42. 42.]\n",
            " [42. 42. 42.]\n",
            " [42. 42. 42.]]\n"
          ]
        }
      ],
      "source": [
        "import numpy as np\n",
        "\n",
        "ndarray = np.ones([3, 3])\n",
        "\n",
        "print(\"превратим numpy arrays в Tensors \")\n",
        "tensor = tf.multiply(ndarray, 42)\n",
        "print(tensor)\n",
        "\n",
        "\n",
        "print(\"добавим к тензору 1 \")\n",
        "print(np.add(tensor, 1))\n",
        "\n",
        "print(\" .numpy() превратим тензор в  numpy array\")\n",
        "print(tensor.numpy())"
      ]
    },
    {
      "cell_type": "markdown",
      "metadata": {
        "id": "VKoCavodWLb-"
      },
      "source": [
        "Проверяем работу GPU\n",
        "\n",
        "https://www.tensorflow.org/guide/gpu"
      ]
    },
    {
      "cell_type": "code",
      "execution_count": 136,
      "metadata": {
        "colab": {
          "base_uri": "https://localhost:8080/"
        },
        "id": "iwFVgO3t_Ghj",
        "outputId": "a107f265-e216-4b8c-db19-c40b16877cc0"
      },
      "outputs": [
        {
          "output_type": "stream",
          "name": "stdout",
          "text": [
            "есть ли доступные GPU: \n",
            "[PhysicalDevice(name='/physical_device:GPU:0', device_type='GPU')]\n",
            "тензор на GPU #0:  \n",
            "True\n"
          ]
        }
      ],
      "source": [
        "x = tf.random.uniform([3, 3])\n",
        "\n",
        "print(\"есть ли доступные GPU: \"),\n",
        "print(tf.config.experimental.list_physical_devices(\"GPU\"))\n",
        "\n",
        "print(\"тензор на GPU #0:  \"),\n",
        "print(x.device.endswith('GPU:0'))\n"
      ]
    },
    {
      "cell_type": "markdown",
      "metadata": {
        "id": "MR36oPW2WSUh"
      },
      "source": [
        "Сделаем по 10 циклов на GPU и CPU:"
      ]
    },
    {
      "cell_type": "code",
      "execution_count": 137,
      "metadata": {
        "colab": {
          "base_uri": "https://localhost:8080/"
        },
        "id": "oajro_Ip_hap",
        "outputId": "18beafa1-c261-4a80-8a7b-0fce78711588"
      },
      "outputs": [
        {
          "output_type": "stream",
          "name": "stdout",
          "text": [
            " CPU работает:\n",
            "10 циклов: 343.05ms\n",
            " какой GPU:\n",
            "10 циклов: 1.41ms\n"
          ]
        }
      ],
      "source": [
        "import time\n",
        "\n",
        "def time_matmul(x):\n",
        "  start = time.time()\n",
        "  for loop in range(10):\n",
        "    tf.matmul(x, x)\n",
        "\n",
        "  result = time.time()-start\n",
        "\n",
        "  print(\"10 циклов: {:0.2f}ms\".format(1000*result))\n",
        "\n",
        "# исполнение CPU\n",
        "print(\" CPU работает:\")\n",
        "with tf.device(\"CPU:0\"):\n",
        "  x = tf.random.uniform([1000, 1000])\n",
        "  assert x.device.endswith(\"CPU:0\")\n",
        "  time_matmul(x)\n",
        "\n",
        "# исполнение на GPU #0 , если доступен\n",
        "if tf.config.experimental.list_physical_devices(\"GPU\"):\n",
        "  print(\" какой GPU:\")\n",
        "  with tf.device(\"GPU:0\"): # или GPU:1 , для 2х GPU, GPU:2 для 3х  и т.д.\n",
        "    x = tf.random.uniform([1000, 1000])\n",
        "    assert x.device.endswith(\"GPU:0\")\n",
        "    time_matmul(x)"
      ]
    },
    {
      "cell_type": "markdown",
      "metadata": {
        "id": "bbWKa7DaTQIN"
      },
      "source": [
        "ГЛАВНЫЙ ФОКУС!!!\n",
        "Вычисляем производные (для дифференцируемых функций)"
      ]
    },
    {
      "cell_type": "code",
      "execution_count": 138,
      "metadata": {
        "colab": {
          "base_uri": "https://localhost:8080/"
        },
        "id": "d2-w6y0fTOuP",
        "outputId": "d5c66b90-acae-4be7-cf8c-8fa41a9f6c53"
      },
      "outputs": [
        {
          "output_type": "stream",
          "name": "stdout",
          "text": [
            "input_var :  <tf.Variable 'Variable:0' shape=() dtype=float32, numpy=3.0>\n",
            "result = input_var^2 :  tf.Tensor(9.0, shape=(), dtype=float32)\n",
            "gradient :  tf.Tensor(6.0, shape=(), dtype=float32)\n"
          ]
        }
      ],
      "source": [
        "input_var = tf.Variable(initial_value=3.)\n",
        "with tf.GradientTape() as tape:\n",
        "   result = tf.square(input_var)\n",
        "gradient = tape.gradient(result, input_var)\n",
        "\n",
        "print('input_var : ',input_var)\n",
        "print('result = input_var^2 : ',result)\n",
        "print('gradient : ',gradient)\n"
      ]
    },
    {
      "cell_type": "markdown",
      "metadata": {
        "id": "_8s-9c41UFQN"
      },
      "source": [
        "Производная второго порядка:"
      ]
    },
    {
      "cell_type": "code",
      "execution_count": 139,
      "metadata": {
        "colab": {
          "base_uri": "https://localhost:8080/"
        },
        "id": "fHlpsLfLUDtU",
        "outputId": "086fadc8-13bc-40c5-ab10-dfaea342992d"
      },
      "outputs": [
        {
          "output_type": "stream",
          "name": "stdout",
          "text": [
            "x :  tf.Tensor(\n",
            "[  0.         4.9       19.6       44.100002  78.4      122.49999\n",
            " 176.40001  240.09999  313.6      396.9     ], shape=(10,), dtype=float32)\n",
            "t :  <tf.Variable 'Variable:0' shape=(10,) dtype=float32, numpy=array([0., 1., 2., 3., 4., 5., 6., 7., 8., 9.], dtype=float32)>\n",
            "v :  tf.Tensor(\n",
            "[ 0.        9.8      19.6      29.400002 39.2      49.       58.800003\n",
            " 68.600006 78.4      88.200005], shape=(10,), dtype=float32)\n",
            "a :  tf.Tensor([9.8 9.8 9.8 9.8 9.8 9.8 9.8 9.8 9.8 9.8], shape=(10,), dtype=float32)\n"
          ]
        }
      ],
      "source": [
        "import numpy as np\n",
        "import matplotlib.pyplot as plt\n",
        "\n",
        "input_t = tf.Variable(np.arange(10), dtype='float32')\n",
        "with tf.GradientTape() as outer_tape:\n",
        "  with tf.GradientTape() as inner_tape:\n",
        "    x =  4.9 * input_t ** 2  # g * t^2 /2\n",
        "  speed = inner_tape.gradient(x, input_t)  # g * t\n",
        "acceleration = outer_tape.gradient(speed, input_t)   # g \n",
        "\n",
        "\n",
        "print('x : ',x)\n",
        "print('t : ',input_t)\n",
        "print('v : ',speed)\n",
        "print('a : ',acceleration)"
      ]
    },
    {
      "cell_type": "code",
      "execution_count": 140,
      "metadata": {
        "colab": {
          "base_uri": "https://localhost:8080/",
          "height": 334
        },
        "id": "VeqHFTyFVOdc",
        "outputId": "b0b870c3-3777-4cfd-ee6f-23907bb09ccf"
      },
      "outputs": [
        {
          "output_type": "display_data",
          "data": {
            "image/png": "[encoded data removed]",
            "text/plain": [
              "<Figure size 1152x360 with 1 Axes>"
            ]
          },
          "metadata": {
            "needs_background": "light"
          }
        }
      ],
      "source": [
        "plt.figure(figsize=(16,5))\n",
        "plt.plot(input_t.numpy(), x.numpy(), label = 'x')\n",
        "plt.plot(input_t.numpy(), speed.numpy(), label = 'speed')\n",
        "plt.plot(input_t.numpy(), acceleration.numpy(), label = 'acceleration')\n",
        "plt.legend()\n",
        "plt.xlabel('t')\n",
        "plt.grid('on')\n",
        "plt.show()"
      ]
    },
    {
      "cell_type": "markdown",
      "metadata": {
        "id": "ya0ZTsC3DNBF"
      },
      "source": [
        "В отличие от графического процессора, использование TPU требует явного подключения к работнику TPU. Поэтому необходимо настроить свое обучение и определение логического вывода, чтобы наблюдать ускорение\n",
        "\n",
        "пример работы с TPU на будущее\n",
        "\n",
        "https://www.tensorflow.org/guide/tpu\n",
        "\n",
        "https://colab.research.google.com/github/tensorflow/tpu/blob/master/tools/colab/shakespeare_with_tpu_and_keras.ipynb"
      ]
    },
    {
      "cell_type": "markdown",
      "metadata": {
        "id": "Tc9NTP1_FzQC"
      },
      "source": [
        "Функции tensorflow призваны ускорить вычисления, давайте посмотрим на следующий пример - "
      ]
    },
    {
      "cell_type": "code",
      "execution_count": 141,
      "metadata": {
        "colab": {
          "base_uri": "https://localhost:8080/"
        },
        "id": "qBUSq3dWHUjF",
        "outputId": "6e7f5873-992c-403d-893f-bb9c267e1802"
      },
      "outputs": [
        {
          "output_type": "stream",
          "name": "stdout",
          "text": [
            "(60000, 784)\n",
            "(10000, 784)\n"
          ]
        }
      ],
      "source": [
        "from tensorflow.keras.datasets import mnist\n",
        "\n",
        "\n",
        "(train_images,train_labels),(test_images,testn_labels)=mnist.load_data()\n",
        "\n",
        "# Нормализация.\n",
        "train_images = (train_images / 255) * 2 - 1\n",
        "test_images = (test_images / 255) * 2 - 1\n",
        "\n",
        "# векторизация.\n",
        "train_images = train_images.reshape((-1, 784))\n",
        "test_images = test_images.reshape((-1, 784))\n",
        "\n",
        "print(train_images.shape) # (60000, 784)\n",
        "print(test_images.shape)  # (10000, 784)\n",
        "\n"
      ]
    },
    {
      "cell_type": "code",
      "execution_count": 142,
      "metadata": {
        "id": "ozb2tTqNIBzX"
      },
      "outputs": [],
      "source": [
        "from tensorflow.keras.models import Sequential\n",
        "from tensorflow.keras.layers import Dense\n",
        "from tensorflow.keras.utils import to_categorical"
      ]
    },
    {
      "cell_type": "code",
      "execution_count": 143,
      "metadata": {
        "id": "NInsePV5QKs4"
      },
      "outputs": [],
      "source": [
        "import matplotlib.pyplot as plt\n"
      ]
    },
    {
      "cell_type": "code",
      "execution_count": 144,
      "metadata": {
        "colab": {
          "base_uri": "https://localhost:8080/"
        },
        "id": "PIIwUIB_GWzd",
        "outputId": "53384b02-970e-424e-f2a4-af4c3fcd481a"
      },
      "outputs": [
        {
          "output_type": "stream",
          "name": "stdout",
          "text": [
            "Model: \"sequential_13\"\n",
            "_________________________________________________________________\n",
            " Layer (type)                Output Shape              Param #   \n",
            "=================================================================\n",
            " dense_49 (Dense)            (None, 512)               401920    \n",
            "                                                                 \n",
            " dense_50 (Dense)            (None, 512)               262656    \n",
            "                                                                 \n",
            " dense_51 (Dense)            (None, 10)                5130      \n",
            "                                                                 \n",
            "=================================================================\n",
            "Total params: 669,706\n",
            "Trainable params: 669,706\n",
            "Non-trainable params: 0\n",
            "_________________________________________________________________\n"
          ]
        }
      ],
      "source": [
        "bigger_model = Sequential([\n",
        "    Dense( 512, activation='relu', input_shape=(784,)),\n",
        "    Dense(512, activation='linear'),\n",
        "    Dense(10, activation='softmax')\n",
        "])\n",
        "\n",
        "bigger_model.compile(optimizer='adam',\n",
        "                     loss='categorical_crossentropy',\n",
        "                     metrics=['accuracy'])\n",
        "\n",
        "bigger_model.summary()"
      ]
    },
    {
      "cell_type": "code",
      "execution_count": 145,
      "metadata": {
        "colab": {
          "base_uri": "https://localhost:8080/"
        },
        "id": "FEjAQhBK0g9I",
        "outputId": "82e96fdb-d789-4a7f-90a6-0f9850ac6f65"
      },
      "outputs": [
        {
          "output_type": "stream",
          "name": "stdout",
          "text": [
            "Epoch 1/5\n",
            "24/24 [==============================] - 1s 24ms/step - loss: 1.2550 - accuracy: 0.6560 - val_loss: 0.3950 - val_accuracy: 0.8845\n",
            "Epoch 2/5\n",
            "24/24 [==============================] - 0s 14ms/step - loss: 0.3531 - accuracy: 0.8943 - val_loss: 0.2713 - val_accuracy: 0.9197\n",
            "Epoch 3/5\n",
            "24/24 [==============================] - 0s 15ms/step - loss: 0.2495 - accuracy: 0.9269 - val_loss: 0.2088 - val_accuracy: 0.9400\n",
            "Epoch 4/5\n",
            "24/24 [==============================] - 0s 15ms/step - loss: 0.1946 - accuracy: 0.9429 - val_loss: 0.1746 - val_accuracy: 0.9492\n",
            "Epoch 5/5\n",
            "24/24 [==============================] - 0s 16ms/step - loss: 0.1581 - accuracy: 0.9531 - val_loss: 0.1514 - val_accuracy: 0.9570\n"
          ]
        }
      ],
      "source": [
        "bigger_history = bigger_model.fit( train_images, to_categorical(train_labels,10),\n",
        "                                  epochs=5,\n",
        "                                  batch_size=2000, validation_split=0.2)"
      ]
    },
    {
      "cell_type": "markdown",
      "metadata": {
        "id": "EHMumt30YxTG"
      },
      "source": [
        "Работа на GPU и СPU\n",
        "\n",
        "\n",
        "\n",
        "Строго GPU:"
      ]
    },
    {
      "cell_type": "code",
      "execution_count": 146,
      "metadata": {
        "colab": {
          "base_uri": "https://localhost:8080/"
        },
        "id": "Bhi6IXWR0UFW",
        "outputId": "b3b8e76c-1ca4-4788-879b-e3a2b206184c"
      },
      "outputs": [
        {
          "output_type": "stream",
          "name": "stdout",
          "text": [
            "On GPU:\n",
            "Epoch 1/5\n",
            "24/24 [==============================] - 0s 17ms/step - loss: 0.1327 - accuracy: 0.9613 - val_loss: 0.1377 - val_accuracy: 0.9603\n",
            "Epoch 2/5\n",
            "24/24 [==============================] - 0s 14ms/step - loss: 0.1135 - accuracy: 0.9668 - val_loss: 0.1273 - val_accuracy: 0.9625\n",
            "Epoch 3/5\n",
            "24/24 [==============================] - 0s 14ms/step - loss: 0.1006 - accuracy: 0.9704 - val_loss: 0.1108 - val_accuracy: 0.9672\n",
            "Epoch 4/5\n",
            "24/24 [==============================] - 0s 14ms/step - loss: 0.0856 - accuracy: 0.9753 - val_loss: 0.1106 - val_accuracy: 0.9676\n",
            "Epoch 5/5\n",
            "24/24 [==============================] - 0s 15ms/step - loss: 0.0775 - accuracy: 0.9777 - val_loss: 0.1076 - val_accuracy: 0.9676\n"
          ]
        }
      ],
      "source": [
        "print(\"On GPU:\")\n",
        "with tf.device(\"GPU:0\"):\n",
        "  \n",
        "  bigger_history = bigger_model.fit( train_images, to_categorical(train_labels,10),\n",
        "  epochs=5,\n",
        "  batch_size=2000, validation_split=0.2)"
      ]
    },
    {
      "cell_type": "markdown",
      "metadata": {
        "id": "d0HvzbRm1Nys"
      },
      "source": [
        "Строго CPU:"
      ]
    },
    {
      "cell_type": "code",
      "execution_count": 147,
      "metadata": {
        "colab": {
          "base_uri": "https://localhost:8080/"
        },
        "id": "UmAqbArVIkl9",
        "outputId": "d4696e1b-51ff-4957-ba0f-2f5b5bc583f0"
      },
      "outputs": [
        {
          "output_type": "stream",
          "name": "stdout",
          "text": [
            "On CPU:\n",
            "Epoch 1/5\n",
            "24/24 [==============================] - 3s 135ms/step - loss: 0.0705 - accuracy: 0.9794 - val_loss: 0.1005 - val_accuracy: 0.9694\n",
            "Epoch 2/5\n",
            "24/24 [==============================] - 3s 130ms/step - loss: 0.0609 - accuracy: 0.9823 - val_loss: 0.0967 - val_accuracy: 0.9705\n",
            "Epoch 3/5\n",
            "24/24 [==============================] - 3s 135ms/step - loss: 0.0526 - accuracy: 0.9843 - val_loss: 0.0941 - val_accuracy: 0.9716\n",
            "Epoch 4/5\n",
            "24/24 [==============================] - 3s 134ms/step - loss: 0.0459 - accuracy: 0.9871 - val_loss: 0.0910 - val_accuracy: 0.9724\n",
            "Epoch 5/5\n",
            "24/24 [==============================] - 3s 133ms/step - loss: 0.0425 - accuracy: 0.9886 - val_loss: 0.0915 - val_accuracy: 0.9720\n"
          ]
        }
      ],
      "source": [
        "print(\"On CPU:\")\n",
        "with tf.device(\"CPU:0\"):\n",
        "  \n",
        "  bigger_history = bigger_model.fit( train_images, to_categorical(train_labels,10),\n",
        "  epochs=5,\n",
        "  batch_size=2000, validation_split=0.2)\n"
      ]
    },
    {
      "cell_type": "code",
      "execution_count": 148,
      "metadata": {
        "colab": {
          "base_uri": "https://localhost:8080/",
          "height": 295
        },
        "id": "8RzpMwruRFdS",
        "outputId": "98f9eb23-c7b2-4c3e-8604-55a8869ba641"
      },
      "outputs": [
        {
          "output_type": "display_data",
          "data": {
            "image/png": "[encoded data removed]",
            "text/plain": [
              "<Figure size 432x288 with 1 Axes>"
            ]
          },
          "metadata": {
            "needs_background": "light"
          }
        }
      ],
      "source": [
        "plt.plot(bigger_history.history['val_accuracy'] ,label='val')\n",
        "plt.plot(bigger_history.history['accuracy'] ,label='train')\n",
        "plt.legend()\n",
        "plt.xlabel('epoch')\n",
        "plt.ylabel('accuracy')\n",
        "plt.title('точность сети от эпох')\n",
        "plt.grid()\n",
        "plt.show()"
      ]
    },
    {
      "cell_type": "markdown",
      "metadata": {
        "id": "exJ9iaLC1Uuo"
      },
      "source": [
        "Выбрать из возможностей CPU/GPU"
      ]
    },
    {
      "cell_type": "code",
      "execution_count": 149,
      "metadata": {
        "colab": {
          "base_uri": "https://localhost:8080/"
        },
        "id": "d2EKg1rQXGJl",
        "outputId": "cf36c834-6723-491e-a658-e632206cca9f"
      },
      "outputs": [
        {
          "output_type": "stream",
          "name": "stdout",
          "text": [
            "  GPU:\n",
            "24/24 [==============================] - 0s 18ms/step - loss: 0.0388 - accuracy: 0.9893 - val_loss: 0.0945 - val_accuracy: 0.9695\n"
          ]
        }
      ],
      "source": [
        "# исполнение на GPU #0 , если доступен\n",
        "if tf.config.experimental.list_physical_devices(\"GPU\"):\n",
        "  print(\"  GPU:\")\n",
        "  with tf.device(\"GPU:0\"): # или GPU:1 , для 2х GPU, GPU:2 для 3х  и т.д.\n",
        "    \n",
        "    bigger_model.fit( train_images, to_categorical(train_labels,10), epochs=1,batch_size=2000, validation_split=0.2)"
      ]
    },
    {
      "cell_type": "code",
      "execution_count": 150,
      "metadata": {
        "colab": {
          "base_uri": "https://localhost:8080/"
        },
        "id": "1RIX-mfy4WPb",
        "outputId": "9b0294b8-6843-4fff-dc2d-94ce745ec1c9"
      },
      "outputs": [
        {
          "output_type": "stream",
          "name": "stdout",
          "text": [
            "Epoch 1/5\n",
            "24/24 [==============================] - 0s 17ms/step - loss: 0.0359 - accuracy: 0.9901 - val_loss: 0.0885 - val_accuracy: 0.9732\n",
            "Epoch 2/5\n",
            "24/24 [==============================] - 0s 14ms/step - loss: 0.0341 - accuracy: 0.9906 - val_loss: 0.0930 - val_accuracy: 0.9712\n",
            "Epoch 3/5\n",
            "24/24 [==============================] - 0s 13ms/step - loss: 0.0312 - accuracy: 0.9915 - val_loss: 0.0876 - val_accuracy: 0.9746\n",
            "Epoch 4/5\n",
            "24/24 [==============================] - 0s 13ms/step - loss: 0.0247 - accuracy: 0.9940 - val_loss: 0.0872 - val_accuracy: 0.9738\n",
            "Epoch 5/5\n",
            "24/24 [==============================] - 0s 13ms/step - loss: 0.0256 - accuracy: 0.9934 - val_loss: 0.0852 - val_accuracy: 0.9748\n"
          ]
        }
      ],
      "source": [
        "bigger_history = bigger_model.fit( train_images, to_categorical(train_labels,10),\n",
        "                                  epochs=5,\n",
        "                                  batch_size=2000, validation_split=0.2)"
      ]
    },
    {
      "cell_type": "markdown",
      "metadata": {
        "id": "gHGTGmIGY_bW"
      },
      "source": [
        "Построим еще моделей"
      ]
    },
    {
      "cell_type": "code",
      "execution_count": 151,
      "metadata": {
        "colab": {
          "base_uri": "https://localhost:8080/"
        },
        "id": "2Zm-TPIKO-Y_",
        "outputId": "13364e25-a10c-440e-8a4c-12eab142c5a2"
      },
      "outputs": [
        {
          "output_type": "stream",
          "name": "stdout",
          "text": [
            "Epoch 1/5\n",
            "24/24 [==============================] - 1s 21ms/step - loss: 1.1691 - accuracy: 0.6707 - val_loss: 0.3976 - val_accuracy: 0.8841\n",
            "Epoch 2/5\n",
            "24/24 [==============================] - 0s 13ms/step - loss: 0.3498 - accuracy: 0.8968 - val_loss: 0.2707 - val_accuracy: 0.9205\n",
            "Epoch 3/5\n",
            "24/24 [==============================] - 0s 14ms/step - loss: 0.2542 - accuracy: 0.9261 - val_loss: 0.2145 - val_accuracy: 0.9386\n",
            "Epoch 4/5\n",
            "24/24 [==============================] - 0s 13ms/step - loss: 0.2011 - accuracy: 0.9415 - val_loss: 0.1771 - val_accuracy: 0.9509\n",
            "Epoch 5/5\n",
            "24/24 [==============================] - 0s 13ms/step - loss: 0.1629 - accuracy: 0.9532 - val_loss: 0.1522 - val_accuracy: 0.9583\n"
          ]
        }
      ],
      "source": [
        "bigger_model2 = Sequential([\n",
        "    Dense(512, activation='relu', input_shape=(784,)),\n",
        "    Dense(512, activation='linear'),\n",
        "    Dense(10, activation='softmax')\n",
        "])\n",
        "\n",
        "bigger_model2.compile(optimizer='adam',\n",
        "                     loss='categorical_crossentropy',\n",
        "                     metrics=['accuracy'])\n",
        "\n",
        "bigger_history2 = bigger_model2.fit( train_images, to_categorical(train_labels,10),\n",
        "  epochs=5,\n",
        "  batch_size=2000, validation_split=0.2\n",
        ")"
      ]
    },
    {
      "cell_type": "code",
      "execution_count": 152,
      "metadata": {
        "colab": {
          "base_uri": "https://localhost:8080/",
          "height": 295
        },
        "id": "PhX7tQdBSOI5",
        "outputId": "6bf0cecf-64e8-4ce3-e0cd-36888c962e20"
      },
      "outputs": [
        {
          "output_type": "display_data",
          "data": {
            "image/png": "[encoded data removed]",
            "text/plain": [
              "<Figure size 432x288 with 1 Axes>"
            ]
          },
          "metadata": {
            "needs_background": "light"
          }
        }
      ],
      "source": [
        "plt.plot(bigger_history2.history['val_accuracy'] ,label='val')\n",
        "plt.plot(bigger_history2.history['accuracy'] ,label='train')\n",
        "plt.legend()\n",
        "plt.xlabel('epoch')\n",
        "plt.ylabel('accuracy')\n",
        "plt.title('точность сети от эпох')\n",
        "plt.grid()\n",
        "plt.show()"
      ]
    },
    {
      "cell_type": "markdown",
      "metadata": {
        "id": "bAu48rK-ZEPe"
      },
      "source": [
        "И еще одну"
      ]
    },
    {
      "cell_type": "code",
      "execution_count": 153,
      "metadata": {
        "colab": {
          "base_uri": "https://localhost:8080/"
        },
        "id": "o7Q0qQIxPg0q",
        "outputId": "9a3283b4-228a-4652-c12d-e98d6527d29b"
      },
      "outputs": [
        {
          "output_type": "stream",
          "name": "stdout",
          "text": [
            "Epoch 1/5\n",
            "24/24 [==============================] - 0s 16ms/step - loss: 0.1367 - accuracy: 0.9612 - val_loss: 0.1371 - val_accuracy: 0.9617\n",
            "Epoch 2/5\n",
            "24/24 [==============================] - 0s 12ms/step - loss: 0.1142 - accuracy: 0.9678 - val_loss: 0.1266 - val_accuracy: 0.9620\n",
            "Epoch 3/5\n",
            "24/24 [==============================] - 0s 12ms/step - loss: 0.0981 - accuracy: 0.9721 - val_loss: 0.1151 - val_accuracy: 0.9678\n",
            "Epoch 4/5\n",
            "24/24 [==============================] - 0s 12ms/step - loss: 0.0852 - accuracy: 0.9764 - val_loss: 0.1038 - val_accuracy: 0.9698\n",
            "Epoch 5/5\n",
            "24/24 [==============================] - 0s 12ms/step - loss: 0.0742 - accuracy: 0.9790 - val_loss: 0.1023 - val_accuracy: 0.9701\n"
          ]
        }
      ],
      "source": [
        "bigger_history3 = bigger_model2.fit( train_images, to_categorical(train_labels,10),\n",
        "  epochs=5,\n",
        "  batch_size=2000, validation_split=0.2\n",
        ")"
      ]
    },
    {
      "cell_type": "code",
      "execution_count": 154,
      "metadata": {
        "colab": {
          "base_uri": "https://localhost:8080/",
          "height": 295
        },
        "id": "Rv6N5eMcRAQ_",
        "outputId": "9f6d58bb-6860-43be-cb59-92e9edacf4c4"
      },
      "outputs": [
        {
          "output_type": "display_data",
          "data": {
            "image/png": "[encoded data removed]",
            "text/plain": [
              "<Figure size 432x288 with 1 Axes>"
            ]
          },
          "metadata": {
            "needs_background": "light"
          }
        }
      ],
      "source": [
        "plt.plot(bigger_history3.history['val_accuracy'] ,label='val')\n",
        "plt.plot(bigger_history3.history['accuracy'] ,label='train')\n",
        "plt.legend()\n",
        "plt.xlabel('epoch')\n",
        "plt.ylabel('accuracy')\n",
        "plt.title('точность сети от эпох')\n",
        "plt.grid()\n",
        "plt.show()"
      ]
    },
    {
      "cell_type": "code",
      "execution_count": 155,
      "metadata": {
        "colab": {
          "base_uri": "https://localhost:8080/"
        },
        "id": "bzdqOaHfPnqU",
        "outputId": "6663133b-4769-4443-a5ab-17cf1ee66c05"
      },
      "outputs": [
        {
          "output_type": "stream",
          "name": "stdout",
          "text": [
            "Epoch 1/15\n",
            "24/24 [==============================] - 0s 17ms/step - loss: 0.0689 - accuracy: 0.9802 - val_loss: 0.1121 - val_accuracy: 0.9668\n",
            "Epoch 2/15\n",
            "24/24 [==============================] - 0s 13ms/step - loss: 0.0637 - accuracy: 0.9813 - val_loss: 0.0960 - val_accuracy: 0.9710\n",
            "Epoch 3/15\n",
            "24/24 [==============================] - 0s 14ms/step - loss: 0.0541 - accuracy: 0.9849 - val_loss: 0.0934 - val_accuracy: 0.9721\n",
            "Epoch 4/15\n",
            "24/24 [==============================] - 0s 13ms/step - loss: 0.0464 - accuracy: 0.9872 - val_loss: 0.0908 - val_accuracy: 0.9728\n",
            "Epoch 5/15\n",
            "24/24 [==============================] - 0s 14ms/step - loss: 0.0428 - accuracy: 0.9878 - val_loss: 0.0871 - val_accuracy: 0.9736\n",
            "Epoch 6/15\n",
            "24/24 [==============================] - 0s 11ms/step - loss: 0.0364 - accuracy: 0.9904 - val_loss: 0.0887 - val_accuracy: 0.9749\n",
            "Epoch 7/15\n",
            "24/24 [==============================] - 0s 13ms/step - loss: 0.0342 - accuracy: 0.9906 - val_loss: 0.0912 - val_accuracy: 0.9726\n",
            "Epoch 8/15\n",
            "24/24 [==============================] - 0s 11ms/step - loss: 0.0301 - accuracy: 0.9923 - val_loss: 0.0903 - val_accuracy: 0.9732\n",
            "Epoch 9/15\n",
            "24/24 [==============================] - 0s 13ms/step - loss: 0.0290 - accuracy: 0.9925 - val_loss: 0.0884 - val_accuracy: 0.9742\n",
            "Epoch 10/15\n",
            "24/24 [==============================] - 0s 13ms/step - loss: 0.0265 - accuracy: 0.9934 - val_loss: 0.0883 - val_accuracy: 0.9749\n",
            "Epoch 11/15\n",
            "24/24 [==============================] - 0s 12ms/step - loss: 0.0225 - accuracy: 0.9945 - val_loss: 0.0861 - val_accuracy: 0.9768\n",
            "Epoch 12/15\n",
            "24/24 [==============================] - 0s 13ms/step - loss: 0.0193 - accuracy: 0.9956 - val_loss: 0.0911 - val_accuracy: 0.9741\n",
            "Epoch 13/15\n",
            "24/24 [==============================] - 0s 11ms/step - loss: 0.0179 - accuracy: 0.9958 - val_loss: 0.0876 - val_accuracy: 0.9752\n",
            "Epoch 14/15\n",
            "24/24 [==============================] - 0s 12ms/step - loss: 0.0154 - accuracy: 0.9971 - val_loss: 0.0862 - val_accuracy: 0.9759\n",
            "Epoch 15/15\n",
            "24/24 [==============================] - 0s 13ms/step - loss: 0.0129 - accuracy: 0.9980 - val_loss: 0.0864 - val_accuracy: 0.9764\n"
          ]
        }
      ],
      "source": [
        "bigger_history3 = bigger_model2.fit( train_images, to_categorical(train_labels,10),\n",
        "  epochs=15,\n",
        "  batch_size=2000, validation_split=0.2\n",
        ")"
      ]
    },
    {
      "cell_type": "code",
      "execution_count": 156,
      "metadata": {
        "colab": {
          "base_uri": "https://localhost:8080/",
          "height": 295
        },
        "id": "-YIEb3PpQGLF",
        "outputId": "70b56410-987d-426f-e139-7ebfcd17e017"
      },
      "outputs": [
        {
          "output_type": "display_data",
          "data": {
            "image/png": "[encoded data removed]",
            "text/plain": [
              "<Figure size 432x288 with 1 Axes>"
            ]
          },
          "metadata": {
            "needs_background": "light"
          }
        }
      ],
      "source": [
        "plt.plot(bigger_history3.history['val_accuracy'] ,label='val')\n",
        "plt.plot(bigger_history3.history['accuracy'] ,label='train')\n",
        "plt.legend()\n",
        "plt.xlabel('epoch')\n",
        "plt.ylabel('accuracy')\n",
        "plt.title('точность сети от эпох')\n",
        "plt.grid()\n",
        "plt.show()"
      ]
    },
    {
      "cell_type": "markdown",
      "metadata": {
        "id": "ubaqhSOiTj9R"
      },
      "source": [
        "### Оптимизаторы"
      ]
    },
    {
      "cell_type": "code",
      "execution_count": 157,
      "metadata": {
        "id": "5g3px8aXXse6"
      },
      "outputs": [],
      "source": [
        "from tensorflow.keras.optimizers import Adam, SGD, RMSprop, Adagrad"
      ]
    },
    {
      "cell_type": "code",
      "execution_count": 158,
      "metadata": {
        "colab": {
          "base_uri": "https://localhost:8080/",
          "height": 295
        },
        "id": "51b163fhReiz",
        "outputId": "8d3792a7-d6cf-42af-971d-065e4b63da9f"
      },
      "outputs": [
        {
          "output_type": "display_data",
          "data": {
            "image/png": "[encoded data removed]",
            "text/plain": [
              "<Figure size 432x288 with 1 Axes>"
            ]
          },
          "metadata": {
            "needs_background": "light"
          }
        }
      ],
      "source": [
        "for i in [0,1,2,3,4]:\n",
        "  bigger_model4 = Sequential([\n",
        "                              Dense(512, activation='relu', input_shape=(784,)),\n",
        "                              Dense(512, activation='linear'),\n",
        "                              Dense(10, activation='sigmoid')\n",
        "                              ])\n",
        "\n",
        "  bigger_model4.compile(optimizer='sgd',\n",
        "                        loss='categorical_crossentropy',\n",
        "                        metrics=['accuracy'])\n",
        "\n",
        "  bigger_history4 = bigger_model4.fit( train_images, to_categorical(train_labels,10),epochs=5,\n",
        "                                        batch_size=20000, validation_split=0.2, verbose = 0\n",
        "                                      )\n",
        "  plt.plot(bigger_history4.history['val_accuracy'],'.' )\n",
        "  plt.plot(bigger_history4.history['accuracy'] )\n",
        "plt.plot(bigger_history4.history['val_accuracy'],'.' ,label='val')\n",
        "plt.plot(bigger_history4.history['accuracy'] ,label='train')\n",
        "plt.grid()\n",
        "plt.legend()\n",
        "plt.xlabel('epoch')\n",
        "plt.ylabel('accuracy')\n",
        "plt.title('точность сети от эпох')\n",
        "plt.show()"
      ]
    },
    {
      "cell_type": "markdown",
      "metadata": {
        "id": "clLQq9qsUbuo"
      },
      "source": [
        "Параметры оптимизаторов\n",
        "\n",
        "\n",
        "Задача на один класс: to_categorical(train_labels,10)[:,0] "
      ]
    },
    {
      "cell_type": "code",
      "execution_count": 159,
      "metadata": {
        "colab": {
          "base_uri": "https://localhost:8080/",
          "height": 295
        },
        "id": "yjjhpVRlXn04",
        "outputId": "669572a4-6944-4781-f323-148b8f7225b0"
      },
      "outputs": [
        {
          "output_type": "display_data",
          "data": {
            "image/png": "[encoded data removed]",
            "text/plain": [
              "<Figure size 432x288 with 1 Axes>"
            ]
          },
          "metadata": {
            "needs_background": "light"
          }
        }
      ],
      "source": [
        "for i in [0,1]:\n",
        "  bigger_model4 = Sequential([\n",
        "                              Dense(512, activation='relu', input_shape=(784,)),\n",
        "                              Dense(512, activation='linear'),\n",
        "                              Dense(1, activation='sigmoid')  # нейронов на выходе 1 - для одного класса один выход ( бинарный классификатор)\n",
        "                              ])\n",
        "\n",
        "  bigger_model4.compile(optimizer= Adam(learning_rate=0.0001+0.01*i, beta_1=0.89) ,\n",
        "                        loss='binary_crossentropy',\n",
        "                        metrics=['accuracy'])\n",
        "\n",
        "  bigger_history4 = bigger_model4.fit( train_images, to_categorical(train_labels,10)[:,0],epochs=5,\n",
        "                                        batch_size=200, validation_split=0.2, verbose = 0\n",
        "                                      )\n",
        "  plt.plot(bigger_history4.history['val_accuracy'],'.',label='val lr(' +str(0.0001+0.01*i)+')')\n",
        "  plt.plot(bigger_history4.history['accuracy'] ,label='train lr(' +str(0.0001+0.01*i)+')')\n",
        "\n",
        "plt.legend()\n",
        "plt.xlabel('epoch')\n",
        "plt.ylabel('accuracy')\n",
        "plt.title('точность сети от эпох')\n",
        "plt.grid()\n",
        "plt.show()"
      ]
    },
    {
      "cell_type": "code",
      "execution_count": 160,
      "metadata": {
        "id": "Uzm1sfR8nE9i"
      },
      "outputs": [],
      "source": [
        "bigger_history4 = bigger_model4.fit( train_images, to_categorical(train_labels,10)[:,0],epochs=5,\n",
        "                                        batch_size=200, validation_split=0.2, verbose = 0\n",
        "                                      )"
      ]
    },
    {
      "cell_type": "markdown",
      "metadata": {
        "id": "jYysdyb-CaWM"
      },
      "source": [
        "# Классификация изображений одежды"
      ]
    },
    {
      "cell_type": "markdown",
      "metadata": {
        "id": "FbVhjPpzn6BM"
      },
      "source": [
        "Давайте разберем использование tensorflow 2 на примере датасета с одеждой. В это датасете будут находиться маленькие изображения на белом фоне, такие как кросовки, футболки и прочее.\n",
        "\n",
        "В данном случае мы будем использовать High API от TensorFlow"
      ]
    },
    {
      "cell_type": "code",
      "execution_count": 161,
      "metadata": {
        "colab": {
          "base_uri": "https://localhost:8080/"
        },
        "id": "dzLKpmZICaWN",
        "outputId": "858d0f7a-0ab0-4f07-f4bb-aeb6ee541583"
      },
      "outputs": [
        {
          "output_type": "stream",
          "name": "stdout",
          "text": [
            "2.7.0\n"
          ]
        }
      ],
      "source": [
        "from __future__ import absolute_import, division, print_function, unicode_literals\n",
        "\n",
        "# TensorFlow and tf.keras\n",
        "\n",
        "from tensorflow import keras\n",
        "\n",
        "# Helper libraries\n",
        "import numpy as np\n",
        "import matplotlib.pyplot as plt\n",
        "\n",
        "print(tf.__version__)"
      ]
    },
    {
      "cell_type": "markdown",
      "metadata": {
        "id": "yR0EdgrLCaWR"
      },
      "source": [
        "## Импортируем Fashion MNIST датасет"
      ]
    },
    {
      "cell_type": "markdown",
      "metadata": {
        "id": "DLdCchMdCaWQ"
      },
      "source": [
        "Мы будет использовать следующий датасет -  [Fashion MNIST](https://github.com/zalandoresearch/fashion-mnist) Этот датасет содержит 70,000 черно-белых изображений в 10 категориях. Изображения имеют разрешение 28x28 пикселей.\n",
        "\n",
        "<table>\n",
        "  <tr><td>\n",
        "    <img src=\"https://tensorflow.org/images/fashion-mnist-sprite.png\"\n",
        "         alt=\"Fashion MNIST sprite\"  width=\"600\">\n",
        "  </td></tr>\n",
        "  <tr><td align=\"center\">\n",
        "    <b>Figure 1.</b> <a href=\"https://github.com/zalandoresearch/fashion-mnist\">Fashion-MNIST samples</a> (by Zalando, MIT License).<br/>&nbsp;\n",
        "  </td></tr>\n",
        "</table>\n",
        "\n",
        "Долгое время в машинном обучение для программ Hello world использовался датасет MNIST с рукописными цифрами. Данный датасет призван несколько усложнить задачу распознования но также подходит в качестве программы Hello world.\n",
        "\n",
        "В этом датасете 60 000 тренировочных изображений и 10 000 тестовых."
      ]
    },
    {
      "cell_type": "code",
      "execution_count": 162,
      "metadata": {
        "id": "7MqDQO0KCaWS"
      },
      "outputs": [],
      "source": [
        "fashion_mnist = keras.datasets.fashion_mnist\n",
        "\n",
        "(train_images, train_labels), (test_images, test_labels) = fashion_mnist.load_data()"
      ]
    },
    {
      "cell_type": "markdown",
      "metadata": {
        "id": "t9FDsUlxCaWW"
      },
      "source": [
        "Датасет содержит следующие классы:\n",
        "\n",
        "<table>\n",
        "  <tr>\n",
        "    <th>Label</th>\n",
        "    <th>Class</th>\n",
        "  </tr>\n",
        "  <tr>\n",
        "    <td>0</td>\n",
        "    <td>T-shirt/top</td>\n",
        "  </tr>\n",
        "  <tr>\n",
        "    <td>1</td>\n",
        "    <td>Trouser</td>\n",
        "  </tr>\n",
        "    <tr>\n",
        "    <td>2</td>\n",
        "    <td>Pullover</td>\n",
        "  </tr>\n",
        "    <tr>\n",
        "    <td>3</td>\n",
        "    <td>Dress</td>\n",
        "  </tr>\n",
        "    <tr>\n",
        "    <td>4</td>\n",
        "    <td>Coat</td>\n",
        "  </tr>\n",
        "    <tr>\n",
        "    <td>5</td>\n",
        "    <td>Sandal</td>\n",
        "  </tr>\n",
        "    <tr>\n",
        "    <td>6</td>\n",
        "    <td>Shirt</td>\n",
        "  </tr>\n",
        "    <tr>\n",
        "    <td>7</td>\n",
        "    <td>Sneaker</td>\n",
        "  </tr>\n",
        "    <tr>\n",
        "    <td>8</td>\n",
        "    <td>Bag</td>\n",
        "  </tr>\n",
        "    <tr>\n",
        "    <td>9</td>\n",
        "    <td>Ankle boot</td>\n",
        "  </tr>\n",
        "</table>\n",
        "\n",
        "Каждому классу обозначенному цифрой мы можем присвоить текстовое значение -"
      ]
    },
    {
      "cell_type": "code",
      "execution_count": 163,
      "metadata": {
        "id": "IjnLH5S2CaWx"
      },
      "outputs": [],
      "source": [
        "class_names = ['T-shirt/top', 'Trouser', 'Pullover', 'Dress', 'Coat',\n",
        "               'Sandal', 'Shirt', 'Sneaker', 'Bag', 'Ankle boot']"
      ]
    },
    {
      "cell_type": "markdown",
      "metadata": {
        "id": "Brm0b_KACaWX"
      },
      "source": [
        "## Анализ датасета \n",
        "\n",
        "Давайте посмотрим структуры полученного массива данных:"
      ]
    },
    {
      "cell_type": "code",
      "execution_count": 164,
      "metadata": {
        "colab": {
          "base_uri": "https://localhost:8080/"
        },
        "id": "zW5k_xz1CaWX",
        "outputId": "3339f171-8bab-4d8d-8344-20b2fa3463ec"
      },
      "outputs": [
        {
          "output_type": "execute_result",
          "data": {
            "text/plain": [
              "(60000, 28, 28)"
            ]
          },
          "metadata": {},
          "execution_count": 164
        }
      ],
      "source": [
        "train_images.shape"
      ]
    },
    {
      "cell_type": "code",
      "execution_count": 165,
      "metadata": {
        "colab": {
          "base_uri": "https://localhost:8080/"
        },
        "id": "TRFYHB2mCaWb",
        "outputId": "e91743ff-b57c-4d0e-b502-bc8d4d655c22"
      },
      "outputs": [
        {
          "output_type": "execute_result",
          "data": {
            "text/plain": [
              "60000"
            ]
          },
          "metadata": {},
          "execution_count": 165
        }
      ],
      "source": [
        "len(train_labels)"
      ]
    },
    {
      "cell_type": "code",
      "execution_count": 166,
      "metadata": {
        "colab": {
          "base_uri": "https://localhost:8080/"
        },
        "id": "XKnCTHz4CaWg",
        "outputId": "670f1bd5-f3ce-4702-a28d-46dfd503b771"
      },
      "outputs": [
        {
          "output_type": "execute_result",
          "data": {
            "text/plain": [
              "array([9, 0, 0, ..., 3, 0, 5], dtype=uint8)"
            ]
          },
          "metadata": {},
          "execution_count": 166
        }
      ],
      "source": [
        "train_labels"
      ]
    },
    {
      "cell_type": "markdown",
      "metadata": {
        "id": "TMPI88iZpO2T"
      },
      "source": [
        "Проанализируем тестовую выборку:"
      ]
    },
    {
      "cell_type": "code",
      "execution_count": 167,
      "metadata": {
        "colab": {
          "base_uri": "https://localhost:8080/"
        },
        "id": "2KFnYlcwCaWl",
        "outputId": "a64e8939-5885-40e9-a298-43e40fbe8a28"
      },
      "outputs": [
        {
          "output_type": "execute_result",
          "data": {
            "text/plain": [
              "(10000, 28, 28)"
            ]
          },
          "metadata": {},
          "execution_count": 167
        }
      ],
      "source": [
        "test_images.shape"
      ]
    },
    {
      "cell_type": "code",
      "execution_count": 168,
      "metadata": {
        "colab": {
          "base_uri": "https://localhost:8080/"
        },
        "id": "iJmPr5-ACaWn",
        "outputId": "fec9fa33-29af-4181-c822-c5e5b5106233"
      },
      "outputs": [
        {
          "output_type": "execute_result",
          "data": {
            "text/plain": [
              "10000"
            ]
          },
          "metadata": {},
          "execution_count": 168
        }
      ],
      "source": [
        "len(test_labels)"
      ]
    },
    {
      "cell_type": "code",
      "execution_count": 169,
      "metadata": {
        "id": "1PHqiEKY8Ktu"
      },
      "outputs": [],
      "source": [
        "y_train_labels = to_categorical(train_labels)\n",
        "y_test_labels = to_categorical(test_labels)"
      ]
    },
    {
      "cell_type": "markdown",
      "metadata": {
        "id": "ES6uQoLKCaWr"
      },
      "source": [
        "## Preprocess the data\n",
        "\n",
        "Давайте взглянем на конкретный пример изображений с помощью matplotlib:"
      ]
    },
    {
      "cell_type": "code",
      "execution_count": 170,
      "metadata": {
        "colab": {
          "base_uri": "https://localhost:8080/",
          "height": 265
        },
        "id": "m4VEw8Ud9Quh",
        "outputId": "6c9c31d1-5368-4df7-a100-1c2d975b4951"
      },
      "outputs": [
        {
          "output_type": "display_data",
          "data": {
            "image/png": "[encoded data removed]",
            "text/plain": [
              "<Figure size 432x288 with 2 Axes>"
            ]
          },
          "metadata": {
            "needs_background": "light"
          }
        }
      ],
      "source": [
        "plt.figure()\n",
        "plt.imshow(train_images[0])\n",
        "plt.colorbar()\n",
        "plt.grid(False)\n",
        "plt.show()"
      ]
    },
    {
      "cell_type": "markdown",
      "metadata": {
        "id": "Wz7l27Lz9S1P"
      },
      "source": [
        "Для процесса обучения нейронной сети нам важно перевести данные из диапазона от 0 до 255 в диапазон от 0 до 1:"
      ]
    },
    {
      "cell_type": "code",
      "execution_count": 171,
      "metadata": {
        "id": "bW5WzIPlCaWv"
      },
      "outputs": [],
      "source": [
        "train_images = train_images / 255.0\n",
        "\n",
        "test_images = test_images / 255.0"
      ]
    },
    {
      "cell_type": "markdown",
      "metadata": {
        "id": "Ee638AlnCaWz"
      },
      "source": [
        "Посмотрим первые 25 изображений:"
      ]
    },
    {
      "cell_type": "code",
      "execution_count": 172,
      "metadata": {
        "colab": {
          "base_uri": "https://localhost:8080/",
          "height": 589
        },
        "id": "oZTImqg_CaW1",
        "outputId": "35ac02c3-8520-4785-9b7e-a6c1a34e2ecb"
      },
      "outputs": [
        {
          "output_type": "display_data",
          "data": {
            "image/png": "[encoded data removed]",
            "text/plain": [
              "<Figure size 720x720 with 25 Axes>"
            ]
          },
          "metadata": {}
        }
      ],
      "source": [
        "plt.figure(figsize=(10,10))\n",
        "for i in range(25):\n",
        "    plt.subplot(5,5,i+1)\n",
        "    plt.xticks([])\n",
        "    plt.yticks([])\n",
        "    plt.grid(False)\n",
        "    plt.imshow(train_images[i], cmap=plt.cm.binary)\n",
        "    plt.xlabel(class_names[train_labels[i]])\n",
        "plt.show()"
      ]
    },
    {
      "cell_type": "markdown",
      "metadata": {
        "id": "59veuiEZCaW4"
      },
      "source": [
        "## Построение модели\n",
        "\n",
        "Построение нейронной сети подразумевает конфигурацию ее слоев и последующую компиляцию."
      ]
    },
    {
      "cell_type": "markdown",
      "metadata": {
        "id": "Gxg1XGm0eOBy"
      },
      "source": [
        "### Определение слоев\n",
        "\n",
        "Давайте создадим 3 слоя нейронной сети с помощью функционала Keras.layers"
      ]
    },
    {
      "cell_type": "code",
      "execution_count": 173,
      "metadata": {
        "id": "9ODch-OFCaW4"
      },
      "outputs": [],
      "source": [
        "model = keras.Sequential([\n",
        "    keras.layers.Flatten(input_shape=(28, 28)),\n",
        "    keras.layers.Dense(128, activation='relu'),\n",
        "    keras.layers.Dense(10)\n",
        "])"
      ]
    },
    {
      "cell_type": "markdown",
      "metadata": {
        "id": "SPGsEc5l4_8J"
      },
      "source": [
        "Соберем модель в функциональной форме (функциональное API Keras) \n",
        "\n",
        "Сеть собираем как последовательности соединей узлов:\n",
        " \n",
        " вход -> слой 1 -> слой 2 -> выход\n",
        "\n",
        " связь идет через тензоры"
      ]
    },
    {
      "cell_type": "code",
      "execution_count": 174,
      "metadata": {
        "id": "bSwpguOgo66i"
      },
      "outputs": [],
      "source": [
        "from tensorflow.keras.layers import Input, Flatten\n",
        "from tensorflow.keras.models import Model\n",
        "import tensorflow"
      ]
    },
    {
      "cell_type": "code",
      "execution_count": 175,
      "metadata": {
        "colab": {
          "base_uri": "https://localhost:8080/"
        },
        "id": "pCb24tU45MXG",
        "outputId": "2ddc9a4e-36e8-444c-b5de-bbfe61ff874f"
      },
      "outputs": [
        {
          "output_type": "stream",
          "name": "stdout",
          "text": [
            "Model: \"sequential_22\"\n",
            "_________________________________________________________________\n",
            " Layer (type)                Output Shape              Param #   \n",
            "=================================================================\n",
            " flatten_11 (Flatten)        (None, 784)               0         \n",
            "                                                                 \n",
            " dense_76 (Dense)            (None, 128)               100480    \n",
            "                                                                 \n",
            " dense_77 (Dense)            (None, 10)                1290      \n",
            "                                                                 \n",
            "=================================================================\n",
            "Total params: 101,770\n",
            "Trainable params: 101,770\n",
            "Non-trainable params: 0\n",
            "_________________________________________________________________\n"
          ]
        }
      ],
      "source": [
        "model.summary()"
      ]
    },
    {
      "cell_type": "code",
      "execution_count": 176,
      "metadata": {
        "id": "P9V7ENde4t1S"
      },
      "outputs": [],
      "source": [
        "inputs = Input(shape=(28, 28))\n",
        "x_1 = keras.layers.Flatten()(inputs)\n",
        "x = keras.layers.Dense(128, activation='relu')(x_1)\n",
        "outputs = keras.layers.Dense(10)(x)\n",
        "\n",
        "model = keras.Model(   inputs,outputs)"
      ]
    },
    {
      "cell_type": "code",
      "execution_count": 177,
      "metadata": {
        "colab": {
          "base_uri": "https://localhost:8080/"
        },
        "id": "Cu7Rm7zw6Una",
        "outputId": "a575b1ee-225e-4763-efd1-c550876b7fe2"
      },
      "outputs": [
        {
          "output_type": "stream",
          "name": "stdout",
          "text": [
            "Model: \"model_9\"\n",
            "_________________________________________________________________\n",
            " Layer (type)                Output Shape              Param #   \n",
            "=================================================================\n",
            " input_6 (InputLayer)        [(None, 28, 28)]          0         \n",
            "                                                                 \n",
            " flatten_12 (Flatten)        (None, 784)               0         \n",
            "                                                                 \n",
            " dense_78 (Dense)            (None, 128)               100480    \n",
            "                                                                 \n",
            " dense_79 (Dense)            (None, 10)                1290      \n",
            "                                                                 \n",
            "=================================================================\n",
            "Total params: 101,770\n",
            "Trainable params: 101,770\n",
            "Non-trainable params: 0\n",
            "_________________________________________________________________\n"
          ]
        }
      ],
      "source": [
        "model.summary()"
      ]
    },
    {
      "cell_type": "markdown",
      "metadata": {
        "id": "gut8A_7rCaW6"
      },
      "source": [
        "Первый слой, `tf.keras.layers.Flatten`, трасформирует двумерный массив на входе в одномерный массив.\n",
        "\n",
        "Получившиеся 784(28 x 28) входных нейрона присоединяем к полносвязному слою из 128 нейронов , которые будут использовать функцию активации relu. В выходном слое будет 10 нейронов, по числу классов, которые он должен предсказывать. В нем будет использоваться функция активации softmax и он будет давать предсказание от 0 до 1, где 1 это стопроцентная вероятность.\n",
        "\n",
        "### Компиляция модели\n",
        "\n",
        "Давайте вспомним ключевые понятия, которые нам понадобяться при компиляции:\n",
        "\n",
        "* *Loss function* — меряет как точно работает нейросеть.\n",
        "* *Optimizer* — определяет способ корректировки весов.\n",
        "* *Metrics* — определяет за какие характеристики будут отражаться в процессе обучения."
      ]
    },
    {
      "cell_type": "code",
      "execution_count": 178,
      "metadata": {
        "id": "Lhan11blCaW7"
      },
      "outputs": [],
      "source": [
        "model.compile(optimizer='adam',\n",
        "              loss=tf.keras.losses.CategoricalCrossentropy(from_logits=True),\n",
        "              metrics=['accuracy'])"
      ]
    },
    {
      "cell_type": "markdown",
      "metadata": {
        "id": "qKF6uW-BCaW-"
      },
      "source": [
        "## Тренировка модели\n",
        "\n",
        "Здесь все стандартно - данные передаются в нейросеть и сопоставляются изображения и лейблы.\n",
        "\n"
      ]
    },
    {
      "cell_type": "markdown",
      "metadata": {
        "id": "Z4P4zIV7E28Z"
      },
      "source": [
        "### Передача данных в модель\n",
        "\n",
        "Команда непосредственно запускающая процесс обучения называется - `model.fit`:"
      ]
    },
    {
      "cell_type": "code",
      "execution_count": 179,
      "metadata": {
        "colab": {
          "base_uri": "https://localhost:8080/"
        },
        "id": "xvwvpA64CaW_",
        "outputId": "99b16a8d-278e-430c-f065-ef6755002fde"
      },
      "outputs": [
        {
          "output_type": "stream",
          "name": "stdout",
          "text": [
            "Epoch 1/3\n",
            "600/600 [==============================] - 2s 3ms/step - loss: 0.5405 - accuracy: 0.8157\n",
            "Epoch 2/3\n",
            "600/600 [==============================] - 2s 3ms/step - loss: 0.3982 - accuracy: 0.8595\n",
            "Epoch 3/3\n",
            "600/600 [==============================] - 2s 3ms/step - loss: 0.3593 - accuracy: 0.8713\n"
          ]
        },
        {
          "output_type": "execute_result",
          "data": {
            "text/plain": [
              "<keras.callbacks.History at 0x7f87feb29110>"
            ]
          },
          "metadata": {},
          "execution_count": 179
        }
      ],
      "source": [
        "model.fit(train_images, y_train_labels, epochs=3, batch_size=100)"
      ]
    },
    {
      "cell_type": "code",
      "execution_count": 180,
      "metadata": {
        "colab": {
          "base_uri": "https://localhost:8080/"
        },
        "id": "VflXLEeECaXC",
        "outputId": "b4c50670-f72c-474c-8535-47d97beea4e5"
      },
      "outputs": [
        {
          "output_type": "stream",
          "name": "stdout",
          "text": [
            "313/313 - 1s - loss: 0.3905 - accuracy: 0.8626 - 922ms/epoch - 3ms/step\n",
            "\n",
            "Test accuracy: 0.8626000285148621\n"
          ]
        }
      ],
      "source": [
        "test_loss, test_acc = model.evaluate(test_images,  y_test_labels, verbose=2)\n",
        "\n",
        "print('\\nTest accuracy:', test_acc)"
      ]
    },
    {
      "cell_type": "markdown",
      "metadata": {
        "id": "ThiOOMngFzRw"
      },
      "source": [
        "В выводе выше мы следим за точностью в процессе обучения, проверяем точность на тестовых данных и меняем параметры нейросети если точность на тестовых данных нас не устраивает."
      ]
    },
    {
      "cell_type": "code",
      "execution_count": 181,
      "metadata": {
        "id": "lr_bHCQ8p8rY"
      },
      "outputs": [],
      "source": [
        "y_p = model.predict(test_images[:1,:,:])"
      ]
    },
    {
      "cell_type": "code",
      "execution_count": 182,
      "metadata": {
        "colab": {
          "base_uri": "https://localhost:8080/"
        },
        "id": "X5ZI0O2aqGBs",
        "outputId": "55976ccc-e13e-4eb3-cf81-c7e31bc2299a"
      },
      "outputs": [
        {
          "output_type": "execute_result",
          "data": {
            "text/plain": [
              "array([[-5.554009 , -9.8732195, -5.5777907, -6.8319216, -6.237816 ,\n",
              "         1.4151407, -4.223576 ,  2.3057337, -1.0082465,  4.719064 ]],\n",
              "      dtype=float32)"
            ]
          },
          "metadata": {},
          "execution_count": 182
        }
      ],
      "source": [
        "y_p"
      ]
    },
    {
      "cell_type": "markdown",
      "metadata": {
        "id": "v-PyD1SYE28q"
      },
      "source": [
        "### Предсказания нейросети\n",
        "\n",
        "Команды ниже позволяют проверить работу натренированной ранее нейросети - "
      ]
    },
    {
      "cell_type": "code",
      "execution_count": 183,
      "metadata": {
        "id": "DnfNA0CrQLSD"
      },
      "outputs": [],
      "source": [
        "probability_model = tf.keras.Sequential([model, \n",
        "                                         tf.keras.layers.Softmax()])"
      ]
    },
    {
      "cell_type": "code",
      "execution_count": 184,
      "metadata": {
        "id": "Gl91RPhdCaXI"
      },
      "outputs": [],
      "source": [
        "predictions = probability_model.predict(test_images)"
      ]
    },
    {
      "cell_type": "code",
      "execution_count": 185,
      "metadata": {
        "colab": {
          "base_uri": "https://localhost:8080/"
        },
        "id": "3DmJEUinCaXK",
        "outputId": "8585ad77-302a-4238-cccb-f2f3498dd191"
      },
      "outputs": [
        {
          "output_type": "execute_result",
          "data": {
            "text/plain": [
              "array([3.05832291e-05, 4.07075589e-07, 2.98645700e-05, 8.52105040e-06,\n",
              "       1.54351328e-05, 3.25197279e-02, 1.15686584e-04, 7.92366862e-02,\n",
              "       2.88192788e-03, 8.85161102e-01], dtype=float32)"
            ]
          },
          "metadata": {},
          "execution_count": 185
        }
      ],
      "source": [
        "predictions[0]"
      ]
    },
    {
      "cell_type": "code",
      "execution_count": 186,
      "metadata": {
        "colab": {
          "base_uri": "https://localhost:8080/"
        },
        "id": "qsqenuPnCaXO",
        "outputId": "7932d7fe-a2ae-4688-92c6-87edd753f5ff"
      },
      "outputs": [
        {
          "output_type": "execute_result",
          "data": {
            "text/plain": [
              "9"
            ]
          },
          "metadata": {},
          "execution_count": 186
        }
      ],
      "source": [
        "np.argmax(predictions[0])"
      ]
    },
    {
      "cell_type": "code",
      "execution_count": 187,
      "metadata": {
        "colab": {
          "base_uri": "https://localhost:8080/"
        },
        "id": "Sd7Pgsu6CaXP",
        "outputId": "4926666d-a233-4f84-cce3-8055416d734a"
      },
      "outputs": [
        {
          "output_type": "execute_result",
          "data": {
            "text/plain": [
              "9"
            ]
          },
          "metadata": {},
          "execution_count": 187
        }
      ],
      "source": [
        "test_labels[0]"
      ]
    },
    {
      "cell_type": "code",
      "execution_count": 188,
      "metadata": {
        "id": "DvYmmrpIy6Y1"
      },
      "outputs": [],
      "source": [
        "def plot_image(i, predictions_array, true_label, img):\n",
        "  predictions_array, true_label, img = predictions_array, true_label[i], img[i]\n",
        "  plt.grid(False)\n",
        "  plt.xticks([])\n",
        "  plt.yticks([])\n",
        "\n",
        "  plt.imshow(img, cmap=plt.cm.binary)\n",
        "\n",
        "  predicted_label = np.argmax(predictions_array)\n",
        "  if predicted_label == true_label:\n",
        "    color = 'blue'\n",
        "  else:\n",
        "    color = 'red'\n",
        "\n",
        "  plt.xlabel(\"{} {:2.0f}% ({})\".format(class_names[predicted_label],\n",
        "                                100*np.max(predictions_array),\n",
        "                                class_names[true_label]),\n",
        "                                color=color)\n",
        "\n",
        "def plot_value_array(i, predictions_array, true_label):\n",
        "  predictions_array, true_label = predictions_array, true_label[i]\n",
        "  plt.grid(False)\n",
        "  plt.xticks(range(10))\n",
        "  plt.yticks([])\n",
        "  thisplot = plt.bar(range(10), predictions_array, color=\"#777777\")\n",
        "  plt.ylim([0, 1])\n",
        "  predicted_label = np.argmax(predictions_array)\n",
        "\n",
        "  thisplot[predicted_label].set_color('red')\n",
        "  thisplot[true_label].set_color('blue')"
      ]
    },
    {
      "cell_type": "markdown",
      "metadata": {
        "id": "Zh9yABaME29S"
      },
      "source": [
        "### Проверка предсказаний\n",
        "\n",
        "Matplotlib нам дает возможность посмотреть наше предсказание графически:"
      ]
    },
    {
      "cell_type": "code",
      "execution_count": 189,
      "metadata": {
        "colab": {
          "base_uri": "https://localhost:8080/",
          "height": 211
        },
        "id": "HV5jw-5HwSmO",
        "outputId": "c6d895ee-f9ec-4924-d1ee-5701292f8a9e"
      },
      "outputs": [
        {
          "output_type": "display_data",
          "data": {
            "image/png": "[encoded data removed]",
            "text/plain": [
              "<Figure size 432x216 with 2 Axes>"
            ]
          },
          "metadata": {
            "needs_background": "light"
          }
        }
      ],
      "source": [
        "i = 0\n",
        "plt.figure(figsize=(6,3))\n",
        "plt.subplot(1,2,1)\n",
        "plot_image(i, predictions[i], test_labels, test_images)\n",
        "plt.subplot(1,2,2)\n",
        "plot_value_array(i, predictions[i],  test_labels)\n",
        "plt.show()"
      ]
    },
    {
      "cell_type": "code",
      "execution_count": 190,
      "metadata": {
        "colab": {
          "base_uri": "https://localhost:8080/",
          "height": 211
        },
        "id": "Ko-uzOufSCSe",
        "outputId": "2c331ee9-2e1b-4f20-8553-f2ead1730490"
      },
      "outputs": [
        {
          "output_type": "display_data",
          "data": {
            "image/png": "[encoded data removed]",
            "text/plain": [
              "<Figure size 432x216 with 2 Axes>"
            ]
          },
          "metadata": {
            "needs_background": "light"
          }
        }
      ],
      "source": [
        "i = 11\n",
        "plt.figure(figsize=(6,3))\n",
        "plt.subplot(1,2,1)\n",
        "plot_image(i, predictions[i], test_labels, test_images)\n",
        "plt.subplot(1,2,2)\n",
        "plot_value_array(i, predictions[i],  test_labels)\n",
        "plt.show()"
      ]
    },
    {
      "cell_type": "markdown",
      "metadata": {
        "id": "kgdvGD52CaXR"
      },
      "source": [
        "Давайте сделаем еще несколько предсказаний - "
      ]
    },
    {
      "cell_type": "code",
      "execution_count": 191,
      "metadata": {
        "colab": {
          "base_uri": "https://localhost:8080/",
          "height": 729
        },
        "id": "hQlnbqaw2Qu_",
        "outputId": "2046f84a-c4f7-4d0f-f522-3826d7ebaa49"
      },
      "outputs": [
        {
          "output_type": "display_data",
          "data": {
            "image/png": "[encoded data removed]",
            "text/plain": [
              "<Figure size 864x720 with 30 Axes>"
            ]
          },
          "metadata": {
            "needs_background": "light"
          }
        }
      ],
      "source": [
        "\n",
        "num_rows = 5\n",
        "num_cols = 3\n",
        "num_images = num_rows*num_cols\n",
        "plt.figure(figsize=(2*2*num_cols, 2*num_rows))\n",
        "for i in range(num_images):\n",
        "  plt.subplot(num_rows, 2*num_cols, 2*i+1)\n",
        "  plot_image(i, predictions[i], test_labels, test_images)\n",
        "  plt.subplot(num_rows, 2*num_cols, 2*i+2)\n",
        "  plot_value_array(i, predictions[i], test_labels)\n",
        "plt.tight_layout()\n",
        "plt.show()"
      ]
    },
    {
      "cell_type": "markdown",
      "metadata": {
        "id": "R32zteKHCaXT"
      },
      "source": [
        "## Использование полученной модели\n",
        "\n",
        "Давайте возьмем одно изображение из тестовой выборке и посмотрим предсказание нейронной сети - "
      ]
    },
    {
      "cell_type": "code",
      "execution_count": 192,
      "metadata": {
        "colab": {
          "base_uri": "https://localhost:8080/"
        },
        "id": "yRJ7JU7JCaXT",
        "outputId": "2a46ee14-07b7-4214-fbfb-5fd843fde2da"
      },
      "outputs": [
        {
          "output_type": "stream",
          "name": "stdout",
          "text": [
            "(28, 28)\n"
          ]
        }
      ],
      "source": [
        "\n",
        "img1 = test_images[1]\n",
        "\n",
        "print(img1.shape)"
      ]
    },
    {
      "cell_type": "code",
      "execution_count": 193,
      "metadata": {
        "colab": {
          "base_uri": "https://localhost:8080/"
        },
        "id": "lDFh5yF_CaXW",
        "outputId": "e859999a-e461-4f6c-eec8-80a64e18351a"
      },
      "outputs": [
        {
          "output_type": "stream",
          "name": "stdout",
          "text": [
            "(1, 28, 28)\n"
          ]
        }
      ],
      "source": [
        "# Add the image to a batch where it's the only member.\n",
        "img = (np.expand_dims(img1,0))\n",
        "\n",
        "print(img.shape)"
      ]
    },
    {
      "cell_type": "code",
      "execution_count": 194,
      "metadata": {
        "colab": {
          "base_uri": "https://localhost:8080/"
        },
        "id": "o_rzNSdrCaXY",
        "outputId": "b56fe605-575c-4d0b-fc1f-39abd25d5cea"
      },
      "outputs": [
        {
          "output_type": "stream",
          "name": "stdout",
          "text": [
            "[[3.4264729e-05 1.0646409e-07 9.8397070e-01 6.8221311e-07 7.4143149e-03\n",
            "  6.1044336e-11 8.5772304e-03 4.3470652e-12 2.7195567e-06 5.0174063e-11]]\n"
          ]
        }
      ],
      "source": [
        "predictions_single = probability_model.predict(img)\n",
        "\n",
        "print(predictions_single)"
      ]
    },
    {
      "cell_type": "code",
      "execution_count": 195,
      "metadata": {
        "colab": {
          "base_uri": "https://localhost:8080/",
          "height": 300
        },
        "id": "6Ai-cpLjO-3A",
        "outputId": "58abb519-d300-4488-f1a0-a28bb7c087ca"
      },
      "outputs": [
        {
          "output_type": "display_data",
          "data": {
            "image/png": "[encoded data removed]",
            "text/plain": [
              "<Figure size 432x288 with 1 Axes>"
            ]
          },
          "metadata": {
            "needs_background": "light"
          }
        }
      ],
      "source": [
        "plot_value_array(1, predictions_single[0], test_labels)\n",
        "_ = plt.xticks(range(10), class_names, rotation=45)"
      ]
    },
    {
      "cell_type": "markdown",
      "metadata": {
        "id": "cU1Y2OAMCaXb"
      },
      "source": [
        "`keras.Model.predict` возвращает список списков — по одному списку для каждого предсказания в батче. Нам нужны предсказания только для одного изображения:"
      ]
    },
    {
      "cell_type": "code",
      "execution_count": 196,
      "metadata": {
        "colab": {
          "base_uri": "https://localhost:8080/"
        },
        "id": "2tRmdq_8CaXb",
        "outputId": "68cfe809-64ca-484c-e49b-697dc9724383"
      },
      "outputs": [
        {
          "output_type": "execute_result",
          "data": {
            "text/plain": [
              "2"
            ]
          },
          "metadata": {},
          "execution_count": 196
        }
      ],
      "source": [
        "np.argmax(predictions_single[0])"
      ]
    },
    {
      "cell_type": "markdown",
      "metadata": {
        "id": "oiAdZfhLtMJ5"
      },
      "source": [
        "## **Проведем анализ работы модели по слоям**\n",
        "\n",
        "Состояние узлов в сети по эпохам (пакетам) и слоям можно оценить используя средства tensorflow через объект GradientTape() - исполняет шаг вычисления градиента для модели по ее loss для всех тренируемых весов модели (<имя модели>.trainable_weights) (см. https://www.tensorflow.org/guide/basic_training_loops, https://www.tensorflow.org/api_docs/python/tf/GradientTape)\n",
        "\n",
        "\n",
        "данные для обучения получим из tensorflow.data.Dataset (https://www.tensorflow.org/guide/data), куда передаем выборку , а на выходе получаем генератор пакетов заданного размера"
      ]
    },
    {
      "cell_type": "code",
      "execution_count": 197,
      "metadata": {
        "colab": {
          "base_uri": "https://localhost:8080/"
        },
        "id": "OCMo1w13mswi",
        "outputId": "ffb27c94-4776-404d-adb0-b89a91547351"
      },
      "outputs": [
        {
          "output_type": "stream",
          "name": "stdout",
          "text": [
            "Начинаем эпоху 0\n",
            "Потери на обучении (для одного пакета) на шаге 0: 0.239270880818367\n",
            "Уже увидели: 64 примеров\n",
            "Потери на обучении (для одного пакета) на шаге 200: 0.23093965649604797\n",
            "Уже увидели: 12864 примеров\n",
            "Потери на обучении (для одного пакета) на шаге 400: 0.21426565945148468\n",
            "Уже увидели: 25664 примеров\n",
            "Потери на обучении (для одного пакета) на шаге 600: 0.20999297499656677\n",
            "Уже увидели: 38464 примеров\n",
            "Потери на обучении (для одного пакета) на шаге 800: 0.19845113158226013\n",
            "Уже увидели: 51264 примеров\n",
            "Начинаем эпоху 1\n",
            "Потери на обучении (для одного пакета) на шаге 0: 0.19412803649902344\n",
            "Уже увидели: 64 примеров\n",
            "Потери на обучении (для одного пакета) на шаге 200: 0.1862368881702423\n",
            "Уже увидели: 12864 примеров\n",
            "Потери на обучении (для одного пакета) на шаге 400: 0.17703941464424133\n",
            "Уже увидели: 25664 примеров\n",
            "Потери на обучении (для одного пакета) на шаге 600: 0.16587531566619873\n",
            "Уже увидели: 38464 примеров\n",
            "Потери на обучении (для одного пакета) на шаге 800: 0.16508783400058746\n",
            "Уже увидели: 51264 примеров\n"
          ]
        }
      ],
      "source": [
        "# собираем сеть\n",
        "level =5\n",
        "inputs = Input(shape=(28,28,1), name='digits') \n",
        "x=Flatten()(inputs)\n",
        "for i in range(level):\n",
        "  #x = Dense(64, activation='relu', name='dense_'+str(i))(x) \n",
        "  x = Dense(64, activation='sigmoid', name='dense_'+str(i))(x) \n",
        "outputs = Dense(10, activation='sigmoid' ,name='predictions')(x) \n",
        "modelg = Model(inputs=inputs, outputs=outputs) \n",
        "\n",
        "\n",
        "\n",
        "\n",
        "# Создадим экземпляр оптимизатора. \n",
        "optimizer = tensorflow.keras.optimizers.SGD(learning_rate=1e-3) \n",
        "# Instantiate a loss function. \n",
        "loss_fn = tensorflow.keras.losses.MeanSquaredError() #(from_logits=True) \n",
        "# Подготовим тренировочный датасет. \n",
        "batch_size = 64 \n",
        "train_dataset = tensorflow.data.Dataset.from_tensor_slices((train_images, y_train_labels)) \n",
        "train_dataset = train_dataset.shuffle(buffer_size=1024).batch(batch_size) \n",
        "# Итерируем по эпохам.\n",
        "grad_log=[]\n",
        "\n",
        "epochs=2  # учим немного, т.к. задача посмотреть , что происходит с градиентом\n",
        "for epoch in range(epochs): \n",
        "  print('Начинаем эпоху %d' % (epoch,)) \n",
        "  # Итерируем по пакетам в датасете. \n",
        "  for step, (x_batch_train, y_batch_train) in enumerate(train_dataset): \n",
        "    # Откроем GradientTape чтобы записать операции # выполняемые во время прямого прохода, \n",
        "    #включающего автодифференцирование. \n",
        "    with tensorflow.GradientTape() as tape: \n",
        "      # Запустим прямой проход слоя. \n",
        "      # Операции применяемые слоем к своим \n",
        "      # входным данным будут записаны \n",
        "      # на GradientTape. \n",
        "      loggits = modelg(x_batch_train) \n",
        "      # loggits для пакета  - выходы модели \n",
        "      # Вычислим значение потерь для этого пакета. \n",
        "      y_s=y_batch_train.numpy().shape\n",
        "      y  = tensorflow.reshape( y_batch_train,shape=(y_s[0],10,1))\n",
        "      l = tensorflow.reshape( loggits,shape=(y_s[0],10,1))\n",
        "      # вызываем лосс\n",
        "      loss_value = loss_fn(y, l) \n",
        "      # Используем gradient tape для автоматического извлечения градиентов \n",
        "      # обучаемых переменных относительно потерь. \n",
        "      grads = tape.gradient(loss_value, modelg.trainable_weights) \n",
        "      g_g=[]\n",
        "      w_w =[]\n",
        "      # пишем логи для сохранения значений градиента и веса по одной цепи \n",
        "      # (0-й канал распространения активности)\n",
        "      for g_s in grads:\n",
        "        # допишем логи значений градиента в зависимости от размера тензора градиента\n",
        "        if len(g_s.numpy().shape)==1:\n",
        "         \n",
        "          g_g.append(g_s.numpy()[0])\n",
        "        if len(g_s.numpy().shape)==2:\n",
        "          \n",
        "          g_g.append(g_s.numpy()[0,0]) \n",
        "        if len(g_s.numpy().shape)==3:\n",
        "          \n",
        "          g_g.append(g_s.numpy()[0,0,0]) \n",
        "        if len(g_s.numpy().shape)==4:\n",
        "          \n",
        "          g_g.append(g_s.numpy()[0,0,0,0])  \n",
        "\n",
        "              \n",
        "      # добавляем текущие логи по слоям к общей записи\n",
        "      grad_log.append(g_g)\n",
        "\n",
        "      # Выполним один шаг градиентного спуска обновив # значение переменных минимизирующих потери. \n",
        "      optimizer.apply_gradients(zip(grads, modelg.trainable_weights)) \n",
        "      # Пишем лог каждые 200 пакетов. \n",
        "      if step % 200 == 0: \n",
        "        print('Потери на обучении (для одного пакета) на шаге %s: %s' % (step, float(loss_value))) \n",
        "        print('Уже увидели: %s примеров' % ((step + 1) * batch_size))\n",
        "grad_log=np.array(grad_log)\n",
        "\n"
      ]
    },
    {
      "cell_type": "code",
      "execution_count": 198,
      "metadata": {
        "colab": {
          "base_uri": "https://localhost:8080/"
        },
        "id": "InVNvyKeu1Nm",
        "outputId": "8b649f13-4a9d-475e-921f-c3365f57998c"
      },
      "outputs": [
        {
          "output_type": "stream",
          "name": "stdout",
          "text": [
            "Model: \"model_10\"\n",
            "_________________________________________________________________\n",
            " Layer (type)                Output Shape              Param #   \n",
            "=================================================================\n",
            " digits (InputLayer)         [(None, 28, 28, 1)]       0         \n",
            "                                                                 \n",
            " flatten_13 (Flatten)        (None, 784)               0         \n",
            "                                                                 \n",
            " dense_0 (Dense)             (None, 64)                50240     \n",
            "                                                                 \n",
            " dense_1 (Dense)             (None, 64)                4160      \n",
            "                                                                 \n",
            " dense_2 (Dense)             (None, 64)                4160      \n",
            "                                                                 \n",
            " dense_3 (Dense)             (None, 64)                4160      \n",
            "                                                                 \n",
            " dense_4 (Dense)             (None, 64)                4160      \n",
            "                                                                 \n",
            " predictions (Dense)         (None, 10)                650       \n",
            "                                                                 \n",
            "=================================================================\n",
            "Total params: 67,530\n",
            "Trainable params: 67,530\n",
            "Non-trainable params: 0\n",
            "_________________________________________________________________\n"
          ]
        }
      ],
      "source": [
        "modelg.summary()"
      ]
    },
    {
      "cell_type": "code",
      "execution_count": 199,
      "metadata": {
        "colab": {
          "base_uri": "https://localhost:8080/",
          "height": 350
        },
        "id": "PN7GXEPBri2u",
        "outputId": "d9b4d9ca-80d2-4191-dc0b-ba9d0ee3674c"
      },
      "outputs": [
        {
          "output_type": "display_data",
          "data": {
            "image/png": "[encoded data removed]",
            "text/plain": [
              "<Figure size 1152x360 with 1 Axes>"
            ]
          },
          "metadata": {
            "needs_background": "light"
          }
        }
      ],
      "source": [
        "plt.figure(figsize=(16,5))\n",
        "plt.title('Градиент по слоям')\n",
        "plt.xlabel('№ layer')\n",
        "plt.ylabel('grad')\n",
        "plt.grid()\n",
        "plt.plot(np.abs(grad_log[0,:]),label='step 0')\n",
        "plt.plot(np.abs(grad_log[10,:]),label='step 10')\n",
        "plt.plot(np.abs(grad_log[100,:]),label='step 100')\n",
        "plt.plot(np.abs(grad_log[700,:]),label='step 700')\n",
        "plt.legend()\n",
        "plt.show()"
      ]
    },
    {
      "cell_type": "markdown",
      "metadata": {
        "id": "Eh-unHPRwe7M"
      },
      "source": [
        "### Сделаем анализ ошибок модели"
      ]
    },
    {
      "cell_type": "code",
      "execution_count": 200,
      "metadata": {
        "id": "5c6MdztxalDc"
      },
      "outputs": [],
      "source": [
        "from sklearn.metrics import confusion_matrix, ConfusionMatrixDisplay"
      ]
    },
    {
      "cell_type": "code",
      "execution_count": 201,
      "metadata": {
        "colab": {
          "base_uri": "https://localhost:8080/"
        },
        "id": "ApcYAUE4dr8q",
        "outputId": "c5383193-d920-488f-a487-0b41e2d6ee19"
      },
      "outputs": [
        {
          "output_type": "execute_result",
          "data": {
            "text/plain": [
              "array([9, 2, 1, 1, 6, 1, 4, 6, 5, 7])"
            ]
          },
          "metadata": {},
          "execution_count": 201
        }
      ],
      "source": [
        "y_pred = np.argmax(probability_model.predict(test_images), axis=1)\n",
        "y_pred[:10]"
      ]
    },
    {
      "cell_type": "code",
      "execution_count": 202,
      "metadata": {
        "colab": {
          "base_uri": "https://localhost:8080/"
        },
        "id": "DG7c3AV9ekyg",
        "outputId": "7e1b7fcd-3c42-41e2-aa02-76e64c02b403"
      },
      "outputs": [
        {
          "output_type": "stream",
          "name": "stdout",
          "text": [
            "[[805   1  12  31  10   0 130   0  11   0]\n",
            " [  3 960   4  24   5   0   3   0   1   0]\n",
            " [ 13   2 715   8 189   0  71   0   2   0]\n",
            " [ 26   9   7 837  76   0  40   0   5   0]\n",
            " [  0   0  61  14 871   0  52   0   2   0]\n",
            " [  0   0   0   1   0 919   0  52   2  26]\n",
            " [115   1  95  23 106   0 648   0  12   0]\n",
            " [  0   0   0   0   0  14   0 965   0  21]\n",
            " [  3   1   6   4   8   1  16   7 954   0]\n",
            " [  0   0   0   0   0   2   1  45   0 952]]\n"
          ]
        }
      ],
      "source": [
        "CM = confusion_matrix(test_labels,y_pred)\n",
        "print(CM)"
      ]
    },
    {
      "cell_type": "code",
      "execution_count": 203,
      "metadata": {
        "colab": {
          "base_uri": "https://localhost:8080/",
          "height": 279
        },
        "id": "V2kt2VW0i82L",
        "outputId": "6553333d-3f8e-480c-c671-8e7a0dc278d0"
      },
      "outputs": [
        {
          "output_type": "display_data",
          "data": {
            "image/png": "[encoded data removed]",
            "text/plain": [
              "<Figure size 432x288 with 2 Axes>"
            ]
          },
          "metadata": {
            "needs_background": "light"
          }
        }
      ],
      "source": [
        "disp = ConfusionMatrixDisplay(confusion_matrix=CM, display_labels=np.arange(10))\n",
        "\n",
        "disp.plot( values_format ='.3g')\n",
        "plt.show()"
      ]
    },
    {
      "cell_type": "code",
      "execution_count": 204,
      "metadata": {
        "colab": {
          "base_uri": "https://localhost:8080/",
          "height": 279
        },
        "id": "Rvd8zftsgWEC",
        "outputId": "9fdb97f5-46b8-493e-a1a3-d2878855dded"
      },
      "outputs": [
        {
          "output_type": "display_data",
          "data": {
            "image/png": "[encoded data removed]",
            "text/plain": [
              "<Figure size 432x288 with 2 Axes>"
            ]
          },
          "metadata": {
            "needs_background": "light"
          }
        }
      ],
      "source": [
        "plt.imshow(CM, cmap='hot', interpolation='nearest')\n",
        "plt.colorbar()\n",
        "plt.yticks(ticks=np.arange(10))\n",
        "plt.xticks(ticks=np.arange(10))\n",
        "plt.xlabel('предсказаны')\n",
        "plt.ylabel('истина')\n",
        "plt.show()"
      ]
    },
    {
      "cell_type": "markdown",
      "metadata": {
        "id": "FEq8mmOM3knb"
      },
      "source": [
        "Сеть делает ошибки. Можно их попробовать исправить, если сделать комбинацию сетей (ансамбль) . Проверим вариант усреднения."
      ]
    },
    {
      "cell_type": "markdown",
      "metadata": {
        "id": "hcSnl7L5FzTA"
      },
      "source": [
        "Нейросеть при хорошо подобранных параметрах должна была выдать корректное предсказание\n",
        "\n",
        "\n",
        "Реализуем одинаковые сети в разном стиле:\n",
        "- model1 - линейная модель через список\n",
        "- model2 - линейная модель через добавление слоев по очереди\n",
        "- model3 - модель через функциональное описание\n",
        "\n",
        "У всех 3-х сетей предпоследний слой линейный (это не правильно для классификации и сделано, что бы модель была совсем простой)\n",
        "\n",
        "\n"
      ]
    },
    {
      "cell_type": "code",
      "execution_count": 205,
      "metadata": {
        "colab": {
          "base_uri": "https://localhost:8080/"
        },
        "id": "pyurjN_EJN9P",
        "outputId": "4c675f5b-d6ce-4220-85e1-fdce33d38dda"
      },
      "outputs": [
        {
          "output_type": "stream",
          "name": "stdout",
          "text": [
            "Epoch 1/5\n"
          ]
        },
        {
          "output_type": "stream",
          "name": "stderr",
          "text": [
            "/usr/local/lib/python3.7/dist-packages/tensorflow/python/util/dispatch.py:1096: UserWarning: \"`sparse_categorical_crossentropy` received `from_logits=True`, but the `output` argument was produced by a sigmoid or softmax activation and thus does not represent logits. Was this intended?\"\n",
            "  return dispatch_target(*args, **kwargs)\n"
          ]
        },
        {
          "output_type": "stream",
          "name": "stdout",
          "text": [
            "1875/1875 [==============================] - 5s 3ms/step - loss: 1.2873 - accuracy: 0.6655\n",
            "Epoch 2/5\n",
            "1875/1875 [==============================] - 5s 3ms/step - loss: 0.7649 - accuracy: 0.7592\n",
            "Epoch 3/5\n",
            "1875/1875 [==============================] - 5s 3ms/step - loss: 0.6531 - accuracy: 0.7808\n",
            "Epoch 4/5\n",
            "1875/1875 [==============================] - 5s 3ms/step - loss: 0.5969 - accuracy: 0.7959\n",
            "Epoch 5/5\n",
            "1875/1875 [==============================] - 5s 3ms/step - loss: 0.5609 - accuracy: 0.8066\n",
            "Epoch 1/5\n",
            "1875/1875 [==============================] - 6s 3ms/step - loss: 0.5971 - accuracy: 0.7969\n",
            "Epoch 2/5\n",
            "1875/1875 [==============================] - 6s 3ms/step - loss: 0.4770 - accuracy: 0.8338\n",
            "Epoch 3/5\n",
            "1875/1875 [==============================] - 6s 3ms/step - loss: 0.4561 - accuracy: 0.8413\n",
            "Epoch 4/5\n",
            "1875/1875 [==============================] - 6s 3ms/step - loss: 0.4451 - accuracy: 0.8464\n",
            "Epoch 5/5\n",
            "1875/1875 [==============================] - 6s 3ms/step - loss: 0.4363 - accuracy: 0.8492\n",
            "Epoch 1/5\n",
            "1875/1875 [==============================] - 6s 3ms/step - loss: 0.4848 - accuracy: 0.8292\n",
            "Epoch 2/5\n",
            "1875/1875 [==============================] - 5s 3ms/step - loss: 0.3662 - accuracy: 0.8678\n",
            "Epoch 3/5\n",
            "1875/1875 [==============================] - 5s 3ms/step - loss: 0.3294 - accuracy: 0.8791\n",
            "Epoch 4/5\n",
            "1875/1875 [==============================] - 5s 3ms/step - loss: 0.3042 - accuracy: 0.8876\n",
            "Epoch 5/5\n",
            "1875/1875 [==============================] - 5s 3ms/step - loss: 0.2843 - accuracy: 0.8938\n"
          ]
        }
      ],
      "source": [
        "# заполняем модель списком\n",
        "model1 = keras.Sequential([\n",
        "    keras.layers.Flatten(input_shape=(28, 28)),\n",
        "    keras.layers.Dense(128, activation='sigmoid'),\n",
        "    keras.layers.Dense(10, activation='softmax')\n",
        "])\n",
        "\n",
        "# заполняем модель , добавляя слои последовательно \n",
        "model2 = keras.Sequential()\n",
        "model2.add(keras.layers.Flatten(input_shape=(28, 28)))\n",
        "model2.add(keras.layers.Dense(256, activation='linear'))\n",
        "model2.add(keras.layers.Dense(10, activation='softmax'))\n",
        "\n",
        "\n",
        "# Заполняем модель, формируя граф передачи тензоров\n",
        "x_input = keras.layers.Input(shape=(28,28))\n",
        "x3 = keras.layers.Flatten()(x_input)\n",
        "x3 = keras.layers.Dense(256, activation='relu')(x3)\n",
        "x_output = keras.layers.Dense(10, activation='softmax')(x3)\n",
        "model3=keras.models.Model(x_input,x_output)\n",
        "\n",
        "model1.compile(optimizer='sgd',\n",
        "              loss=tf.keras.losses.SparseCategoricalCrossentropy(from_logits=True),\n",
        "              metrics=['accuracy'])\n",
        "model2.compile(optimizer='rmsprop',\n",
        "              loss=tf.keras.losses.SparseCategoricalCrossentropy(from_logits=True),\n",
        "              metrics=['accuracy'])\n",
        "model3.compile(optimizer='adam',\n",
        "              loss=tf.keras.losses.SparseCategoricalCrossentropy(from_logits=True),\n",
        "              metrics=['accuracy'])\n",
        "\n",
        "hist1=model1.fit(train_images, train_labels, epochs=5)\n",
        "hist2=model2.fit(train_images, train_labels, epochs=5)\n",
        "hist3=model3.fit(train_images, train_labels, epochs=5)\n",
        "\n"
      ]
    },
    {
      "cell_type": "code",
      "execution_count": 206,
      "metadata": {
        "colab": {
          "base_uri": "https://localhost:8080/",
          "height": 295
        },
        "id": "N8SMebNEMi37",
        "outputId": "25b7c298-c766-4f37-f538-2da8e93a3667"
      },
      "outputs": [
        {
          "output_type": "display_data",
          "data": {
            "image/png": "[encoded data removed]",
            "text/plain": [
              "<Figure size 432x288 with 1 Axes>"
            ]
          },
          "metadata": {
            "needs_background": "light"
          }
        }
      ],
      "source": [
        "plt.plot(hist1.history['accuracy'],label='model1 acc sgd')\n",
        "plt.plot(hist2.history['accuracy'],label='model2 acc rmsprop')\n",
        "plt.plot(hist3.history['accuracy'],label ='model3 acc adam')\n",
        "plt.title('точность сетей от эпох')\n",
        "plt.xlabel('эпоха')\n",
        "plt.legend()\n",
        "plt.show()"
      ]
    },
    {
      "cell_type": "code",
      "execution_count": 207,
      "metadata": {
        "id": "iD4oM4JhPHWn"
      },
      "outputs": [],
      "source": [
        "y_pred1 = np.argmax(model1.predict(test_images),axis=1)\n",
        "y_pred2 = np.argmax(model2.predict(test_images),axis=1)\n",
        "y_pred3 = np.argmax(model3.predict(test_images),axis=1)\n",
        "\n",
        "CM1 = confusion_matrix(test_labels,y_pred1)\n",
        "CM2 = confusion_matrix(test_labels,y_pred2)\n",
        "CM3 = confusion_matrix(test_labels,y_pred3)"
      ]
    },
    {
      "cell_type": "code",
      "execution_count": 208,
      "metadata": {
        "colab": {
          "base_uri": "https://localhost:8080/",
          "height": 363
        },
        "id": "_3DBsXLN-Q2T",
        "outputId": "9db98aa1-fe42-4004-8722-2895d6bd1b25"
      },
      "outputs": [
        {
          "output_type": "display_data",
          "data": {
            "image/png": "[encoded data removed]",
            "text/plain": [
              "<Figure size 1296x432 with 6 Axes>"
            ]
          },
          "metadata": {
            "needs_background": "light"
          }
        }
      ],
      "source": [
        "\n",
        "fig, (ax1, ax2, ax3) = plt.subplots(1, 3, figsize=(18, 6))\n",
        "disp1 = ConfusionMatrixDisplay(confusion_matrix=CM1, display_labels=np.arange(10))\n",
        "disp1.plot( ax=ax1, values_format ='.3g')\n",
        "disp2 = ConfusionMatrixDisplay(confusion_matrix=CM2, display_labels=np.arange(10))\n",
        "disp2.plot( ax=ax2, values_format ='.3g')\n",
        "disp3 = ConfusionMatrixDisplay(confusion_matrix=CM3, display_labels=np.arange(10))\n",
        "disp3.plot( ax=ax3, values_format ='.3g')\n",
        "plt.show()"
      ]
    },
    {
      "cell_type": "code",
      "execution_count": 209,
      "metadata": {
        "id": "stCJv8cZMQZf"
      },
      "outputs": [],
      "source": [
        "# сохранить модели на диск.\n",
        "model1.save_weights('model1.h5')\n",
        "model2.save_weights('model2.h5')\n",
        "model3.save_weights('model3.h5')\n",
        "# прочитать модели с диска (перед этим, нужно положить их в каталог для работы виртуальной машины Колаборатории):\n",
        "# model.load_weights('model.h5')"
      ]
    },
    {
      "cell_type": "markdown",
      "metadata": {
        "id": "tBd6kDX9qCZ1"
      },
      "source": [
        "Выгрузим на локальную машину нашу модель"
      ]
    },
    {
      "cell_type": "code",
      "execution_count": 210,
      "metadata": {
        "colab": {
          "base_uri": "https://localhost:8080/",
          "height": 17
        },
        "id": "2mIfT7C773y4",
        "outputId": "7cc846cf-a9d5-4dc3-e5ba-97aab9709f57"
      },
      "outputs": [
        {
          "output_type": "display_data",
          "data": {
            "application/javascript": [
              "\n",
              "    async function download(id, filename, size) {\n",
              "      if (!google.colab.kernel.accessAllowed) {\n",
              "        return;\n",
              "      }\n",
              "      const div = document.createElement('div');\n",
              "      const label = document.createElement('label');\n",
              "      label.textContent = `Downloading \"${filename}\": `;\n",
              "      div.appendChild(label);\n",
              "      const progress = document.createElement('progress');\n",
              "      progress.max = size;\n",
              "      div.appendChild(progress);\n",
              "      document.body.appendChild(div);\n",
              "\n",
              "      const buffers = [];\n",
              "      let downloaded = 0;\n",
              "\n",
              "      const channel = await google.colab.kernel.comms.open(id);\n",
              "      // Send a message to notify the kernel that we're ready.\n",
              "      channel.send({})\n",
              "\n",
              "      for await (const message of channel.messages) {\n",
              "        // Send a message to notify the kernel that we're ready.\n",
              "        channel.send({})\n",
              "        if (message.buffers) {\n",
              "          for (const buffer of message.buffers) {\n",
              "            buffers.push(buffer);\n",
              "            downloaded += buffer.byteLength;\n",
              "            progress.value = downloaded;\n",
              "          }\n",
              "        }\n",
              "      }\n",
              "      const blob = new Blob(buffers, {type: 'application/binary'});\n",
              "      const a = document.createElement('a');\n",
              "      a.href = window.URL.createObjectURL(blob);\n",
              "      a.download = filename;\n",
              "      div.appendChild(a);\n",
              "      a.click();\n",
              "      div.remove();\n",
              "    }\n",
              "  "
            ],
            "text/plain": [
              "<IPython.core.display.Javascript object>"
            ]
          },
          "metadata": {}
        },
        {
          "output_type": "display_data",
          "data": {
            "application/javascript": [
              "download(\"download_e96bb8d8-52f1-4da2-9e2f-a0535f7d964f\", \"model1.h5\", 421584)"
            ],
            "text/plain": [
              "<IPython.core.display.Javascript object>"
            ]
          },
          "metadata": {}
        }
      ],
      "source": [
        "from google.colab import files\n",
        "\n",
        "files.download('model1.h5')"
      ]
    },
    {
      "cell_type": "code",
      "execution_count": 211,
      "metadata": {
        "colab": {
          "base_uri": "https://localhost:8080/"
        },
        "id": "rGZ0VmTDWiSi",
        "outputId": "552703a2-9e64-46ed-95d7-a48ab00bebb3"
      },
      "outputs": [
        {
          "output_type": "execute_result",
          "data": {
            "text/plain": [
              "<KerasTensor: shape=(None, 256) dtype=float32 (created by layer 'dense_84')>"
            ]
          },
          "metadata": {},
          "execution_count": 211
        }
      ],
      "source": [
        "x3"
      ]
    },
    {
      "cell_type": "markdown",
      "metadata": {
        "id": "RP9nm6V6qS7q"
      },
      "source": [
        "Сделаем предсказание на тестовом изображении"
      ]
    },
    {
      "cell_type": "code",
      "execution_count": 212,
      "metadata": {
        "id": "QvkvodqxWmVn"
      },
      "outputs": [],
      "source": [
        "y_pred = model3.predict(test_images)\n",
        "y_pred_arg = np.argmax(y_pred, axis=1)\n"
      ]
    },
    {
      "cell_type": "markdown",
      "metadata": {
        "id": "b2WJFW5kqagU"
      },
      "source": [
        "Отобразим значения на выходах сети (10 выходов - 10 точек графика)"
      ]
    },
    {
      "cell_type": "code",
      "execution_count": 213,
      "metadata": {
        "colab": {
          "base_uri": "https://localhost:8080/",
          "height": 295
        },
        "id": "EF18AOsTbsih",
        "outputId": "38c52105-655c-4725-c479-4457c137853f"
      },
      "outputs": [
        {
          "output_type": "display_data",
          "data": {
            "image/png": "[encoded data removed]",
            "text/plain": [
              "<Figure size 432x288 with 1 Axes>"
            ]
          },
          "metadata": {
            "needs_background": "light"
          }
        }
      ],
      "source": [
        "N = 10 \n",
        "plt.plot(y_pred[N,:])\n",
        "plt.title('объект ' +class_names[test_labels[N]]+ '  No-'+str(test_labels[N]))\n",
        "plt.xlabel('номер выхода сети')\n",
        "plt.ylabel('значение на выходе')\n",
        "plt.show()"
      ]
    },
    {
      "cell_type": "code",
      "execution_count": 214,
      "metadata": {
        "colab": {
          "base_uri": "https://localhost:8080/"
        },
        "id": "K0cGPgqBc-sb",
        "outputId": "af62da68-2be8-4818-dd4b-6c8d93629426"
      },
      "outputs": [
        {
          "output_type": "stream",
          "name": "stderr",
          "text": [
            "/usr/local/lib/python3.7/dist-packages/tensorflow/python/util/dispatch.py:1096: UserWarning: \"`sparse_categorical_crossentropy` received `from_logits=True`, but the `output` argument was produced by a sigmoid or softmax activation and thus does not represent logits. Was this intended?\"\n",
            "  return dispatch_target(*args, **kwargs)\n"
          ]
        },
        {
          "output_type": "stream",
          "name": "stdout",
          "text": [
            "313/313 - 1s - loss: 0.3488 - accuracy: 0.8767 - 836ms/epoch - 3ms/step\n"
          ]
        }
      ],
      "source": [
        "test_loss, test_acc = model3.evaluate(test_images,  test_labels, verbose=2)"
      ]
    },
    {
      "cell_type": "markdown",
      "metadata": {
        "id": "f_dWDPIIuE6e"
      },
      "source": [
        "### **Ансамбль сетей**\n",
        "\n",
        "Использование функционального API для построения сложных сетей"
      ]
    },
    {
      "cell_type": "code",
      "execution_count": 215,
      "metadata": {
        "colab": {
          "base_uri": "https://localhost:8080/"
        },
        "id": "3cJ-0N8Es0gB",
        "outputId": "15000f06-68d1-4b3d-f346-9525d6a40802"
      },
      "outputs": [
        {
          "output_type": "stream",
          "name": "stderr",
          "text": [
            "/usr/local/lib/python3.7/dist-packages/keras/optimizer_v2/adagrad.py:74: UserWarning: The `lr` argument is deprecated, use `learning_rate` instead.\n",
            "  super(Adagrad, self).__init__(name, **kwargs)\n"
          ]
        }
      ],
      "source": [
        "input1 = keras.layers.Input(shape=(28, 28))\n",
        "x1= keras.layers.Flatten()(input1)\n",
        "x1 = keras.layers.Dense(128, activation='relu')(x1)\n",
        "x1 =keras.layers.Dense(10, activation='softmax')(x1)\n",
        "\n",
        "model11 =keras.models.Model(inputs=input1,outputs=x1)\n",
        "\n",
        "\n",
        "x2= keras.layers.Flatten()(input1)\n",
        "x2 = keras.layers.Dense(256, activation='relu')(x2)\n",
        "x2=keras.layers.Dense(10, activation='softmax')(x2)\n",
        "\n",
        "model22 =keras.models.Model(inputs=input1,outputs=x2)\n",
        "\n",
        "x3= keras.layers.Flatten()(input1)\n",
        "x3 = keras.layers.Dense(256, activation='relu')(x3)\n",
        "x3=keras.layers.Dense(10, activation='softmax')(x3)\n",
        "\n",
        "\n",
        "model33 =keras.models.Model(inputs=input1,outputs=x3)\n",
        "\n",
        "# усредняем выходы сетей\n",
        "out_all = keras.layers.Average()([model11.output,model22.output,model33.output])\n",
        "out_all = keras.layers.Softmax()(out_all)\n",
        "\n",
        "model_all=keras.models.Model(inputs =[input1],outputs =out_all)\n",
        "model_all.compile(optimizer=tf.keras.optimizers.Adagrad(lr=0.1, epsilon=1e-08, decay=0.0),\n",
        "              loss=tf.keras.losses.SparseCategoricalCrossentropy(from_logits=True),\n",
        "              metrics=['accuracy'])\n",
        "\n",
        "\n",
        "model11.load_weights('model1.h5')\n",
        "model22.load_weights('model2.h5')\n",
        "model33.load_weights('model3.h5')"
      ]
    },
    {
      "cell_type": "code",
      "execution_count": 216,
      "metadata": {
        "colab": {
          "base_uri": "https://localhost:8080/"
        },
        "id": "zdNzWR6Se6fZ",
        "outputId": "6d0160d2-5cbe-4a0f-f5cb-b0443d98b55f"
      },
      "outputs": [
        {
          "output_type": "execute_result",
          "data": {
            "text/plain": [
              "<keras.optimizer_v2.adam.Adam at 0x7f87fe9add10>"
            ]
          },
          "metadata": {},
          "execution_count": 216
        }
      ],
      "source": [
        "tf.keras.optimizers.Adam()"
      ]
    },
    {
      "cell_type": "code",
      "execution_count": 217,
      "metadata": {
        "colab": {
          "base_uri": "https://localhost:8080/"
        },
        "id": "uyUsa1Afs6cW",
        "outputId": "45d19e86-fe1c-4f42-8f8a-c08be343ff3f"
      },
      "outputs": [
        {
          "output_type": "stream",
          "name": "stdout",
          "text": [
            "Model: \"model_15\"\n",
            "__________________________________________________________________________________________________\n",
            " Layer (type)                   Output Shape         Param #     Connected to                     \n",
            "==================================================================================================\n",
            " input_8 (InputLayer)           [(None, 28, 28)]     0           []                               \n",
            "                                                                                                  \n",
            " flatten_17 (Flatten)           (None, 784)          0           ['input_8[0][0]']                \n",
            "                                                                                                  \n",
            " flatten_18 (Flatten)           (None, 784)          0           ['input_8[0][0]']                \n",
            "                                                                                                  \n",
            " flatten_19 (Flatten)           (None, 784)          0           ['input_8[0][0]']                \n",
            "                                                                                                  \n",
            " dense_86 (Dense)               (None, 128)          100480      ['flatten_17[0][0]']             \n",
            "                                                                                                  \n",
            " dense_88 (Dense)               (None, 256)          200960      ['flatten_18[0][0]']             \n",
            "                                                                                                  \n",
            " dense_90 (Dense)               (None, 256)          200960      ['flatten_19[0][0]']             \n",
            "                                                                                                  \n",
            " dense_87 (Dense)               (None, 10)           1290        ['dense_86[0][0]']               \n",
            "                                                                                                  \n",
            " dense_89 (Dense)               (None, 10)           2570        ['dense_88[0][0]']               \n",
            "                                                                                                  \n",
            " dense_91 (Dense)               (None, 10)           2570        ['dense_90[0][0]']               \n",
            "                                                                                                  \n",
            " average_1 (Average)            (None, 10)           0           ['dense_87[0][0]',               \n",
            "                                                                  'dense_89[0][0]',               \n",
            "                                                                  'dense_91[0][0]']               \n",
            "                                                                                                  \n",
            " softmax_3 (Softmax)            (None, 10)           0           ['average_1[0][0]']              \n",
            "                                                                                                  \n",
            "==================================================================================================\n",
            "Total params: 508,830\n",
            "Trainable params: 508,830\n",
            "Non-trainable params: 0\n",
            "__________________________________________________________________________________________________\n"
          ]
        }
      ],
      "source": [
        "model_all.summary()"
      ]
    },
    {
      "cell_type": "code",
      "execution_count": 218,
      "metadata": {
        "id": "ET_usPF9ejrP"
      },
      "outputs": [],
      "source": [
        "from tensorflow.keras.utils import plot_model"
      ]
    },
    {
      "cell_type": "code",
      "execution_count": 219,
      "metadata": {
        "colab": {
          "base_uri": "https://localhost:8080/",
          "height": 564
        },
        "id": "T8L3JBiWewft",
        "outputId": "8cda335b-0921-4d3d-b425-a6e9e1a7b7f5"
      },
      "outputs": [
        {
          "output_type": "execute_result",
          "data": {
            "image/png": "[encoded data removed]",
            "text/plain": [
              "<IPython.core.display.Image object>"
            ]
          },
          "metadata": {},
          "execution_count": 219
        }
      ],
      "source": [
        "plot_model(model_all,to_file='new_model-all.png')"
      ]
    },
    {
      "cell_type": "code",
      "execution_count": 220,
      "metadata": {
        "colab": {
          "base_uri": "https://localhost:8080/"
        },
        "id": "9nqTRLVhts6i",
        "outputId": "dc3a6150-1ed3-4930-bea8-20d1482232bd"
      },
      "outputs": [
        {
          "output_type": "stream",
          "name": "stdout",
          "text": [
            "[[0.08609661 0.08608023 0.2206386  0.08604953 0.08847178 0.08613021\n",
            "  0.08816846 0.08603281 0.08629908 0.08603264]]\n"
          ]
        }
      ],
      "source": [
        "predictions_single=model_all.predict(img)\n",
        "\n",
        "print(predictions_single)"
      ]
    },
    {
      "cell_type": "code",
      "execution_count": 221,
      "metadata": {
        "colab": {
          "base_uri": "https://localhost:8080/",
          "height": 300
        },
        "id": "ZRejlxRetwpq",
        "outputId": "1afd03aa-6e00-4174-8a9e-520d5d344789"
      },
      "outputs": [
        {
          "output_type": "display_data",
          "data": {
            "image/png": "[encoded data removed]",
            "text/plain": [
              "<Figure size 432x288 with 1 Axes>"
            ]
          },
          "metadata": {
            "needs_background": "light"
          }
        }
      ],
      "source": [
        "plot_value_array(1, predictions_single[0], test_labels)\n",
        "_ = plt.xticks(range(10), class_names, rotation=45)"
      ]
    },
    {
      "cell_type": "code",
      "execution_count": 222,
      "metadata": {
        "colab": {
          "base_uri": "https://localhost:8080/"
        },
        "id": "OnUoZIIgt10d",
        "outputId": "3193cda6-689e-4155-9bad-0eabafa010a1"
      },
      "outputs": [
        {
          "output_type": "stream",
          "name": "stdout",
          "text": [
            "313/313 - 1s - loss: 2.2186 - accuracy: 0.8531 - 1s/epoch - 4ms/step\n"
          ]
        }
      ],
      "source": [
        "test_loss, test_acc = model_all.evaluate(test_images,  test_labels, verbose=2)"
      ]
    },
    {
      "cell_type": "code",
      "execution_count": 223,
      "metadata": {
        "colab": {
          "base_uri": "https://localhost:8080/"
        },
        "id": "rWwZOIi_1Hgp",
        "outputId": "e77141b6-41c1-443c-acb7-9ade3398426f"
      },
      "outputs": [
        {
          "output_type": "stream",
          "name": "stdout",
          "text": [
            "WARNING:tensorflow:Compiled the loaded model, but the compiled metrics have yet to be built. `model.compile_metrics` will be empty until you train or evaluate the model.\n"
          ]
        }
      ],
      "source": [
        "model11.save('model_11.h5')"
      ]
    },
    {
      "cell_type": "code",
      "execution_count": 224,
      "metadata": {
        "colab": {
          "base_uri": "https://localhost:8080/",
          "height": 279
        },
        "id": "IkT0L8D-Oi4x",
        "outputId": "59e0967d-74be-427a-ff8f-7429cb2c35c0"
      },
      "outputs": [
        {
          "output_type": "display_data",
          "data": {
            "image/png": "[encoded data removed]",
            "text/plain": [
              "<Figure size 432x288 with 2 Axes>"
            ]
          },
          "metadata": {
            "needs_background": "light"
          }
        }
      ],
      "source": [
        "y_pred_all = np.argmax(model_all.predict(test_images),axis=1)\n",
        "\n",
        "CM_all = confusion_matrix(test_labels,y_pred_all)\n",
        "disp_all = ConfusionMatrixDisplay(confusion_matrix=CM_all, display_labels=np.arange(10))\n",
        "disp_all.plot(  values_format ='.3g')\n",
        "plt.show()"
      ]
    },
    {
      "cell_type": "code",
      "execution_count": 225,
      "metadata": {
        "colab": {
          "base_uri": "https://localhost:8080/"
        },
        "id": "ieChLpxhBicr",
        "outputId": "83efae15-7a6a-49cc-e71e-ccb6221fde68"
      },
      "outputs": [
        {
          "output_type": "stream",
          "name": "stdout",
          "text": [
            "Epoch 1/5\n",
            "1875/1875 [==============================] - 8s 4ms/step - loss: 2.1999 - accuracy: 0.8730\n",
            "Epoch 2/5\n",
            "1875/1875 [==============================] - 7s 4ms/step - loss: 2.1962 - accuracy: 0.8764\n",
            "Epoch 3/5\n",
            "1875/1875 [==============================] - 7s 4ms/step - loss: 2.1951 - accuracy: 0.8776\n",
            "Epoch 4/5\n",
            "1875/1875 [==============================] - 7s 4ms/step - loss: 2.1945 - accuracy: 0.8783\n",
            "Epoch 5/5\n",
            "1875/1875 [==============================] - 7s 4ms/step - loss: 2.1940 - accuracy: 0.8798\n"
          ]
        }
      ],
      "source": [
        "hist1=model_all.fit(train_images, train_labels, epochs=5)"
      ]
    },
    {
      "cell_type": "code",
      "execution_count": 226,
      "metadata": {
        "colab": {
          "base_uri": "https://localhost:8080/",
          "height": 279
        },
        "id": "Z1O8A5dlBfq0",
        "outputId": "508b83e7-ccad-4a5a-c782-2b8f1fe76816"
      },
      "outputs": [
        {
          "output_type": "display_data",
          "data": {
            "image/png": "[encoded data removed]",
            "text/plain": [
              "<Figure size 432x288 with 2 Axes>"
            ]
          },
          "metadata": {
            "needs_background": "light"
          }
        }
      ],
      "source": [
        "y_pred_all = np.argmax(model_all.predict(test_images),axis=1)\n",
        "\n",
        "CM_all = confusion_matrix(test_labels,y_pred_all)\n",
        "disp_all = ConfusionMatrixDisplay(confusion_matrix=CM_all, display_labels=np.arange(10))\n",
        "disp_all.plot(  values_format ='.3g')\n",
        "plt.show()"
      ]
    },
    {
      "cell_type": "code",
      "execution_count": 227,
      "metadata": {
        "id": "NBqrv8dfXNyR"
      },
      "outputs": [],
      "source": [
        "from tensorflow.keras.layers import Concatenate "
      ]
    },
    {
      "cell_type": "code",
      "execution_count": 228,
      "metadata": {
        "colab": {
          "base_uri": "https://localhost:8080/"
        },
        "id": "_v4dFXMxYShj",
        "outputId": "4ca210b2-a631-4239-b209-6fc1d7386fb4"
      },
      "outputs": [
        {
          "output_type": "stream",
          "name": "stderr",
          "text": [
            "/usr/local/lib/python3.7/dist-packages/keras/optimizer_v2/adagrad.py:74: UserWarning: The `lr` argument is deprecated, use `learning_rate` instead.\n",
            "  super(Adagrad, self).__init__(name, **kwargs)\n"
          ]
        },
        {
          "output_type": "stream",
          "name": "stdout",
          "text": [
            "Epoch 1/10\n",
            "1500/1500 [==============================] - 5s 3ms/step - loss: 0.1951 - accuracy: 0.9185 - val_loss: 0.2082 - val_accuracy: 0.9036\n",
            "Epoch 2/10\n",
            "1500/1500 [==============================] - 5s 3ms/step - loss: 0.1603 - accuracy: 0.9315 - val_loss: 0.1780 - val_accuracy: 0.9285\n",
            "Epoch 3/10\n",
            "1500/1500 [==============================] - 5s 4ms/step - loss: 0.1482 - accuracy: 0.9369 - val_loss: 0.1377 - val_accuracy: 0.9429\n",
            "Epoch 4/10\n",
            "1500/1500 [==============================] - 5s 3ms/step - loss: 0.1414 - accuracy: 0.9401 - val_loss: 0.1365 - val_accuracy: 0.9428\n",
            "Epoch 5/10\n",
            "1500/1500 [==============================] - 5s 3ms/step - loss: 0.1350 - accuracy: 0.9426 - val_loss: 0.1315 - val_accuracy: 0.9453\n",
            "Epoch 6/10\n",
            "1500/1500 [==============================] - 5s 3ms/step - loss: 0.1308 - accuracy: 0.9444 - val_loss: 0.1322 - val_accuracy: 0.9434\n",
            "Epoch 7/10\n",
            "1500/1500 [==============================] - 6s 4ms/step - loss: 0.1260 - accuracy: 0.9466 - val_loss: 0.1342 - val_accuracy: 0.9430\n",
            "Epoch 8/10\n",
            "1500/1500 [==============================] - 5s 3ms/step - loss: 0.1228 - accuracy: 0.9479 - val_loss: 0.1421 - val_accuracy: 0.9414\n",
            "Epoch 9/10\n",
            "1500/1500 [==============================] - 5s 3ms/step - loss: 0.1189 - accuracy: 0.9503 - val_loss: 0.1245 - val_accuracy: 0.9478\n",
            "Epoch 10/10\n",
            "1500/1500 [==============================] - 5s 3ms/step - loss: 0.1156 - accuracy: 0.9520 - val_loss: 0.1300 - val_accuracy: 0.9465\n"
          ]
        },
        {
          "output_type": "execute_result",
          "data": {
            "text/plain": [
              "<keras.callbacks.History at 0x7f8813365c50>"
            ]
          },
          "metadata": {},
          "execution_count": 228
        }
      ],
      "source": [
        "input6 = keras.layers.Input( shape=(28, 28) )\n",
        "x6= keras.layers.Flatten()(input6)\n",
        "x6 = keras.layers.Dense(256, activation='relu')(x6)\n",
        "x6=keras.layers.Dense(1, activation='sigmoid')(x6)\n",
        "\n",
        "\n",
        "model6 =Model(inputs=input6,outputs=x6)\n",
        "model6.compile(optimizer=tf.keras.optimizers.Adagrad(lr=0.1, epsilon=1e-08, decay=0.0),\n",
        "              loss=tf.keras.losses.BinaryCrossentropy(),\n",
        "              metrics=['accuracy'])\n",
        "\n",
        "model6.fit(train_images,y_train_labels[:,6], epochs = 10, validation_split = 0.2)\n"
      ]
    },
    {
      "cell_type": "markdown",
      "metadata": {
        "id": "pZyy2UhoFzTB"
      },
      "source": [
        "## Практическое задание\n",
        "\n",
        "  1. Постройте нейронную сеть(берем простую линейную сеть, которую разбирали на уроке: меняем число слоев, число нейронов , типы активации, тип оптимизатора)  на датасет from sklearn.datasets import load_boston. \n",
        "  2. Измените функцию потерь и метрику для этой задачи. Постройте 10-15 вариантов и сведите результаты их работы в таблицу  Опишите, какого результата вы добились от нейросети? Что помогло вам улучшить ее точность?\n",
        "\n",
        "  3. Поработайте с документацией TensorFlow 2. Найти 2-3 полезные команды TensorFlow, не разобранные на уроке (полезные для Вас).\n",
        "\n",
        "  1-2. (*)  Попробуйте обучить нейронную сеть на TensorFlow 2 на датасете imdb_reviews .Опишите, какого результата вы добились от нейросети? Что помогло вам улучшить ее точность?\n",
        "    \n",
        "    \n",
        "</ol>\n",
        "\n",
        "\n",
        "\n",
        "## Набор данных для последнего ДЗ\n",
        "\n",
        "- COVID 19 диагностика https://www.kaggle.com/andrewmvd/covid19-ct-scans\n",
        "\n",
        "- Распознавание изображений цифр в представлении языка жестов https://www.kaggle.com/ardamavi/sign-language-digits-dataset"
      ]
    },
    {
      "cell_type": "markdown",
      "metadata": {
        "id": "oNZ6hZcMFzTE"
      },
      "source": [
        "## Дополнительные материалы\n",
        "\n",
        "<ol>\n",
        "    <li>www.tensorflow.org/api_docs</li>\n",
        "</ol>"
      ]
    },
    {
      "cell_type": "markdown",
      "metadata": {
        "id": "Q64Z2Kr_FzTF"
      },
      "source": [
        "## Используемая литература \n",
        "\n",
        "Для подготовки данного методического пособия были использованы следующие ресурсы:\n",
        "<ol>\n",
        "    <li>https://www.tensorflow.org/</li>\n",
        "    <li>https://www.tensorflow.org/tutorials/keras/classification</li>\n",
        "    <li>Singh P., Manure A. - Learn TensorFlow 2.0 - 2020</li>\n",
        "    <li>Шакла Н. — Машинное обучение и TensorFlow 2019</li>\n",
        "    <li>Википедия</li>\n",
        "    \n",
        "</ol>"
      ]
    },
    {
      "cell_type": "markdown",
      "source": [
        "## Практическое задание"
      ],
      "metadata": {
        "id": "mrAgdl_1Ua0-"
      }
    },
    {
      "cell_type": "markdown",
      "source": [
        "  1. Постройте нейронную сеть(берем простую линейную сеть, которую разбирали на уроке: меняем число слоев, число нейронов , типы активации, тип оптимизатора)  на датасет from sklearn.datasets import load_boston. "
      ],
      "metadata": {
        "id": "DnSUada4Um7P"
      }
    },
    {
      "cell_type": "code",
      "source": [
        "import pandas as pd\n",
        "\n",
        "from sklearn.datasets import load_boston\n",
        "from sklearn.model_selection import train_test_split\n",
        "from sklearn import metrics"
      ],
      "metadata": {
        "id": "GWqpJjH3Umf8"
      },
      "execution_count": 229,
      "outputs": []
    },
    {
      "cell_type": "code",
      "source": [
        "data = load_boston()\n",
        "df = pd.DataFrame(data.data, columns=data.feature_names)\n",
        "X_train, X_test, Y_train, Y_test = train_test_split(df, data.target, test_size = 0.2)\n",
        "X_train.head()"
      ],
      "metadata": {
        "colab": {
          "base_uri": "https://localhost:8080/",
          "height": 892
        },
        "id": "J0UDAKBjUe2y",
        "outputId": "54c21404-9410-4442-aaf3-7eb535ab11fd"
      },
      "execution_count": 230,
      "outputs": [
        {
          "output_type": "stream",
          "name": "stderr",
          "text": [
            "/usr/local/lib/python3.7/dist-packages/sklearn/utils/deprecation.py:87: FutureWarning: Function load_boston is deprecated; `load_boston` is deprecated in 1.0 and will be removed in 1.2.\n",
            "\n",
            "    The Boston housing prices dataset has an ethical problem. You can refer to\n",
            "    the documentation of this function for further details.\n",
            "\n",
            "    The scikit-learn maintainers therefore strongly discourage the use of this\n",
            "    dataset unless the purpose of the code is to study and educate about\n",
            "    ethical issues in data science and machine learning.\n",
            "\n",
            "    In this special case, you can fetch the dataset from the original\n",
            "    source::\n",
            "\n",
            "        import pandas as pd\n",
            "        import numpy as np\n",
            "\n",
            "\n",
            "        data_url = \"http://lib.stat.cmu.edu/datasets/boston\"\n",
            "        raw_df = pd.read_csv(data_url, sep=\"\\s+\", skiprows=22, header=None)\n",
            "        data = np.hstack([raw_df.values[::2, :], raw_df.values[1::2, :2]])\n",
            "        target = raw_df.values[1::2, 2]\n",
            "\n",
            "    Alternative datasets include the California housing dataset (i.e.\n",
            "    :func:`~sklearn.datasets.fetch_california_housing`) and the Ames housing\n",
            "    dataset. You can load the datasets as follows::\n",
            "\n",
            "        from sklearn.datasets import fetch_california_housing\n",
            "        housing = fetch_california_housing()\n",
            "\n",
            "    for the California housing dataset and::\n",
            "\n",
            "        from sklearn.datasets import fetch_openml\n",
            "        housing = fetch_openml(name=\"house_prices\", as_frame=True)\n",
            "\n",
            "    for the Ames housing dataset.\n",
            "    \n",
            "  warnings.warn(msg, category=FutureWarning)\n"
          ]
        },
        {
          "output_type": "execute_result",
          "data": {
            "text/html": [
              "<div>\n",
              "<style scoped>\n",
              "    .dataframe tbody tr th:only-of-type {\n",
              "        vertical-align: middle;\n",
              "    }\n",
              "\n",
              "    .dataframe tbody tr th {\n",
              "        vertical-align: top;\n",
              "    }\n",
              "\n",
              "    .dataframe thead th {\n",
              "        text-align: right;\n",
              "    }\n",
              "</style>\n",
              "<table border=\"1\" class=\"dataframe\">\n",
              "  <thead>\n",
              "    <tr style=\"text-align: right;\">\n",
              "      <th></th>\n",
              "      <th>CRIM</th>\n",
              "      <th>ZN</th>\n",
              "      <th>INDUS</th>\n",
              "      <th>CHAS</th>\n",
              "      <th>NOX</th>\n",
              "      <th>RM</th>\n",
              "      <th>AGE</th>\n",
              "      <th>DIS</th>\n",
              "      <th>RAD</th>\n",
              "      <th>TAX</th>\n",
              "      <th>PTRATIO</th>\n",
              "      <th>B</th>\n",
              "      <th>LSTAT</th>\n",
              "    </tr>\n",
              "  </thead>\n",
              "  <tbody>\n",
              "    <tr>\n",
              "      <th>302</th>\n",
              "      <td>0.09266</td>\n",
              "      <td>34.0</td>\n",
              "      <td>6.09</td>\n",
              "      <td>0.0</td>\n",
              "      <td>0.433</td>\n",
              "      <td>6.495</td>\n",
              "      <td>18.4</td>\n",
              "      <td>5.4917</td>\n",
              "      <td>7.0</td>\n",
              "      <td>329.0</td>\n",
              "      <td>16.1</td>\n",
              "      <td>383.61</td>\n",
              "      <td>8.67</td>\n",
              "    </tr>\n",
              "    <tr>\n",
              "      <th>337</th>\n",
              "      <td>0.03041</td>\n",
              "      <td>0.0</td>\n",
              "      <td>5.19</td>\n",
              "      <td>0.0</td>\n",
              "      <td>0.515</td>\n",
              "      <td>5.895</td>\n",
              "      <td>59.6</td>\n",
              "      <td>5.6150</td>\n",
              "      <td>5.0</td>\n",
              "      <td>224.0</td>\n",
              "      <td>20.2</td>\n",
              "      <td>394.81</td>\n",
              "      <td>10.56</td>\n",
              "    </tr>\n",
              "    <tr>\n",
              "      <th>208</th>\n",
              "      <td>0.13587</td>\n",
              "      <td>0.0</td>\n",
              "      <td>10.59</td>\n",
              "      <td>1.0</td>\n",
              "      <td>0.489</td>\n",
              "      <td>6.064</td>\n",
              "      <td>59.1</td>\n",
              "      <td>4.2392</td>\n",
              "      <td>4.0</td>\n",
              "      <td>277.0</td>\n",
              "      <td>18.6</td>\n",
              "      <td>381.32</td>\n",
              "      <td>14.66</td>\n",
              "    </tr>\n",
              "    <tr>\n",
              "      <th>195</th>\n",
              "      <td>0.01381</td>\n",
              "      <td>80.0</td>\n",
              "      <td>0.46</td>\n",
              "      <td>0.0</td>\n",
              "      <td>0.422</td>\n",
              "      <td>7.875</td>\n",
              "      <td>32.0</td>\n",
              "      <td>5.6484</td>\n",
              "      <td>4.0</td>\n",
              "      <td>255.0</td>\n",
              "      <td>14.4</td>\n",
              "      <td>394.23</td>\n",
              "      <td>2.97</td>\n",
              "    </tr>\n",
              "    <tr>\n",
              "      <th>313</th>\n",
              "      <td>0.26938</td>\n",
              "      <td>0.0</td>\n",
              "      <td>9.90</td>\n",
              "      <td>0.0</td>\n",
              "      <td>0.544</td>\n",
              "      <td>6.266</td>\n",
              "      <td>82.8</td>\n",
              "      <td>3.2628</td>\n",
              "      <td>4.0</td>\n",
              "      <td>304.0</td>\n",
              "      <td>18.4</td>\n",
              "      <td>393.39</td>\n",
              "      <td>7.90</td>\n",
              "    </tr>\n",
              "  </tbody>\n",
              "</table>\n",
              "</div>"
            ],
            "text/plain": [
              "        CRIM    ZN  INDUS  CHAS    NOX  ...  RAD    TAX  PTRATIO       B  LSTAT\n",
              "302  0.09266  34.0   6.09   0.0  0.433  ...  7.0  329.0     16.1  383.61   8.67\n",
              "337  0.03041   0.0   5.19   0.0  0.515  ...  5.0  224.0     20.2  394.81  10.56\n",
              "208  0.13587   0.0  10.59   1.0  0.489  ...  4.0  277.0     18.6  381.32  14.66\n",
              "195  0.01381  80.0   0.46   0.0  0.422  ...  4.0  255.0     14.4  394.23   2.97\n",
              "313  0.26938   0.0   9.90   0.0  0.544  ...  4.0  304.0     18.4  393.39   7.90\n",
              "\n",
              "[5 rows x 13 columns]"
            ]
          },
          "metadata": {},
          "execution_count": 230
        }
      ]
    },
    {
      "cell_type": "code",
      "source": [
        "X_train.shape"
      ],
      "metadata": {
        "colab": {
          "base_uri": "https://localhost:8080/"
        },
        "id": "_uZpIsyoakqh",
        "outputId": "70b414f2-a8fe-4581-e2bd-126cca984a61"
      },
      "execution_count": 231,
      "outputs": [
        {
          "output_type": "execute_result",
          "data": {
            "text/plain": [
              "(404, 13)"
            ]
          },
          "metadata": {},
          "execution_count": 231
        }
      ]
    },
    {
      "cell_type": "code",
      "source": [
        "input_b = keras.layers.Input( (X_train.shape[1]) )\n",
        "x = keras.layers.Flatten()(input_b)\n",
        "x = keras.layers.Dense(128, activation=tf.keras.activations.sigmoid)(x)\n",
        "x = keras.layers.Dense(128, activation=tf.keras.activations.sigmoid)(x)\n",
        "x = keras.layers.Dense(128, activation=tf.keras.activations.sigmoid)(x)\n",
        "x = keras.layers.Dense(1, activation='linear')(x)\n",
        "\n",
        "\n",
        "model_b =Model(inputs=input_b,outputs=x)\n",
        "model_b.compile(optimizer=tf.keras.optimizers.Adam(),\n",
        "              loss=tf.keras.losses.mean_squared_error,\n",
        "              metrics=tf.keras.metrics.mean_absolute_error)\n",
        "\n",
        "model_b.fit(X_train, Y_train, epochs = 300, validation_split = 0.2)"
      ],
      "metadata": {
        "colab": {
          "base_uri": "https://localhost:8080/"
        },
        "id": "ZkRHS1qjZJUh",
        "outputId": "78bf9211-81d2-450c-84e9-4d15dc503250"
      },
      "execution_count": 234,
      "outputs": [
        {
          "output_type": "stream",
          "name": "stdout",
          "text": [
            "Epoch 1/300\n",
            "11/11 [==============================] - 1s 23ms/step - loss: 549.2366 - mean_absolute_error: 21.5714 - val_loss: 464.6718 - val_mean_absolute_error: 19.6425\n",
            "Epoch 2/300\n",
            "11/11 [==============================] - 0s 7ms/step - loss: 420.7783 - mean_absolute_error: 18.3390 - val_loss: 362.0523 - val_mean_absolute_error: 16.8452\n",
            "Epoch 3/300\n",
            "11/11 [==============================] - 0s 8ms/step - loss: 338.1741 - mean_absolute_error: 15.9586 - val_loss: 304.5642 - val_mean_absolute_error: 15.0909\n",
            "Epoch 4/300\n",
            "11/11 [==============================] - 0s 8ms/step - loss: 293.0810 - mean_absolute_error: 14.5200 - val_loss: 272.2218 - val_mean_absolute_error: 14.0319\n",
            "Epoch 5/300\n",
            "11/11 [==============================] - 0s 7ms/step - loss: 265.5268 - mean_absolute_error: 13.5950 - val_loss: 249.4580 - val_mean_absolute_error: 13.2640\n",
            "Epoch 6/300\n",
            "11/11 [==============================] - 0s 7ms/step - loss: 244.3944 - mean_absolute_error: 12.8654 - val_loss: 230.5993 - val_mean_absolute_error: 12.5942\n",
            "Epoch 7/300\n",
            "11/11 [==============================] - 0s 7ms/step - loss: 226.2111 - mean_absolute_error: 12.2087 - val_loss: 212.9988 - val_mean_absolute_error: 11.9302\n",
            "Epoch 8/300\n",
            "11/11 [==============================] - 0s 6ms/step - loss: 209.5208 - mean_absolute_error: 11.5805 - val_loss: 196.5780 - val_mean_absolute_error: 11.2879\n",
            "Epoch 9/300\n",
            "11/11 [==============================] - 0s 7ms/step - loss: 194.1842 - mean_absolute_error: 10.9878 - val_loss: 182.4096 - val_mean_absolute_error: 10.7213\n",
            "Epoch 10/300\n",
            "11/11 [==============================] - 0s 7ms/step - loss: 180.4217 - mean_absolute_error: 10.4523 - val_loss: 169.8512 - val_mean_absolute_error: 10.2023\n",
            "Epoch 11/300\n",
            "11/11 [==============================] - 0s 6ms/step - loss: 168.5243 - mean_absolute_error: 9.9623 - val_loss: 157.9422 - val_mean_absolute_error: 9.6945\n",
            "Epoch 12/300\n",
            "11/11 [==============================] - 0s 8ms/step - loss: 157.0560 - mean_absolute_error: 9.5055 - val_loss: 147.4891 - val_mean_absolute_error: 9.2552\n",
            "Epoch 13/300\n",
            "11/11 [==============================] - 0s 6ms/step - loss: 147.0388 - mean_absolute_error: 9.0952 - val_loss: 138.0932 - val_mean_absolute_error: 8.8477\n",
            "Epoch 14/300\n",
            "11/11 [==============================] - 0s 8ms/step - loss: 138.1742 - mean_absolute_error: 8.7280 - val_loss: 129.3861 - val_mean_absolute_error: 8.4612\n",
            "Epoch 15/300\n",
            "11/11 [==============================] - 0s 6ms/step - loss: 129.7237 - mean_absolute_error: 8.3762 - val_loss: 121.8355 - val_mean_absolute_error: 8.1392\n",
            "Epoch 16/300\n",
            "11/11 [==============================] - 0s 6ms/step - loss: 123.0083 - mean_absolute_error: 8.0859 - val_loss: 115.1242 - val_mean_absolute_error: 7.8600\n",
            "Epoch 17/300\n",
            "11/11 [==============================] - 0s 7ms/step - loss: 116.6949 - mean_absolute_error: 7.8200 - val_loss: 109.6384 - val_mean_absolute_error: 7.6198\n",
            "Epoch 18/300\n",
            "11/11 [==============================] - 0s 6ms/step - loss: 111.5219 - mean_absolute_error: 7.5763 - val_loss: 104.7178 - val_mean_absolute_error: 7.3875\n",
            "Epoch 19/300\n",
            "11/11 [==============================] - 0s 8ms/step - loss: 106.9190 - mean_absolute_error: 7.3792 - val_loss: 100.7081 - val_mean_absolute_error: 7.1970\n",
            "Epoch 20/300\n",
            "11/11 [==============================] - 0s 8ms/step - loss: 103.2909 - mean_absolute_error: 7.2190 - val_loss: 97.4221 - val_mean_absolute_error: 7.0519\n",
            "Epoch 21/300\n",
            "11/11 [==============================] - 0s 7ms/step - loss: 100.1266 - mean_absolute_error: 7.0709 - val_loss: 94.3202 - val_mean_absolute_error: 6.9137\n",
            "Epoch 22/300\n",
            "11/11 [==============================] - 0s 8ms/step - loss: 97.1380 - mean_absolute_error: 6.9289 - val_loss: 91.5344 - val_mean_absolute_error: 6.7867\n",
            "Epoch 23/300\n",
            "11/11 [==============================] - 0s 7ms/step - loss: 94.3441 - mean_absolute_error: 6.7990 - val_loss: 88.9023 - val_mean_absolute_error: 6.6756\n",
            "Epoch 24/300\n",
            "11/11 [==============================] - 0s 6ms/step - loss: 92.2001 - mean_absolute_error: 6.7023 - val_loss: 86.9840 - val_mean_absolute_error: 6.6081\n",
            "Epoch 25/300\n",
            "11/11 [==============================] - 0s 6ms/step - loss: 90.4216 - mean_absolute_error: 6.6300 - val_loss: 85.3279 - val_mean_absolute_error: 6.5643\n",
            "Epoch 26/300\n",
            "11/11 [==============================] - 0s 6ms/step - loss: 89.0492 - mean_absolute_error: 6.5831 - val_loss: 84.0139 - val_mean_absolute_error: 6.5323\n",
            "Epoch 27/300\n",
            "11/11 [==============================] - 0s 8ms/step - loss: 87.8366 - mean_absolute_error: 6.5444 - val_loss: 83.0415 - val_mean_absolute_error: 6.5070\n",
            "Epoch 28/300\n",
            "11/11 [==============================] - 0s 6ms/step - loss: 86.8948 - mean_absolute_error: 6.5208 - val_loss: 82.1454 - val_mean_absolute_error: 6.4853\n",
            "Epoch 29/300\n",
            "11/11 [==============================] - 0s 7ms/step - loss: 86.2280 - mean_absolute_error: 6.5063 - val_loss: 81.5860 - val_mean_absolute_error: 6.4744\n",
            "Epoch 30/300\n",
            "11/11 [==============================] - 0s 6ms/step - loss: 85.7185 - mean_absolute_error: 6.5032 - val_loss: 81.0233 - val_mean_absolute_error: 6.4631\n",
            "Epoch 31/300\n",
            "11/11 [==============================] - 0s 7ms/step - loss: 85.3074 - mean_absolute_error: 6.4976 - val_loss: 80.7023 - val_mean_absolute_error: 6.4558\n",
            "Epoch 32/300\n",
            "11/11 [==============================] - 0s 7ms/step - loss: 84.9665 - mean_absolute_error: 6.4946 - val_loss: 80.4610 - val_mean_absolute_error: 6.4500\n",
            "Epoch 33/300\n",
            "11/11 [==============================] - 0s 7ms/step - loss: 84.7117 - mean_absolute_error: 6.4952 - val_loss: 80.2022 - val_mean_absolute_error: 6.4430\n",
            "Epoch 34/300\n",
            "11/11 [==============================] - 0s 9ms/step - loss: 84.4659 - mean_absolute_error: 6.4957 - val_loss: 79.9273 - val_mean_absolute_error: 6.4359\n",
            "Epoch 35/300\n",
            "11/11 [==============================] - 0s 9ms/step - loss: 84.2124 - mean_absolute_error: 6.5024 - val_loss: 79.6318 - val_mean_absolute_error: 6.4297\n",
            "Epoch 36/300\n",
            "11/11 [==============================] - 0s 6ms/step - loss: 83.9521 - mean_absolute_error: 6.5035 - val_loss: 79.4831 - val_mean_absolute_error: 6.4257\n",
            "Epoch 37/300\n",
            "11/11 [==============================] - 0s 6ms/step - loss: 83.7647 - mean_absolute_error: 6.5057 - val_loss: 79.2948 - val_mean_absolute_error: 6.4222\n",
            "Epoch 38/300\n",
            "11/11 [==============================] - 0s 6ms/step - loss: 83.6527 - mean_absolute_error: 6.5200 - val_loss: 79.0104 - val_mean_absolute_error: 6.4259\n",
            "Epoch 39/300\n",
            "11/11 [==============================] - 0s 9ms/step - loss: 83.3079 - mean_absolute_error: 6.5175 - val_loss: 78.8251 - val_mean_absolute_error: 6.4245\n",
            "Epoch 40/300\n",
            "11/11 [==============================] - 0s 7ms/step - loss: 83.0833 - mean_absolute_error: 6.5207 - val_loss: 78.5533 - val_mean_absolute_error: 6.4263\n",
            "Epoch 41/300\n",
            "11/11 [==============================] - 0s 7ms/step - loss: 82.5431 - mean_absolute_error: 6.5022 - val_loss: 77.9963 - val_mean_absolute_error: 6.4008\n",
            "Epoch 42/300\n",
            "11/11 [==============================] - 0s 6ms/step - loss: 81.2484 - mean_absolute_error: 6.4184 - val_loss: 76.2744 - val_mean_absolute_error: 6.3115\n",
            "Epoch 43/300\n",
            "11/11 [==============================] - 0s 8ms/step - loss: 77.3957 - mean_absolute_error: 6.1435 - val_loss: 72.0389 - val_mean_absolute_error: 6.0196\n",
            "Epoch 44/300\n",
            "11/11 [==============================] - 0s 7ms/step - loss: 70.7049 - mean_absolute_error: 5.5823 - val_loss: 69.4204 - val_mean_absolute_error: 5.5960\n",
            "Epoch 45/300\n",
            "11/11 [==============================] - 0s 6ms/step - loss: 69.5064 - mean_absolute_error: 5.4034 - val_loss: 68.3631 - val_mean_absolute_error: 5.6030\n",
            "Epoch 46/300\n",
            "11/11 [==============================] - 0s 6ms/step - loss: 67.5554 - mean_absolute_error: 5.3111 - val_loss: 67.0192 - val_mean_absolute_error: 5.5399\n",
            "Epoch 47/300\n",
            "11/11 [==============================] - 0s 8ms/step - loss: 65.8457 - mean_absolute_error: 5.2100 - val_loss: 65.7716 - val_mean_absolute_error: 5.5567\n",
            "Epoch 48/300\n",
            "11/11 [==============================] - 0s 6ms/step - loss: 65.0522 - mean_absolute_error: 5.3692 - val_loss: 66.2551 - val_mean_absolute_error: 5.7105\n",
            "Epoch 49/300\n",
            "11/11 [==============================] - 0s 7ms/step - loss: 63.6346 - mean_absolute_error: 5.2606 - val_loss: 65.1799 - val_mean_absolute_error: 5.4816\n",
            "Epoch 50/300\n",
            "11/11 [==============================] - 0s 7ms/step - loss: 62.7542 - mean_absolute_error: 5.1189 - val_loss: 63.7302 - val_mean_absolute_error: 5.3970\n",
            "Epoch 51/300\n",
            "11/11 [==============================] - 0s 8ms/step - loss: 62.1595 - mean_absolute_error: 5.0911 - val_loss: 63.8348 - val_mean_absolute_error: 5.3726\n",
            "Epoch 52/300\n",
            "11/11 [==============================] - 0s 8ms/step - loss: 60.4230 - mean_absolute_error: 5.0504 - val_loss: 62.5586 - val_mean_absolute_error: 5.5459\n",
            "Epoch 53/300\n",
            "11/11 [==============================] - 0s 6ms/step - loss: 59.8546 - mean_absolute_error: 5.0997 - val_loss: 61.6340 - val_mean_absolute_error: 5.4420\n",
            "Epoch 54/300\n",
            "11/11 [==============================] - 0s 6ms/step - loss: 59.3595 - mean_absolute_error: 5.0056 - val_loss: 61.4153 - val_mean_absolute_error: 5.4898\n",
            "Epoch 55/300\n",
            "11/11 [==============================] - 0s 7ms/step - loss: 58.3261 - mean_absolute_error: 5.1049 - val_loss: 61.0527 - val_mean_absolute_error: 5.5646\n",
            "Epoch 56/300\n",
            "11/11 [==============================] - 0s 7ms/step - loss: 57.3766 - mean_absolute_error: 5.0522 - val_loss: 59.5340 - val_mean_absolute_error: 5.3280\n",
            "Epoch 57/300\n",
            "11/11 [==============================] - 0s 7ms/step - loss: 57.7040 - mean_absolute_error: 4.9465 - val_loss: 59.8187 - val_mean_absolute_error: 5.3657\n",
            "Epoch 58/300\n",
            "11/11 [==============================] - 0s 6ms/step - loss: 57.0075 - mean_absolute_error: 5.0286 - val_loss: 59.1996 - val_mean_absolute_error: 5.3675\n",
            "Epoch 59/300\n",
            "11/11 [==============================] - 0s 8ms/step - loss: 56.1191 - mean_absolute_error: 4.9688 - val_loss: 58.4784 - val_mean_absolute_error: 5.3290\n",
            "Epoch 60/300\n",
            "11/11 [==============================] - 0s 7ms/step - loss: 55.2602 - mean_absolute_error: 4.9238 - val_loss: 58.0669 - val_mean_absolute_error: 5.3186\n",
            "Epoch 61/300\n",
            "11/11 [==============================] - 0s 6ms/step - loss: 54.8844 - mean_absolute_error: 4.9066 - val_loss: 57.4860 - val_mean_absolute_error: 5.2867\n",
            "Epoch 62/300\n",
            "11/11 [==============================] - 0s 6ms/step - loss: 53.9895 - mean_absolute_error: 4.9167 - val_loss: 57.2250 - val_mean_absolute_error: 5.3212\n",
            "Epoch 63/300\n",
            "11/11 [==============================] - 0s 8ms/step - loss: 53.9879 - mean_absolute_error: 4.9375 - val_loss: 55.9253 - val_mean_absolute_error: 5.0907\n",
            "Epoch 64/300\n",
            "11/11 [==============================] - 0s 8ms/step - loss: 53.0744 - mean_absolute_error: 4.8307 - val_loss: 55.5025 - val_mean_absolute_error: 5.1592\n",
            "Epoch 65/300\n",
            "11/11 [==============================] - 0s 7ms/step - loss: 53.1209 - mean_absolute_error: 4.7773 - val_loss: 55.4296 - val_mean_absolute_error: 5.1245\n",
            "Epoch 66/300\n",
            "11/11 [==============================] - 0s 6ms/step - loss: 52.4231 - mean_absolute_error: 4.8430 - val_loss: 53.9557 - val_mean_absolute_error: 5.0909\n",
            "Epoch 67/300\n",
            "11/11 [==============================] - 0s 7ms/step - loss: 51.3141 - mean_absolute_error: 4.7207 - val_loss: 53.4398 - val_mean_absolute_error: 5.0103\n",
            "Epoch 68/300\n",
            "11/11 [==============================] - 0s 8ms/step - loss: 50.1947 - mean_absolute_error: 4.6833 - val_loss: 52.4839 - val_mean_absolute_error: 4.9580\n",
            "Epoch 69/300\n",
            "11/11 [==============================] - 0s 7ms/step - loss: 49.4950 - mean_absolute_error: 4.6429 - val_loss: 51.2360 - val_mean_absolute_error: 4.8694\n",
            "Epoch 70/300\n",
            "11/11 [==============================] - 0s 7ms/step - loss: 49.1047 - mean_absolute_error: 4.6139 - val_loss: 51.0409 - val_mean_absolute_error: 4.9162\n",
            "Epoch 71/300\n",
            "11/11 [==============================] - 0s 8ms/step - loss: 48.6453 - mean_absolute_error: 4.5508 - val_loss: 50.2118 - val_mean_absolute_error: 4.7798\n",
            "Epoch 72/300\n",
            "11/11 [==============================] - 0s 6ms/step - loss: 49.1291 - mean_absolute_error: 4.7154 - val_loss: 50.5439 - val_mean_absolute_error: 4.8993\n",
            "Epoch 73/300\n",
            "11/11 [==============================] - 0s 7ms/step - loss: 47.9648 - mean_absolute_error: 4.7166 - val_loss: 51.0195 - val_mean_absolute_error: 4.8991\n",
            "Epoch 74/300\n",
            "11/11 [==============================] - 0s 6ms/step - loss: 48.2437 - mean_absolute_error: 4.5582 - val_loss: 48.9817 - val_mean_absolute_error: 4.7535\n",
            "Epoch 75/300\n",
            "11/11 [==============================] - 0s 7ms/step - loss: 46.5831 - mean_absolute_error: 4.5263 - val_loss: 48.5046 - val_mean_absolute_error: 4.6980\n",
            "Epoch 76/300\n",
            "11/11 [==============================] - 0s 6ms/step - loss: 45.8898 - mean_absolute_error: 4.4438 - val_loss: 48.0612 - val_mean_absolute_error: 4.6716\n",
            "Epoch 77/300\n",
            "11/11 [==============================] - 0s 7ms/step - loss: 45.7268 - mean_absolute_error: 4.4511 - val_loss: 46.5414 - val_mean_absolute_error: 4.5425\n",
            "Epoch 78/300\n",
            "11/11 [==============================] - 0s 6ms/step - loss: 45.2331 - mean_absolute_error: 4.3819 - val_loss: 47.9794 - val_mean_absolute_error: 4.6680\n",
            "Epoch 79/300\n",
            "11/11 [==============================] - 0s 7ms/step - loss: 44.0683 - mean_absolute_error: 4.3385 - val_loss: 46.1463 - val_mean_absolute_error: 4.5338\n",
            "Epoch 80/300\n",
            "11/11 [==============================] - 0s 8ms/step - loss: 43.6495 - mean_absolute_error: 4.3263 - val_loss: 46.7290 - val_mean_absolute_error: 4.6286\n",
            "Epoch 81/300\n",
            "11/11 [==============================] - 0s 6ms/step - loss: 42.7436 - mean_absolute_error: 4.2523 - val_loss: 45.0620 - val_mean_absolute_error: 4.4465\n",
            "Epoch 82/300\n",
            "11/11 [==============================] - 0s 7ms/step - loss: 42.7457 - mean_absolute_error: 4.3092 - val_loss: 45.9179 - val_mean_absolute_error: 4.5626\n",
            "Epoch 83/300\n",
            "11/11 [==============================] - 0s 7ms/step - loss: 42.7752 - mean_absolute_error: 4.3130 - val_loss: 44.0654 - val_mean_absolute_error: 4.4477\n",
            "Epoch 84/300\n",
            "11/11 [==============================] - 0s 8ms/step - loss: 40.9689 - mean_absolute_error: 4.1149 - val_loss: 44.5507 - val_mean_absolute_error: 4.5134\n",
            "Epoch 85/300\n",
            "11/11 [==============================] - 0s 8ms/step - loss: 40.7723 - mean_absolute_error: 4.2295 - val_loss: 43.3274 - val_mean_absolute_error: 4.4326\n",
            "Epoch 86/300\n",
            "11/11 [==============================] - 0s 8ms/step - loss: 39.8293 - mean_absolute_error: 4.1410 - val_loss: 42.5897 - val_mean_absolute_error: 4.3362\n",
            "Epoch 87/300\n",
            "11/11 [==============================] - 0s 7ms/step - loss: 39.2697 - mean_absolute_error: 4.0225 - val_loss: 42.8434 - val_mean_absolute_error: 4.5608\n",
            "Epoch 88/300\n",
            "11/11 [==============================] - 0s 8ms/step - loss: 37.9036 - mean_absolute_error: 4.0612 - val_loss: 39.7732 - val_mean_absolute_error: 4.3186\n",
            "Epoch 89/300\n",
            "11/11 [==============================] - 0s 6ms/step - loss: 36.6589 - mean_absolute_error: 4.0081 - val_loss: 39.9147 - val_mean_absolute_error: 4.3520\n",
            "Epoch 90/300\n",
            "11/11 [==============================] - 0s 8ms/step - loss: 36.1301 - mean_absolute_error: 3.9223 - val_loss: 38.2967 - val_mean_absolute_error: 4.2334\n",
            "Epoch 91/300\n",
            "11/11 [==============================] - 0s 7ms/step - loss: 39.7416 - mean_absolute_error: 4.1098 - val_loss: 39.6228 - val_mean_absolute_error: 4.5738\n",
            "Epoch 92/300\n",
            "11/11 [==============================] - 0s 7ms/step - loss: 35.7212 - mean_absolute_error: 4.1206 - val_loss: 37.6691 - val_mean_absolute_error: 4.1714\n",
            "Epoch 93/300\n",
            "11/11 [==============================] - 0s 7ms/step - loss: 33.1770 - mean_absolute_error: 3.8372 - val_loss: 37.0995 - val_mean_absolute_error: 4.1394\n",
            "Epoch 94/300\n",
            "11/11 [==============================] - 0s 6ms/step - loss: 32.6442 - mean_absolute_error: 3.6970 - val_loss: 35.9453 - val_mean_absolute_error: 4.1942\n",
            "Epoch 95/300\n",
            "11/11 [==============================] - 0s 9ms/step - loss: 31.4773 - mean_absolute_error: 3.6788 - val_loss: 36.3717 - val_mean_absolute_error: 4.2002\n",
            "Epoch 96/300\n",
            "11/11 [==============================] - 0s 9ms/step - loss: 31.6780 - mean_absolute_error: 3.7104 - val_loss: 37.1944 - val_mean_absolute_error: 4.3237\n",
            "Epoch 97/300\n",
            "11/11 [==============================] - 0s 7ms/step - loss: 31.8752 - mean_absolute_error: 3.7393 - val_loss: 34.5360 - val_mean_absolute_error: 4.0499\n",
            "Epoch 98/300\n",
            "11/11 [==============================] - 0s 7ms/step - loss: 30.5940 - mean_absolute_error: 3.6588 - val_loss: 34.7989 - val_mean_absolute_error: 4.1861\n",
            "Epoch 99/300\n",
            "11/11 [==============================] - 0s 7ms/step - loss: 30.9069 - mean_absolute_error: 3.8074 - val_loss: 35.3703 - val_mean_absolute_error: 4.1997\n",
            "Epoch 100/300\n",
            "11/11 [==============================] - 0s 8ms/step - loss: 29.7020 - mean_absolute_error: 3.6820 - val_loss: 32.9408 - val_mean_absolute_error: 3.9836\n",
            "Epoch 101/300\n",
            "11/11 [==============================] - 0s 6ms/step - loss: 28.7385 - mean_absolute_error: 3.4877 - val_loss: 32.7225 - val_mean_absolute_error: 4.0371\n",
            "Epoch 102/300\n",
            "11/11 [==============================] - 0s 6ms/step - loss: 28.4288 - mean_absolute_error: 3.5233 - val_loss: 35.0962 - val_mean_absolute_error: 4.3151\n",
            "Epoch 103/300\n",
            "11/11 [==============================] - 0s 7ms/step - loss: 28.3552 - mean_absolute_error: 3.5128 - val_loss: 33.1948 - val_mean_absolute_error: 4.1591\n",
            "Epoch 104/300\n",
            "11/11 [==============================] - 0s 8ms/step - loss: 27.9416 - mean_absolute_error: 3.6078 - val_loss: 32.6942 - val_mean_absolute_error: 3.9241\n",
            "Epoch 105/300\n",
            "11/11 [==============================] - 0s 8ms/step - loss: 28.0777 - mean_absolute_error: 3.5536 - val_loss: 32.7684 - val_mean_absolute_error: 4.1832\n",
            "Epoch 106/300\n",
            "11/11 [==============================] - 0s 7ms/step - loss: 27.7746 - mean_absolute_error: 3.5709 - val_loss: 32.8895 - val_mean_absolute_error: 4.1362\n",
            "Epoch 107/300\n",
            "11/11 [==============================] - 0s 8ms/step - loss: 29.1908 - mean_absolute_error: 3.8312 - val_loss: 32.0775 - val_mean_absolute_error: 3.9024\n",
            "Epoch 108/300\n",
            "11/11 [==============================] - 0s 8ms/step - loss: 29.3906 - mean_absolute_error: 3.7018 - val_loss: 33.6118 - val_mean_absolute_error: 4.3589\n",
            "Epoch 109/300\n",
            "11/11 [==============================] - 0s 6ms/step - loss: 28.0226 - mean_absolute_error: 3.6210 - val_loss: 32.7240 - val_mean_absolute_error: 4.1930\n",
            "Epoch 110/300\n",
            "11/11 [==============================] - 0s 6ms/step - loss: 26.2789 - mean_absolute_error: 3.5541 - val_loss: 30.3858 - val_mean_absolute_error: 3.9291\n",
            "Epoch 111/300\n",
            "11/11 [==============================] - 0s 6ms/step - loss: 28.4545 - mean_absolute_error: 3.5724 - val_loss: 30.4388 - val_mean_absolute_error: 3.8585\n",
            "Epoch 112/300\n",
            "11/11 [==============================] - 0s 6ms/step - loss: 26.9220 - mean_absolute_error: 3.4274 - val_loss: 29.0565 - val_mean_absolute_error: 3.9889\n",
            "Epoch 113/300\n",
            "11/11 [==============================] - 0s 7ms/step - loss: 25.3541 - mean_absolute_error: 3.4251 - val_loss: 28.7897 - val_mean_absolute_error: 3.8171\n",
            "Epoch 114/300\n",
            "11/11 [==============================] - 0s 7ms/step - loss: 24.1607 - mean_absolute_error: 3.3531 - val_loss: 27.6174 - val_mean_absolute_error: 3.7151\n",
            "Epoch 115/300\n",
            "11/11 [==============================] - 0s 7ms/step - loss: 23.9069 - mean_absolute_error: 3.3008 - val_loss: 28.2037 - val_mean_absolute_error: 3.7729\n",
            "Epoch 116/300\n",
            "11/11 [==============================] - 0s 8ms/step - loss: 23.4732 - mean_absolute_error: 3.2916 - val_loss: 27.5356 - val_mean_absolute_error: 3.7812\n",
            "Epoch 117/300\n",
            "11/11 [==============================] - 0s 7ms/step - loss: 23.3605 - mean_absolute_error: 3.2833 - val_loss: 27.5544 - val_mean_absolute_error: 3.7991\n",
            "Epoch 118/300\n",
            "11/11 [==============================] - 0s 6ms/step - loss: 22.7900 - mean_absolute_error: 3.2674 - val_loss: 26.6293 - val_mean_absolute_error: 3.7061\n",
            "Epoch 119/300\n",
            "11/11 [==============================] - 0s 7ms/step - loss: 22.3448 - mean_absolute_error: 3.1771 - val_loss: 29.6789 - val_mean_absolute_error: 4.0409\n",
            "Epoch 120/300\n",
            "11/11 [==============================] - 0s 7ms/step - loss: 23.8889 - mean_absolute_error: 3.3367 - val_loss: 29.3605 - val_mean_absolute_error: 4.0397\n",
            "Epoch 121/300\n",
            "11/11 [==============================] - 0s 6ms/step - loss: 23.1367 - mean_absolute_error: 3.3246 - val_loss: 27.7160 - val_mean_absolute_error: 3.8918\n",
            "Epoch 122/300\n",
            "11/11 [==============================] - 0s 7ms/step - loss: 23.1347 - mean_absolute_error: 3.3795 - val_loss: 27.3931 - val_mean_absolute_error: 3.7433\n",
            "Epoch 123/300\n",
            "11/11 [==============================] - 0s 7ms/step - loss: 22.8927 - mean_absolute_error: 3.3789 - val_loss: 26.8395 - val_mean_absolute_error: 3.8138\n",
            "Epoch 124/300\n",
            "11/11 [==============================] - 0s 9ms/step - loss: 22.6634 - mean_absolute_error: 3.3862 - val_loss: 30.0084 - val_mean_absolute_error: 4.0037\n",
            "Epoch 125/300\n",
            "11/11 [==============================] - 0s 7ms/step - loss: 23.7037 - mean_absolute_error: 3.3814 - val_loss: 27.6111 - val_mean_absolute_error: 3.8003\n",
            "Epoch 126/300\n",
            "11/11 [==============================] - 0s 7ms/step - loss: 22.1072 - mean_absolute_error: 3.2572 - val_loss: 26.8108 - val_mean_absolute_error: 3.7954\n",
            "Epoch 127/300\n",
            "11/11 [==============================] - 0s 8ms/step - loss: 21.8855 - mean_absolute_error: 3.2610 - val_loss: 26.8707 - val_mean_absolute_error: 3.7981\n",
            "Epoch 128/300\n",
            "11/11 [==============================] - 0s 8ms/step - loss: 20.8447 - mean_absolute_error: 3.1478 - val_loss: 26.5719 - val_mean_absolute_error: 3.7882\n",
            "Epoch 129/300\n",
            "11/11 [==============================] - 0s 6ms/step - loss: 20.5329 - mean_absolute_error: 3.1543 - val_loss: 26.4682 - val_mean_absolute_error: 3.8258\n",
            "Epoch 130/300\n",
            "11/11 [==============================] - 0s 7ms/step - loss: 20.4867 - mean_absolute_error: 3.1706 - val_loss: 25.4406 - val_mean_absolute_error: 3.6405\n",
            "Epoch 131/300\n",
            "11/11 [==============================] - 0s 7ms/step - loss: 20.8206 - mean_absolute_error: 3.2333 - val_loss: 25.5726 - val_mean_absolute_error: 3.6511\n",
            "Epoch 132/300\n",
            "11/11 [==============================] - 0s 6ms/step - loss: 21.1639 - mean_absolute_error: 3.2389 - val_loss: 28.0053 - val_mean_absolute_error: 3.9679\n",
            "Epoch 133/300\n",
            "11/11 [==============================] - 0s 7ms/step - loss: 23.1416 - mean_absolute_error: 3.3439 - val_loss: 27.9977 - val_mean_absolute_error: 3.8584\n",
            "Epoch 134/300\n",
            "11/11 [==============================] - 0s 7ms/step - loss: 21.3391 - mean_absolute_error: 3.1780 - val_loss: 26.1080 - val_mean_absolute_error: 3.6571\n",
            "Epoch 135/300\n",
            "11/11 [==============================] - 0s 7ms/step - loss: 21.0435 - mean_absolute_error: 3.2424 - val_loss: 26.9505 - val_mean_absolute_error: 3.7369\n",
            "Epoch 136/300\n",
            "11/11 [==============================] - 0s 8ms/step - loss: 20.7765 - mean_absolute_error: 3.1654 - val_loss: 24.9676 - val_mean_absolute_error: 3.6538\n",
            "Epoch 137/300\n",
            "11/11 [==============================] - 0s 8ms/step - loss: 19.8346 - mean_absolute_error: 3.0616 - val_loss: 24.8457 - val_mean_absolute_error: 3.6434\n",
            "Epoch 138/300\n",
            "11/11 [==============================] - 0s 7ms/step - loss: 19.7790 - mean_absolute_error: 3.0872 - val_loss: 25.3735 - val_mean_absolute_error: 3.6444\n",
            "Epoch 139/300\n",
            "11/11 [==============================] - 0s 7ms/step - loss: 19.8344 - mean_absolute_error: 3.1785 - val_loss: 24.2711 - val_mean_absolute_error: 3.6298\n",
            "Epoch 140/300\n",
            "11/11 [==============================] - 0s 7ms/step - loss: 18.8927 - mean_absolute_error: 3.0572 - val_loss: 24.9154 - val_mean_absolute_error: 3.6208\n",
            "Epoch 141/300\n",
            "11/11 [==============================] - 0s 7ms/step - loss: 18.5456 - mean_absolute_error: 3.0181 - val_loss: 24.5433 - val_mean_absolute_error: 3.6042\n",
            "Epoch 142/300\n",
            "11/11 [==============================] - 0s 6ms/step - loss: 18.5281 - mean_absolute_error: 3.0304 - val_loss: 25.2305 - val_mean_absolute_error: 3.6697\n",
            "Epoch 143/300\n",
            "11/11 [==============================] - 0s 8ms/step - loss: 19.0132 - mean_absolute_error: 3.0539 - val_loss: 26.4765 - val_mean_absolute_error: 3.8646\n",
            "Epoch 144/300\n",
            "11/11 [==============================] - 0s 7ms/step - loss: 20.6329 - mean_absolute_error: 3.2436 - val_loss: 23.1981 - val_mean_absolute_error: 3.5048\n",
            "Epoch 145/300\n",
            "11/11 [==============================] - 0s 7ms/step - loss: 21.4111 - mean_absolute_error: 3.3558 - val_loss: 26.0270 - val_mean_absolute_error: 3.6840\n",
            "Epoch 146/300\n",
            "11/11 [==============================] - 0s 10ms/step - loss: 23.0341 - mean_absolute_error: 3.4164 - val_loss: 29.4051 - val_mean_absolute_error: 4.1419\n",
            "Epoch 147/300\n",
            "11/11 [==============================] - 0s 8ms/step - loss: 19.6060 - mean_absolute_error: 3.1139 - val_loss: 26.6456 - val_mean_absolute_error: 3.8063\n",
            "Epoch 148/300\n",
            "11/11 [==============================] - 0s 8ms/step - loss: 18.5142 - mean_absolute_error: 3.0990 - val_loss: 23.5646 - val_mean_absolute_error: 3.5402\n",
            "Epoch 149/300\n",
            "11/11 [==============================] - 0s 8ms/step - loss: 17.7625 - mean_absolute_error: 3.0042 - val_loss: 23.2136 - val_mean_absolute_error: 3.5466\n",
            "Epoch 150/300\n",
            "11/11 [==============================] - 0s 8ms/step - loss: 17.2740 - mean_absolute_error: 2.9555 - val_loss: 24.2129 - val_mean_absolute_error: 3.5234\n",
            "Epoch 151/300\n",
            "11/11 [==============================] - 0s 7ms/step - loss: 20.0929 - mean_absolute_error: 3.1487 - val_loss: 27.2656 - val_mean_absolute_error: 3.9124\n",
            "Epoch 152/300\n",
            "11/11 [==============================] - 0s 7ms/step - loss: 17.5812 - mean_absolute_error: 2.9930 - val_loss: 25.5104 - val_mean_absolute_error: 3.6167\n",
            "Epoch 153/300\n",
            "11/11 [==============================] - 0s 7ms/step - loss: 18.3351 - mean_absolute_error: 3.0796 - val_loss: 24.0594 - val_mean_absolute_error: 3.4757\n",
            "Epoch 154/300\n",
            "11/11 [==============================] - 0s 10ms/step - loss: 18.0048 - mean_absolute_error: 2.9872 - val_loss: 25.1218 - val_mean_absolute_error: 3.6261\n",
            "Epoch 155/300\n",
            "11/11 [==============================] - 0s 7ms/step - loss: 17.4519 - mean_absolute_error: 3.0121 - val_loss: 24.1908 - val_mean_absolute_error: 3.6122\n",
            "Epoch 156/300\n",
            "11/11 [==============================] - 0s 7ms/step - loss: 18.2243 - mean_absolute_error: 3.0688 - val_loss: 24.7707 - val_mean_absolute_error: 3.6426\n",
            "Epoch 157/300\n",
            "11/11 [==============================] - 0s 9ms/step - loss: 19.7485 - mean_absolute_error: 3.1418 - val_loss: 24.5349 - val_mean_absolute_error: 3.6357\n",
            "Epoch 158/300\n",
            "11/11 [==============================] - 0s 8ms/step - loss: 20.5387 - mean_absolute_error: 3.2209 - val_loss: 27.8628 - val_mean_absolute_error: 3.9847\n",
            "Epoch 159/300\n",
            "11/11 [==============================] - 0s 7ms/step - loss: 17.9359 - mean_absolute_error: 3.0990 - val_loss: 23.1333 - val_mean_absolute_error: 3.4834\n",
            "Epoch 160/300\n",
            "11/11 [==============================] - 0s 8ms/step - loss: 18.2197 - mean_absolute_error: 3.0783 - val_loss: 23.1615 - val_mean_absolute_error: 3.4750\n",
            "Epoch 161/300\n",
            "11/11 [==============================] - 0s 7ms/step - loss: 20.4823 - mean_absolute_error: 3.1637 - val_loss: 21.4397 - val_mean_absolute_error: 3.3852\n",
            "Epoch 162/300\n",
            "11/11 [==============================] - 0s 7ms/step - loss: 18.5343 - mean_absolute_error: 3.0397 - val_loss: 22.1644 - val_mean_absolute_error: 3.5224\n",
            "Epoch 163/300\n",
            "11/11 [==============================] - 0s 6ms/step - loss: 18.0443 - mean_absolute_error: 3.1252 - val_loss: 23.5082 - val_mean_absolute_error: 3.4962\n",
            "Epoch 164/300\n",
            "11/11 [==============================] - 0s 7ms/step - loss: 17.2034 - mean_absolute_error: 2.9190 - val_loss: 23.8691 - val_mean_absolute_error: 3.5546\n",
            "Epoch 165/300\n",
            "11/11 [==============================] - 0s 7ms/step - loss: 18.6222 - mean_absolute_error: 2.9684 - val_loss: 23.6503 - val_mean_absolute_error: 3.4282\n",
            "Epoch 166/300\n",
            "11/11 [==============================] - 0s 7ms/step - loss: 17.8772 - mean_absolute_error: 3.0501 - val_loss: 26.1695 - val_mean_absolute_error: 3.7115\n",
            "Epoch 167/300\n",
            "11/11 [==============================] - 0s 8ms/step - loss: 18.9750 - mean_absolute_error: 3.0915 - val_loss: 24.2764 - val_mean_absolute_error: 3.6241\n",
            "Epoch 168/300\n",
            "11/11 [==============================] - 0s 8ms/step - loss: 17.4047 - mean_absolute_error: 2.9435 - val_loss: 26.5205 - val_mean_absolute_error: 3.8357\n",
            "Epoch 169/300\n",
            "11/11 [==============================] - 0s 7ms/step - loss: 16.7467 - mean_absolute_error: 2.9162 - val_loss: 25.1247 - val_mean_absolute_error: 3.6392\n",
            "Epoch 170/300\n",
            "11/11 [==============================] - 0s 6ms/step - loss: 17.0313 - mean_absolute_error: 2.8978 - val_loss: 25.9978 - val_mean_absolute_error: 3.7275\n",
            "Epoch 171/300\n",
            "11/11 [==============================] - 0s 9ms/step - loss: 18.7587 - mean_absolute_error: 2.9929 - val_loss: 25.5387 - val_mean_absolute_error: 3.7252\n",
            "Epoch 172/300\n",
            "11/11 [==============================] - 0s 8ms/step - loss: 18.1303 - mean_absolute_error: 3.0909 - val_loss: 26.8943 - val_mean_absolute_error: 3.7546\n",
            "Epoch 173/300\n",
            "11/11 [==============================] - 0s 8ms/step - loss: 26.5242 - mean_absolute_error: 3.9093 - val_loss: 33.6293 - val_mean_absolute_error: 4.4570\n",
            "Epoch 174/300\n",
            "11/11 [==============================] - 0s 7ms/step - loss: 23.4244 - mean_absolute_error: 3.5191 - val_loss: 26.5332 - val_mean_absolute_error: 3.8561\n",
            "Epoch 175/300\n",
            "11/11 [==============================] - 0s 9ms/step - loss: 18.1447 - mean_absolute_error: 3.0543 - val_loss: 24.6544 - val_mean_absolute_error: 3.5731\n",
            "Epoch 176/300\n",
            "11/11 [==============================] - 0s 8ms/step - loss: 17.3000 - mean_absolute_error: 2.9721 - val_loss: 24.5184 - val_mean_absolute_error: 3.5851\n",
            "Epoch 177/300\n",
            "11/11 [==============================] - 0s 6ms/step - loss: 16.6744 - mean_absolute_error: 2.9211 - val_loss: 24.4111 - val_mean_absolute_error: 3.5846\n",
            "Epoch 178/300\n",
            "11/11 [==============================] - 0s 7ms/step - loss: 16.7636 - mean_absolute_error: 2.9008 - val_loss: 23.8379 - val_mean_absolute_error: 3.5625\n",
            "Epoch 179/300\n",
            "11/11 [==============================] - 0s 7ms/step - loss: 15.9552 - mean_absolute_error: 2.8234 - val_loss: 24.1759 - val_mean_absolute_error: 3.5682\n",
            "Epoch 180/300\n",
            "11/11 [==============================] - 0s 9ms/step - loss: 15.7626 - mean_absolute_error: 2.8164 - val_loss: 23.4705 - val_mean_absolute_error: 3.5326\n",
            "Epoch 181/300\n",
            "11/11 [==============================] - 0s 6ms/step - loss: 16.2880 - mean_absolute_error: 2.8577 - val_loss: 24.6022 - val_mean_absolute_error: 3.6248\n",
            "Epoch 182/300\n",
            "11/11 [==============================] - 0s 9ms/step - loss: 16.1928 - mean_absolute_error: 2.8402 - val_loss: 24.6051 - val_mean_absolute_error: 3.5710\n",
            "Epoch 183/300\n",
            "11/11 [==============================] - 0s 8ms/step - loss: 15.9728 - mean_absolute_error: 2.8334 - val_loss: 23.7421 - val_mean_absolute_error: 3.5636\n",
            "Epoch 184/300\n",
            "11/11 [==============================] - 0s 7ms/step - loss: 15.9027 - mean_absolute_error: 2.8420 - val_loss: 23.7370 - val_mean_absolute_error: 3.4790\n",
            "Epoch 185/300\n",
            "11/11 [==============================] - 0s 7ms/step - loss: 16.5215 - mean_absolute_error: 2.8159 - val_loss: 23.5971 - val_mean_absolute_error: 3.4804\n",
            "Epoch 186/300\n",
            "11/11 [==============================] - 0s 7ms/step - loss: 16.5158 - mean_absolute_error: 2.8330 - val_loss: 26.5048 - val_mean_absolute_error: 3.7348\n",
            "Epoch 187/300\n",
            "11/11 [==============================] - 0s 7ms/step - loss: 15.3281 - mean_absolute_error: 2.8287 - val_loss: 23.9770 - val_mean_absolute_error: 3.4703\n",
            "Epoch 188/300\n",
            "11/11 [==============================] - 0s 6ms/step - loss: 15.3739 - mean_absolute_error: 2.7560 - val_loss: 26.7915 - val_mean_absolute_error: 3.7979\n",
            "Epoch 189/300\n",
            "11/11 [==============================] - 0s 7ms/step - loss: 15.5878 - mean_absolute_error: 2.8750 - val_loss: 24.5703 - val_mean_absolute_error: 3.5629\n",
            "Epoch 190/300\n",
            "11/11 [==============================] - 0s 7ms/step - loss: 16.8099 - mean_absolute_error: 2.9466 - val_loss: 24.3201 - val_mean_absolute_error: 3.5444\n",
            "Epoch 191/300\n",
            "11/11 [==============================] - 0s 7ms/step - loss: 16.9940 - mean_absolute_error: 2.9521 - val_loss: 30.4248 - val_mean_absolute_error: 4.0957\n",
            "Epoch 192/300\n",
            "11/11 [==============================] - 0s 6ms/step - loss: 19.6198 - mean_absolute_error: 3.2335 - val_loss: 24.0524 - val_mean_absolute_error: 3.5780\n",
            "Epoch 193/300\n",
            "11/11 [==============================] - 0s 7ms/step - loss: 24.7444 - mean_absolute_error: 3.9438 - val_loss: 41.1314 - val_mean_absolute_error: 4.9784\n",
            "Epoch 194/300\n",
            "11/11 [==============================] - 0s 7ms/step - loss: 29.8778 - mean_absolute_error: 4.0425 - val_loss: 43.4319 - val_mean_absolute_error: 5.4337\n",
            "Epoch 195/300\n",
            "11/11 [==============================] - 0s 7ms/step - loss: 26.3587 - mean_absolute_error: 3.9458 - val_loss: 32.0675 - val_mean_absolute_error: 4.0987\n",
            "Epoch 196/300\n",
            "11/11 [==============================] - 0s 8ms/step - loss: 19.5383 - mean_absolute_error: 3.2260 - val_loss: 24.7275 - val_mean_absolute_error: 3.5580\n",
            "Epoch 197/300\n",
            "11/11 [==============================] - 0s 8ms/step - loss: 18.2251 - mean_absolute_error: 3.0019 - val_loss: 23.4283 - val_mean_absolute_error: 3.5524\n",
            "Epoch 198/300\n",
            "11/11 [==============================] - 0s 8ms/step - loss: 16.3701 - mean_absolute_error: 2.8527 - val_loss: 23.4118 - val_mean_absolute_error: 3.4569\n",
            "Epoch 199/300\n",
            "11/11 [==============================] - 0s 7ms/step - loss: 16.8250 - mean_absolute_error: 2.9729 - val_loss: 25.6536 - val_mean_absolute_error: 3.6898\n",
            "Epoch 200/300\n",
            "11/11 [==============================] - 0s 8ms/step - loss: 16.4298 - mean_absolute_error: 2.8893 - val_loss: 24.0951 - val_mean_absolute_error: 3.5356\n",
            "Epoch 201/300\n",
            "11/11 [==============================] - 0s 7ms/step - loss: 15.9760 - mean_absolute_error: 2.8101 - val_loss: 24.1693 - val_mean_absolute_error: 3.6218\n",
            "Epoch 202/300\n",
            "11/11 [==============================] - 0s 7ms/step - loss: 16.3284 - mean_absolute_error: 2.9528 - val_loss: 23.2908 - val_mean_absolute_error: 3.4984\n",
            "Epoch 203/300\n",
            "11/11 [==============================] - 0s 7ms/step - loss: 15.2730 - mean_absolute_error: 2.7780 - val_loss: 23.2569 - val_mean_absolute_error: 3.5287\n",
            "Epoch 204/300\n",
            "11/11 [==============================] - 0s 7ms/step - loss: 15.1340 - mean_absolute_error: 2.7527 - val_loss: 24.0899 - val_mean_absolute_error: 3.5783\n",
            "Epoch 205/300\n",
            "11/11 [==============================] - 0s 7ms/step - loss: 15.2963 - mean_absolute_error: 2.8172 - val_loss: 23.9297 - val_mean_absolute_error: 3.5043\n",
            "Epoch 206/300\n",
            "11/11 [==============================] - 0s 6ms/step - loss: 15.6894 - mean_absolute_error: 2.8390 - val_loss: 23.3710 - val_mean_absolute_error: 3.5142\n",
            "Epoch 207/300\n",
            "11/11 [==============================] - 0s 7ms/step - loss: 14.9412 - mean_absolute_error: 2.7516 - val_loss: 23.7477 - val_mean_absolute_error: 3.5322\n",
            "Epoch 208/300\n",
            "11/11 [==============================] - 0s 6ms/step - loss: 14.7707 - mean_absolute_error: 2.7432 - val_loss: 23.8114 - val_mean_absolute_error: 3.5271\n",
            "Epoch 209/300\n",
            "11/11 [==============================] - 0s 7ms/step - loss: 14.8860 - mean_absolute_error: 2.7494 - val_loss: 24.7358 - val_mean_absolute_error: 3.6477\n",
            "Epoch 210/300\n",
            "11/11 [==============================] - 0s 7ms/step - loss: 15.2095 - mean_absolute_error: 2.7877 - val_loss: 23.2868 - val_mean_absolute_error: 3.4863\n",
            "Epoch 211/300\n",
            "11/11 [==============================] - 0s 8ms/step - loss: 14.5808 - mean_absolute_error: 2.7279 - val_loss: 23.5855 - val_mean_absolute_error: 3.5425\n",
            "Epoch 212/300\n",
            "11/11 [==============================] - 0s 7ms/step - loss: 14.3608 - mean_absolute_error: 2.7177 - val_loss: 22.8797 - val_mean_absolute_error: 3.4937\n",
            "Epoch 213/300\n",
            "11/11 [==============================] - 0s 7ms/step - loss: 14.3786 - mean_absolute_error: 2.6890 - val_loss: 23.1505 - val_mean_absolute_error: 3.5282\n",
            "Epoch 214/300\n",
            "11/11 [==============================] - 0s 7ms/step - loss: 14.4508 - mean_absolute_error: 2.7333 - val_loss: 23.2676 - val_mean_absolute_error: 3.5199\n",
            "Epoch 215/300\n",
            "11/11 [==============================] - 0s 6ms/step - loss: 14.6826 - mean_absolute_error: 2.8101 - val_loss: 22.8993 - val_mean_absolute_error: 3.4908\n",
            "Epoch 216/300\n",
            "11/11 [==============================] - 0s 7ms/step - loss: 14.6171 - mean_absolute_error: 2.7353 - val_loss: 23.1576 - val_mean_absolute_error: 3.5626\n",
            "Epoch 217/300\n",
            "11/11 [==============================] - 0s 8ms/step - loss: 14.2169 - mean_absolute_error: 2.6728 - val_loss: 22.3794 - val_mean_absolute_error: 3.5222\n",
            "Epoch 218/300\n",
            "11/11 [==============================] - 0s 7ms/step - loss: 15.9581 - mean_absolute_error: 2.9443 - val_loss: 23.0774 - val_mean_absolute_error: 3.4551\n",
            "Epoch 219/300\n",
            "11/11 [==============================] - 0s 6ms/step - loss: 14.7402 - mean_absolute_error: 2.7598 - val_loss: 22.4023 - val_mean_absolute_error: 3.4487\n",
            "Epoch 220/300\n",
            "11/11 [==============================] - 0s 7ms/step - loss: 14.6948 - mean_absolute_error: 2.6973 - val_loss: 25.2832 - val_mean_absolute_error: 3.6819\n",
            "Epoch 221/300\n",
            "11/11 [==============================] - 0s 8ms/step - loss: 16.4934 - mean_absolute_error: 2.9822 - val_loss: 21.9031 - val_mean_absolute_error: 3.4165\n",
            "Epoch 222/300\n",
            "11/11 [==============================] - 0s 7ms/step - loss: 15.3332 - mean_absolute_error: 2.8323 - val_loss: 23.0587 - val_mean_absolute_error: 3.4788\n",
            "Epoch 223/300\n",
            "11/11 [==============================] - 0s 7ms/step - loss: 14.4525 - mean_absolute_error: 2.7292 - val_loss: 25.8601 - val_mean_absolute_error: 3.6683\n",
            "Epoch 224/300\n",
            "11/11 [==============================] - 0s 8ms/step - loss: 15.0505 - mean_absolute_error: 2.8440 - val_loss: 23.9473 - val_mean_absolute_error: 3.5692\n",
            "Epoch 225/300\n",
            "11/11 [==============================] - 0s 8ms/step - loss: 14.6943 - mean_absolute_error: 2.7443 - val_loss: 23.2722 - val_mean_absolute_error: 3.4929\n",
            "Epoch 226/300\n",
            "11/11 [==============================] - 0s 8ms/step - loss: 14.2527 - mean_absolute_error: 2.7062 - val_loss: 22.3604 - val_mean_absolute_error: 3.4516\n",
            "Epoch 227/300\n",
            "11/11 [==============================] - 0s 7ms/step - loss: 13.8336 - mean_absolute_error: 2.6732 - val_loss: 21.9196 - val_mean_absolute_error: 3.4520\n",
            "Epoch 228/300\n",
            "11/11 [==============================] - 0s 6ms/step - loss: 13.6930 - mean_absolute_error: 2.6739 - val_loss: 23.1488 - val_mean_absolute_error: 3.5628\n",
            "Epoch 229/300\n",
            "11/11 [==============================] - 0s 7ms/step - loss: 13.9086 - mean_absolute_error: 2.6972 - val_loss: 22.4130 - val_mean_absolute_error: 3.5065\n",
            "Epoch 230/300\n",
            "11/11 [==============================] - 0s 8ms/step - loss: 14.0396 - mean_absolute_error: 2.7536 - val_loss: 22.7406 - val_mean_absolute_error: 3.5085\n",
            "Epoch 231/300\n",
            "11/11 [==============================] - 0s 7ms/step - loss: 13.9447 - mean_absolute_error: 2.6854 - val_loss: 21.4773 - val_mean_absolute_error: 3.4066\n",
            "Epoch 232/300\n",
            "11/11 [==============================] - 0s 6ms/step - loss: 13.8088 - mean_absolute_error: 2.6473 - val_loss: 22.4948 - val_mean_absolute_error: 3.4810\n",
            "Epoch 233/300\n",
            "11/11 [==============================] - 0s 7ms/step - loss: 15.8433 - mean_absolute_error: 2.8391 - val_loss: 28.7445 - val_mean_absolute_error: 3.9071\n",
            "Epoch 234/300\n",
            "11/11 [==============================] - 0s 7ms/step - loss: 16.7435 - mean_absolute_error: 2.9987 - val_loss: 22.8533 - val_mean_absolute_error: 3.4462\n",
            "Epoch 235/300\n",
            "11/11 [==============================] - 0s 7ms/step - loss: 28.7122 - mean_absolute_error: 4.0677 - val_loss: 35.9732 - val_mean_absolute_error: 4.4697\n",
            "Epoch 236/300\n",
            "11/11 [==============================] - 0s 7ms/step - loss: 22.0998 - mean_absolute_error: 3.3795 - val_loss: 26.3613 - val_mean_absolute_error: 3.7488\n",
            "Epoch 237/300\n",
            "11/11 [==============================] - 0s 6ms/step - loss: 18.0775 - mean_absolute_error: 3.0314 - val_loss: 25.5933 - val_mean_absolute_error: 3.6950\n",
            "Epoch 238/300\n",
            "11/11 [==============================] - 0s 8ms/step - loss: 16.6917 - mean_absolute_error: 2.9718 - val_loss: 25.0448 - val_mean_absolute_error: 3.6359\n",
            "Epoch 239/300\n",
            "11/11 [==============================] - 0s 10ms/step - loss: 15.9335 - mean_absolute_error: 2.8757 - val_loss: 24.0332 - val_mean_absolute_error: 3.6115\n",
            "Epoch 240/300\n",
            "11/11 [==============================] - 0s 7ms/step - loss: 16.2015 - mean_absolute_error: 2.9005 - val_loss: 24.7789 - val_mean_absolute_error: 3.6906\n",
            "Epoch 241/300\n",
            "11/11 [==============================] - 0s 7ms/step - loss: 15.6090 - mean_absolute_error: 2.8761 - val_loss: 25.4269 - val_mean_absolute_error: 3.6341\n",
            "Epoch 242/300\n",
            "11/11 [==============================] - 0s 8ms/step - loss: 15.5680 - mean_absolute_error: 2.8464 - val_loss: 27.7392 - val_mean_absolute_error: 3.8933\n",
            "Epoch 243/300\n",
            "11/11 [==============================] - 0s 7ms/step - loss: 16.3889 - mean_absolute_error: 2.9039 - val_loss: 29.2850 - val_mean_absolute_error: 3.9597\n",
            "Epoch 244/300\n",
            "11/11 [==============================] - 0s 8ms/step - loss: 18.1830 - mean_absolute_error: 3.1859 - val_loss: 26.0599 - val_mean_absolute_error: 3.7030\n",
            "Epoch 245/300\n",
            "11/11 [==============================] - 0s 7ms/step - loss: 16.7220 - mean_absolute_error: 2.9276 - val_loss: 24.5736 - val_mean_absolute_error: 3.6219\n",
            "Epoch 246/300\n",
            "11/11 [==============================] - 0s 11ms/step - loss: 14.5733 - mean_absolute_error: 2.7171 - val_loss: 23.8723 - val_mean_absolute_error: 3.7053\n",
            "Epoch 247/300\n",
            "11/11 [==============================] - 0s 8ms/step - loss: 14.4203 - mean_absolute_error: 2.7396 - val_loss: 23.8837 - val_mean_absolute_error: 3.6697\n",
            "Epoch 248/300\n",
            "11/11 [==============================] - 0s 9ms/step - loss: 14.8685 - mean_absolute_error: 2.7736 - val_loss: 26.0077 - val_mean_absolute_error: 3.7427\n",
            "Epoch 249/300\n",
            "11/11 [==============================] - 0s 7ms/step - loss: 17.6247 - mean_absolute_error: 2.9568 - val_loss: 30.9513 - val_mean_absolute_error: 4.0668\n",
            "Epoch 250/300\n",
            "11/11 [==============================] - 0s 8ms/step - loss: 18.9412 - mean_absolute_error: 3.1468 - val_loss: 22.7290 - val_mean_absolute_error: 3.5218\n",
            "Epoch 251/300\n",
            "11/11 [==============================] - 0s 7ms/step - loss: 15.6695 - mean_absolute_error: 2.8536 - val_loss: 25.3633 - val_mean_absolute_error: 3.6606\n",
            "Epoch 252/300\n",
            "11/11 [==============================] - 0s 7ms/step - loss: 14.6429 - mean_absolute_error: 2.7215 - val_loss: 25.6404 - val_mean_absolute_error: 3.6352\n",
            "Epoch 253/300\n",
            "11/11 [==============================] - 0s 8ms/step - loss: 13.8942 - mean_absolute_error: 2.6725 - val_loss: 24.9312 - val_mean_absolute_error: 3.5886\n",
            "Epoch 254/300\n",
            "11/11 [==============================] - 0s 7ms/step - loss: 13.7605 - mean_absolute_error: 2.6658 - val_loss: 24.2542 - val_mean_absolute_error: 3.5473\n",
            "Epoch 255/300\n",
            "11/11 [==============================] - 0s 8ms/step - loss: 13.1715 - mean_absolute_error: 2.5910 - val_loss: 24.8574 - val_mean_absolute_error: 3.5405\n",
            "Epoch 256/300\n",
            "11/11 [==============================] - 0s 7ms/step - loss: 13.0847 - mean_absolute_error: 2.5672 - val_loss: 24.6906 - val_mean_absolute_error: 3.5061\n",
            "Epoch 257/300\n",
            "11/11 [==============================] - 0s 8ms/step - loss: 13.0345 - mean_absolute_error: 2.5711 - val_loss: 24.5336 - val_mean_absolute_error: 3.5629\n",
            "Epoch 258/300\n",
            "11/11 [==============================] - 0s 8ms/step - loss: 14.2467 - mean_absolute_error: 2.7354 - val_loss: 26.0356 - val_mean_absolute_error: 3.7819\n",
            "Epoch 259/300\n",
            "11/11 [==============================] - 0s 8ms/step - loss: 13.5957 - mean_absolute_error: 2.7015 - val_loss: 24.3740 - val_mean_absolute_error: 3.5565\n",
            "Epoch 260/300\n",
            "11/11 [==============================] - 0s 7ms/step - loss: 13.3367 - mean_absolute_error: 2.6280 - val_loss: 24.8821 - val_mean_absolute_error: 3.5802\n",
            "Epoch 261/300\n",
            "11/11 [==============================] - 0s 8ms/step - loss: 12.9156 - mean_absolute_error: 2.6014 - val_loss: 25.2566 - val_mean_absolute_error: 3.6223\n",
            "Epoch 262/300\n",
            "11/11 [==============================] - 0s 8ms/step - loss: 13.3307 - mean_absolute_error: 2.6143 - val_loss: 24.9416 - val_mean_absolute_error: 3.6327\n",
            "Epoch 263/300\n",
            "11/11 [==============================] - 0s 7ms/step - loss: 13.3572 - mean_absolute_error: 2.6248 - val_loss: 26.2256 - val_mean_absolute_error: 3.7649\n",
            "Epoch 264/300\n",
            "11/11 [==============================] - 0s 7ms/step - loss: 13.5547 - mean_absolute_error: 2.6920 - val_loss: 24.2897 - val_mean_absolute_error: 3.5694\n",
            "Epoch 265/300\n",
            "11/11 [==============================] - 0s 7ms/step - loss: 13.3580 - mean_absolute_error: 2.6802 - val_loss: 24.5115 - val_mean_absolute_error: 3.5789\n",
            "Epoch 266/300\n",
            "11/11 [==============================] - 0s 9ms/step - loss: 12.5620 - mean_absolute_error: 2.4947 - val_loss: 25.3261 - val_mean_absolute_error: 3.5904\n",
            "Epoch 267/300\n",
            "11/11 [==============================] - 0s 7ms/step - loss: 12.4217 - mean_absolute_error: 2.5205 - val_loss: 23.3364 - val_mean_absolute_error: 3.5052\n",
            "Epoch 268/300\n",
            "11/11 [==============================] - 0s 7ms/step - loss: 12.8082 - mean_absolute_error: 2.5607 - val_loss: 25.9463 - val_mean_absolute_error: 3.8381\n",
            "Epoch 269/300\n",
            "11/11 [==============================] - 0s 7ms/step - loss: 14.2465 - mean_absolute_error: 2.8389 - val_loss: 23.3555 - val_mean_absolute_error: 3.5582\n",
            "Epoch 270/300\n",
            "11/11 [==============================] - 0s 7ms/step - loss: 12.7652 - mean_absolute_error: 2.5952 - val_loss: 24.1945 - val_mean_absolute_error: 3.5164\n",
            "Epoch 271/300\n",
            "11/11 [==============================] - 0s 7ms/step - loss: 12.2310 - mean_absolute_error: 2.5071 - val_loss: 23.8718 - val_mean_absolute_error: 3.5267\n",
            "Epoch 272/300\n",
            "11/11 [==============================] - 0s 7ms/step - loss: 12.2013 - mean_absolute_error: 2.4873 - val_loss: 24.9563 - val_mean_absolute_error: 3.6491\n",
            "Epoch 273/300\n",
            "11/11 [==============================] - 0s 7ms/step - loss: 12.6290 - mean_absolute_error: 2.6221 - val_loss: 24.6110 - val_mean_absolute_error: 3.6295\n",
            "Epoch 274/300\n",
            "11/11 [==============================] - 0s 7ms/step - loss: 12.2165 - mean_absolute_error: 2.4945 - val_loss: 23.7275 - val_mean_absolute_error: 3.5397\n",
            "Epoch 275/300\n",
            "11/11 [==============================] - 0s 6ms/step - loss: 12.1412 - mean_absolute_error: 2.5032 - val_loss: 24.7058 - val_mean_absolute_error: 3.6353\n",
            "Epoch 276/300\n",
            "11/11 [==============================] - 0s 8ms/step - loss: 12.5634 - mean_absolute_error: 2.5061 - val_loss: 24.6079 - val_mean_absolute_error: 3.5802\n",
            "Epoch 277/300\n",
            "11/11 [==============================] - 0s 8ms/step - loss: 12.8145 - mean_absolute_error: 2.5743 - val_loss: 24.5238 - val_mean_absolute_error: 3.5683\n",
            "Epoch 278/300\n",
            "11/11 [==============================] - 0s 6ms/step - loss: 13.0110 - mean_absolute_error: 2.6539 - val_loss: 24.2019 - val_mean_absolute_error: 3.5242\n",
            "Epoch 279/300\n",
            "11/11 [==============================] - 0s 8ms/step - loss: 12.3364 - mean_absolute_error: 2.5568 - val_loss: 26.3982 - val_mean_absolute_error: 3.8215\n",
            "Epoch 280/300\n",
            "11/11 [==============================] - 0s 6ms/step - loss: 13.3875 - mean_absolute_error: 2.6150 - val_loss: 24.1423 - val_mean_absolute_error: 3.5420\n",
            "Epoch 281/300\n",
            "11/11 [==============================] - 0s 9ms/step - loss: 11.5849 - mean_absolute_error: 2.4022 - val_loss: 24.0417 - val_mean_absolute_error: 3.5315\n",
            "Epoch 282/300\n",
            "11/11 [==============================] - 0s 8ms/step - loss: 12.0492 - mean_absolute_error: 2.4716 - val_loss: 24.5235 - val_mean_absolute_error: 3.5796\n",
            "Epoch 283/300\n",
            "11/11 [==============================] - 0s 10ms/step - loss: 11.5327 - mean_absolute_error: 2.4286 - val_loss: 24.2510 - val_mean_absolute_error: 3.5621\n",
            "Epoch 284/300\n",
            "11/11 [==============================] - 0s 7ms/step - loss: 11.4257 - mean_absolute_error: 2.4003 - val_loss: 24.0572 - val_mean_absolute_error: 3.5418\n",
            "Epoch 285/300\n",
            "11/11 [==============================] - 0s 7ms/step - loss: 16.5349 - mean_absolute_error: 3.0611 - val_loss: 24.4435 - val_mean_absolute_error: 3.6900\n",
            "Epoch 286/300\n",
            "11/11 [==============================] - 0s 8ms/step - loss: 16.1328 - mean_absolute_error: 2.9726 - val_loss: 25.8602 - val_mean_absolute_error: 3.8349\n",
            "Epoch 287/300\n",
            "11/11 [==============================] - 0s 6ms/step - loss: 16.0613 - mean_absolute_error: 2.8795 - val_loss: 23.1720 - val_mean_absolute_error: 3.4827\n",
            "Epoch 288/300\n",
            "11/11 [==============================] - 0s 9ms/step - loss: 14.1973 - mean_absolute_error: 2.7564 - val_loss: 23.4904 - val_mean_absolute_error: 3.6102\n",
            "Epoch 289/300\n",
            "11/11 [==============================] - 0s 7ms/step - loss: 12.7972 - mean_absolute_error: 2.5954 - val_loss: 24.2943 - val_mean_absolute_error: 3.6982\n",
            "Epoch 290/300\n",
            "11/11 [==============================] - 0s 11ms/step - loss: 12.3996 - mean_absolute_error: 2.5806 - val_loss: 22.8492 - val_mean_absolute_error: 3.5101\n",
            "Epoch 291/300\n",
            "11/11 [==============================] - 0s 7ms/step - loss: 12.1956 - mean_absolute_error: 2.5114 - val_loss: 23.7077 - val_mean_absolute_error: 3.6240\n",
            "Epoch 292/300\n",
            "11/11 [==============================] - 0s 7ms/step - loss: 12.1646 - mean_absolute_error: 2.5228 - val_loss: 24.5958 - val_mean_absolute_error: 3.6396\n",
            "Epoch 293/300\n",
            "11/11 [==============================] - 0s 8ms/step - loss: 12.2368 - mean_absolute_error: 2.5159 - val_loss: 23.5867 - val_mean_absolute_error: 3.5352\n",
            "Epoch 294/300\n",
            "11/11 [==============================] - 0s 7ms/step - loss: 12.1393 - mean_absolute_error: 2.5515 - val_loss: 22.9498 - val_mean_absolute_error: 3.5529\n",
            "Epoch 295/300\n",
            "11/11 [==============================] - 0s 7ms/step - loss: 11.6551 - mean_absolute_error: 2.4648 - val_loss: 22.8867 - val_mean_absolute_error: 3.4624\n",
            "Epoch 296/300\n",
            "11/11 [==============================] - 0s 9ms/step - loss: 11.8343 - mean_absolute_error: 2.4326 - val_loss: 23.1599 - val_mean_absolute_error: 3.5217\n",
            "Epoch 297/300\n",
            "11/11 [==============================] - 0s 8ms/step - loss: 12.7715 - mean_absolute_error: 2.5531 - val_loss: 21.8498 - val_mean_absolute_error: 3.3585\n",
            "Epoch 298/300\n",
            "11/11 [==============================] - 0s 9ms/step - loss: 12.4143 - mean_absolute_error: 2.4947 - val_loss: 24.9694 - val_mean_absolute_error: 3.4395\n",
            "Epoch 299/300\n",
            "11/11 [==============================] - 0s 7ms/step - loss: 11.4555 - mean_absolute_error: 2.4071 - val_loss: 23.0160 - val_mean_absolute_error: 3.4112\n",
            "Epoch 300/300\n",
            "11/11 [==============================] - 0s 7ms/step - loss: 11.8782 - mean_absolute_error: 2.5643 - val_loss: 23.5929 - val_mean_absolute_error: 3.4952\n"
          ]
        },
        {
          "output_type": "execute_result",
          "data": {
            "text/plain": [
              "<keras.callbacks.History at 0x7f881bea5810>"
            ]
          },
          "metadata": {},
          "execution_count": 234
        }
      ]
    },
    {
      "cell_type": "code",
      "source": [
        "model_b.evaluate(X_test, Y_test, verbose=0)"
      ],
      "metadata": {
        "colab": {
          "base_uri": "https://localhost:8080/"
        },
        "id": "E5uFDAC7mjOS",
        "outputId": "3126f264-af89-4960-c519-701f0e67ba1c"
      },
      "execution_count": 235,
      "outputs": [
        {
          "output_type": "execute_result",
          "data": {
            "text/plain": [
              "[20.220855712890625, 3.287184715270996]"
            ]
          },
          "metadata": {},
          "execution_count": 235
        }
      ]
    },
    {
      "cell_type": "code",
      "source": [
        "prediction = model_b.predict(X_test)\n",
        "metrics.r2_score(Y_test, prediction)"
      ],
      "metadata": {
        "colab": {
          "base_uri": "https://localhost:8080/"
        },
        "id": "9I4a-XbWfIrZ",
        "outputId": "8456d7bf-0d37-42c0-ff6d-ba55dad0736c"
      },
      "execution_count": 236,
      "outputs": [
        {
          "output_type": "execute_result",
          "data": {
            "text/plain": [
              "0.778905619594794"
            ]
          },
          "metadata": {},
          "execution_count": 236
        }
      ]
    },
    {
      "cell_type": "markdown",
      "source": [
        "  2. Измените функцию потерь и метрику для этой задачи. Постройте 10-15 вариантов и сведите результаты их работы в таблицу  Опишите, какого результата вы добились от нейросети? Что помогло вам улучшить ее точность?"
      ],
      "metadata": {
        "id": "hFQtdn0VRwWw"
      }
    },
    {
      "cell_type": "code",
      "source": [
        "layers = [2, 3]\n",
        "neirouns = [128, 256]\n",
        "activations = [tf.keras.activations.sigmoid, tf.keras.activations.relu]\n",
        "optimizers = ['ADAM', 'RMSProp']\n",
        "\n",
        "parameters_dic = {\n",
        "    'Число слоев': np.array([]),\n",
        "    'Число нейронов': np.array([]),\n",
        "    'Функция активации': np.array([]),\n",
        "    'Оптимизационая функция': np.array([]),\n",
        "    'loss_MAE': np.array([]),\n",
        "    'MAPE': np.array([]),\n",
        "    'R2_score': np.array([]),\n",
        "}\n",
        "\n",
        "for layer in layers:\n",
        "  for neiroun in neirouns:\n",
        "    for activation in activations:\n",
        "      for optimizer in optimizers:\n",
        "        \n",
        "        opt = tf.keras.optimizers.Adam() if optimizer == 'ADAM' else tf.keras.optimizers.RMSprop()\n",
        "\n",
        "        input_boston = keras.layers.Input( (X_train.shape[1]) )\n",
        "        x = keras.layers.Flatten()(input_b)\n",
        "        for i in range(layer):\n",
        "          x = keras.layers.Dense(neiroun, activation=activation)(x)\n",
        "        x = keras.layers.Dense(1, activation='linear')(x)\n",
        "\n",
        "        \n",
        "\n",
        "        model_b =Model(inputs=input_b,outputs=x)\n",
        "        model_b.compile(optimizer=opt,\n",
        "                      loss=tf.keras.losses.MAE,\n",
        "                      metrics=tf.keras.metrics.MAPE)\n",
        "\n",
        "        model_b.fit(X_train, Y_train, epochs = 300, validation_split = 0.2, verbose=0)\n",
        "\n",
        "        mae, mape = model_b.evaluate(X_test, Y_test, verbose=0)\n",
        "        \n",
        "        prediction = model_b.predict(X_test)\n",
        "        r2_score = metrics.r2_score(Y_test, prediction)\n",
        "\n",
        "\n",
        "        parameters_dic['Число слоев'] = np.append(parameters_dic['Число слоев'], layer)\n",
        "        parameters_dic['Число нейронов'] = np.append(parameters_dic['Число нейронов'], neiroun)\n",
        "        parameters_dic['Функция активации'] = np.append(parameters_dic['Функция активации'], \n",
        "                                                        'Сигмойда' if activation == tf.keras.activations.sigmoid else 'RELU')\n",
        "        parameters_dic['Оптимизационая функция'] = np.append(parameters_dic['Оптимизационая функция'], optimizer)\n",
        "        parameters_dic['loss_MAE'] = np.append(parameters_dic['loss_MAE'], mae)\n",
        "        parameters_dic['MAPE'] = np.append(parameters_dic['MAPE'], mape)\n",
        "        parameters_dic['R2_score'] = np.append(parameters_dic['R2_score'], r2_score)\n",
        "\n",
        "pd.DataFrame(parameters_dic)\n"
      ],
      "metadata": {
        "colab": {
          "base_uri": "https://localhost:8080/",
          "height": 551
        },
        "id": "WYzm5Jq-RZu7",
        "outputId": "2d76cb12-aeb1-45e3-c235-5f1e119c6f73"
      },
      "execution_count": 266,
      "outputs": [
        {
          "output_type": "execute_result",
          "data": {
            "text/html": [
              "<div>\n",
              "<style scoped>\n",
              "    .dataframe tbody tr th:only-of-type {\n",
              "        vertical-align: middle;\n",
              "    }\n",
              "\n",
              "    .dataframe tbody tr th {\n",
              "        vertical-align: top;\n",
              "    }\n",
              "\n",
              "    .dataframe thead th {\n",
              "        text-align: right;\n",
              "    }\n",
              "</style>\n",
              "<table border=\"1\" class=\"dataframe\">\n",
              "  <thead>\n",
              "    <tr style=\"text-align: right;\">\n",
              "      <th></th>\n",
              "      <th>Число слоев</th>\n",
              "      <th>Число нейронов</th>\n",
              "      <th>Функция активации</th>\n",
              "      <th>Оптимизационая функция</th>\n",
              "      <th>loss_MAE</th>\n",
              "      <th>MAPE</th>\n",
              "      <th>R2_score</th>\n",
              "    </tr>\n",
              "  </thead>\n",
              "  <tbody>\n",
              "    <tr>\n",
              "      <th>0</th>\n",
              "      <td>2.0</td>\n",
              "      <td>128.0</td>\n",
              "      <td>Сигмойда</td>\n",
              "      <td>ADAM</td>\n",
              "      <td>3.538395</td>\n",
              "      <td>16.001564</td>\n",
              "      <td>0.734173</td>\n",
              "    </tr>\n",
              "    <tr>\n",
              "      <th>1</th>\n",
              "      <td>2.0</td>\n",
              "      <td>128.0</td>\n",
              "      <td>Сигмойда</td>\n",
              "      <td>RMSProp</td>\n",
              "      <td>3.058035</td>\n",
              "      <td>12.788754</td>\n",
              "      <td>0.726956</td>\n",
              "    </tr>\n",
              "    <tr>\n",
              "      <th>2</th>\n",
              "      <td>2.0</td>\n",
              "      <td>128.0</td>\n",
              "      <td>RELU</td>\n",
              "      <td>ADAM</td>\n",
              "      <td>3.686630</td>\n",
              "      <td>15.491452</td>\n",
              "      <td>0.641319</td>\n",
              "    </tr>\n",
              "    <tr>\n",
              "      <th>3</th>\n",
              "      <td>2.0</td>\n",
              "      <td>128.0</td>\n",
              "      <td>RELU</td>\n",
              "      <td>RMSProp</td>\n",
              "      <td>3.718155</td>\n",
              "      <td>14.785979</td>\n",
              "      <td>0.638549</td>\n",
              "    </tr>\n",
              "    <tr>\n",
              "      <th>4</th>\n",
              "      <td>2.0</td>\n",
              "      <td>256.0</td>\n",
              "      <td>Сигмойда</td>\n",
              "      <td>ADAM</td>\n",
              "      <td>3.299400</td>\n",
              "      <td>14.679656</td>\n",
              "      <td>0.754205</td>\n",
              "    </tr>\n",
              "    <tr>\n",
              "      <th>5</th>\n",
              "      <td>2.0</td>\n",
              "      <td>256.0</td>\n",
              "      <td>Сигмойда</td>\n",
              "      <td>RMSProp</td>\n",
              "      <td>3.386911</td>\n",
              "      <td>13.295693</td>\n",
              "      <td>0.666430</td>\n",
              "    </tr>\n",
              "    <tr>\n",
              "      <th>6</th>\n",
              "      <td>2.0</td>\n",
              "      <td>256.0</td>\n",
              "      <td>RELU</td>\n",
              "      <td>ADAM</td>\n",
              "      <td>3.985779</td>\n",
              "      <td>19.490723</td>\n",
              "      <td>0.681500</td>\n",
              "    </tr>\n",
              "    <tr>\n",
              "      <th>7</th>\n",
              "      <td>2.0</td>\n",
              "      <td>256.0</td>\n",
              "      <td>RELU</td>\n",
              "      <td>RMSProp</td>\n",
              "      <td>3.631871</td>\n",
              "      <td>15.267993</td>\n",
              "      <td>0.705592</td>\n",
              "    </tr>\n",
              "    <tr>\n",
              "      <th>8</th>\n",
              "      <td>3.0</td>\n",
              "      <td>128.0</td>\n",
              "      <td>Сигмойда</td>\n",
              "      <td>ADAM</td>\n",
              "      <td>3.840967</td>\n",
              "      <td>15.837644</td>\n",
              "      <td>0.578087</td>\n",
              "    </tr>\n",
              "    <tr>\n",
              "      <th>9</th>\n",
              "      <td>3.0</td>\n",
              "      <td>128.0</td>\n",
              "      <td>Сигмойда</td>\n",
              "      <td>RMSProp</td>\n",
              "      <td>4.877555</td>\n",
              "      <td>19.084860</td>\n",
              "      <td>0.465527</td>\n",
              "    </tr>\n",
              "    <tr>\n",
              "      <th>10</th>\n",
              "      <td>3.0</td>\n",
              "      <td>128.0</td>\n",
              "      <td>RELU</td>\n",
              "      <td>ADAM</td>\n",
              "      <td>4.412979</td>\n",
              "      <td>21.156841</td>\n",
              "      <td>0.654723</td>\n",
              "    </tr>\n",
              "    <tr>\n",
              "      <th>11</th>\n",
              "      <td>3.0</td>\n",
              "      <td>128.0</td>\n",
              "      <td>RELU</td>\n",
              "      <td>RMSProp</td>\n",
              "      <td>4.547250</td>\n",
              "      <td>19.539558</td>\n",
              "      <td>0.514783</td>\n",
              "    </tr>\n",
              "    <tr>\n",
              "      <th>12</th>\n",
              "      <td>3.0</td>\n",
              "      <td>256.0</td>\n",
              "      <td>Сигмойда</td>\n",
              "      <td>ADAM</td>\n",
              "      <td>3.310035</td>\n",
              "      <td>13.799576</td>\n",
              "      <td>0.704458</td>\n",
              "    </tr>\n",
              "    <tr>\n",
              "      <th>13</th>\n",
              "      <td>3.0</td>\n",
              "      <td>256.0</td>\n",
              "      <td>Сигмойда</td>\n",
              "      <td>RMSProp</td>\n",
              "      <td>4.141844</td>\n",
              "      <td>16.342794</td>\n",
              "      <td>0.605842</td>\n",
              "    </tr>\n",
              "    <tr>\n",
              "      <th>14</th>\n",
              "      <td>3.0</td>\n",
              "      <td>256.0</td>\n",
              "      <td>RELU</td>\n",
              "      <td>ADAM</td>\n",
              "      <td>2.843537</td>\n",
              "      <td>12.763198</td>\n",
              "      <td>0.825241</td>\n",
              "    </tr>\n",
              "    <tr>\n",
              "      <th>15</th>\n",
              "      <td>3.0</td>\n",
              "      <td>256.0</td>\n",
              "      <td>RELU</td>\n",
              "      <td>RMSProp</td>\n",
              "      <td>3.883389</td>\n",
              "      <td>16.584667</td>\n",
              "      <td>0.666525</td>\n",
              "    </tr>\n",
              "  </tbody>\n",
              "</table>\n",
              "</div>"
            ],
            "text/plain": [
              "    Число слоев  Число нейронов  ...       MAPE  R2_score\n",
              "0           2.0           128.0  ...  16.001564  0.734173\n",
              "1           2.0           128.0  ...  12.788754  0.726956\n",
              "2           2.0           128.0  ...  15.491452  0.641319\n",
              "3           2.0           128.0  ...  14.785979  0.638549\n",
              "4           2.0           256.0  ...  14.679656  0.754205\n",
              "5           2.0           256.0  ...  13.295693  0.666430\n",
              "6           2.0           256.0  ...  19.490723  0.681500\n",
              "7           2.0           256.0  ...  15.267993  0.705592\n",
              "8           3.0           128.0  ...  15.837644  0.578087\n",
              "9           3.0           128.0  ...  19.084860  0.465527\n",
              "10          3.0           128.0  ...  21.156841  0.654723\n",
              "11          3.0           128.0  ...  19.539558  0.514783\n",
              "12          3.0           256.0  ...  13.799576  0.704458\n",
              "13          3.0           256.0  ...  16.342794  0.605842\n",
              "14          3.0           256.0  ...  12.763198  0.825241\n",
              "15          3.0           256.0  ...  16.584667  0.666525\n",
              "\n",
              "[16 rows x 7 columns]"
            ]
          },
          "metadata": {},
          "execution_count": 266
        }
      ]
    },
    {
      "cell_type": "markdown",
      "source": [
        "Сигмойда сначало показывала себя лучше RELU, но с усложнением сети ( добавлением числа нейрнов и слоев) RELU стала довать лучше результат. Оптимизатор ADAM показал себя лучше чем RMSProp.  \t"
      ],
      "metadata": {
        "id": "Ggy75AOfoOn9"
      }
    }
  ],
  "metadata": {
    "accelerator": "GPU",
    "colab": {
      "collapsed_sections": [],
      "name": "HW3.ipynb",
      "provenance": []
    },
    "kernelspec": {
      "display_name": "Python 3",
      "language": "python",
      "name": "python3"
    },
    "language_info": {
      "codemirror_mode": {
        "name": "ipython",
        "version": 3
      },
      "file_extension": ".py",
      "mimetype": "text/x-python",
      "name": "python",
      "nbconvert_exporter": "python",
      "pygments_lexer": "ipython3",
      "version": "3.7.1"
    }
  },
  "nbformat": 4,
  "nbformat_minor": 0
}