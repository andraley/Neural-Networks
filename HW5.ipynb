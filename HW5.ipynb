{
  "nbformat": 4,
  "nbformat_minor": 0,
  "metadata": {
    "colab": {
      "name": "HW5.ipynb",
      "provenance": [],
      "collapsed_sections": []
    },
    "kernelspec": {
      "name": "python3",
      "display_name": "Python 3"
    },
    "language_info": {
      "name": "python"
    },
    "accelerator": "TPU"
  },
  "cells": [
    {
      "cell_type": "code",
      "execution_count": 57,
      "metadata": {
        "id": "LyZCKmlPYCi-"
      },
      "outputs": [],
      "source": [
        "import numpy as np\n",
        "import matplotlib.pyplot as plt\n",
        "import pandas as pd\n",
        "import math\n",
        "\n",
        "from keras.models import Sequential\n",
        "from keras.layers import Dense\n",
        "from keras.layers import LSTM, Flatten\n",
        "from tensorflow.keras.callbacks import EarlyStopping, TensorBoard\n",
        "\n",
        "import tensorflow.keras as keras\n",
        "\n",
        "from sklearn.preprocessing import MinMaxScaler, Normalizer, StandardScaler\n",
        "\n",
        "\n",
        "from sklearn.metrics import mean_squared_error\n",
        "import os\n",
        "import datetime"
      ]
    },
    {
      "cell_type": "markdown",
      "source": [
        "####1\n",
        "Попробуйте обучить нейронную сеть LSTM на любом другом датасете (любимый временной ряд, текст на русском (другом языке) как генератор или классификатор, или прилагаемый набор airline-passengers - пасажиропоток для авиалиний). "
      ],
      "metadata": {
        "id": "GP2FIPFAeb46"
      }
    },
    {
      "cell_type": "code",
      "source": [
        "df = pd.read_csv('airline-passengers.csv')\n",
        "df.head()"
      ],
      "metadata": {
        "colab": {
          "base_uri": "https://localhost:8080/",
          "height": 206
        },
        "id": "8OzLtujbfwWX",
        "outputId": "de906b87-5b1b-4542-d77d-2a2a0cc51693"
      },
      "execution_count": 58,
      "outputs": [
        {
          "output_type": "execute_result",
          "data": {
            "text/html": [
              "<div>\n",
              "<style scoped>\n",
              "    .dataframe tbody tr th:only-of-type {\n",
              "        vertical-align: middle;\n",
              "    }\n",
              "\n",
              "    .dataframe tbody tr th {\n",
              "        vertical-align: top;\n",
              "    }\n",
              "\n",
              "    .dataframe thead th {\n",
              "        text-align: right;\n",
              "    }\n",
              "</style>\n",
              "<table border=\"1\" class=\"dataframe\">\n",
              "  <thead>\n",
              "    <tr style=\"text-align: right;\">\n",
              "      <th></th>\n",
              "      <th>Month</th>\n",
              "      <th>Passengers</th>\n",
              "    </tr>\n",
              "  </thead>\n",
              "  <tbody>\n",
              "    <tr>\n",
              "      <th>0</th>\n",
              "      <td>1949-01</td>\n",
              "      <td>112</td>\n",
              "    </tr>\n",
              "    <tr>\n",
              "      <th>1</th>\n",
              "      <td>1949-02</td>\n",
              "      <td>118</td>\n",
              "    </tr>\n",
              "    <tr>\n",
              "      <th>2</th>\n",
              "      <td>1949-03</td>\n",
              "      <td>132</td>\n",
              "    </tr>\n",
              "    <tr>\n",
              "      <th>3</th>\n",
              "      <td>1949-04</td>\n",
              "      <td>129</td>\n",
              "    </tr>\n",
              "    <tr>\n",
              "      <th>4</th>\n",
              "      <td>1949-05</td>\n",
              "      <td>121</td>\n",
              "    </tr>\n",
              "  </tbody>\n",
              "</table>\n",
              "</div>"
            ],
            "text/plain": [
              "     Month  Passengers\n",
              "0  1949-01         112\n",
              "1  1949-02         118\n",
              "2  1949-03         132\n",
              "3  1949-04         129\n",
              "4  1949-05         121"
            ]
          },
          "metadata": {},
          "execution_count": 58
        }
      ]
    },
    {
      "cell_type": "code",
      "source": [
        "scaler = StandardScaler()\n",
        "df['Passengers'] = scaler.fit_transform(df['Passengers'].values.reshape(-1, 1))\n",
        "df.head()"
      ],
      "metadata": {
        "colab": {
          "base_uri": "https://localhost:8080/",
          "height": 206
        },
        "id": "RHBGEbVAxBOm",
        "outputId": "014c1bf2-4400-4be2-e674-b74aacb907ad"
      },
      "execution_count": 59,
      "outputs": [
        {
          "output_type": "execute_result",
          "data": {
            "text/html": [
              "<div>\n",
              "<style scoped>\n",
              "    .dataframe tbody tr th:only-of-type {\n",
              "        vertical-align: middle;\n",
              "    }\n",
              "\n",
              "    .dataframe tbody tr th {\n",
              "        vertical-align: top;\n",
              "    }\n",
              "\n",
              "    .dataframe thead th {\n",
              "        text-align: right;\n",
              "    }\n",
              "</style>\n",
              "<table border=\"1\" class=\"dataframe\">\n",
              "  <thead>\n",
              "    <tr style=\"text-align: right;\">\n",
              "      <th></th>\n",
              "      <th>Month</th>\n",
              "      <th>Passengers</th>\n",
              "    </tr>\n",
              "  </thead>\n",
              "  <tbody>\n",
              "    <tr>\n",
              "      <th>0</th>\n",
              "      <td>1949-01</td>\n",
              "      <td>-1.407779</td>\n",
              "    </tr>\n",
              "    <tr>\n",
              "      <th>1</th>\n",
              "      <td>1949-02</td>\n",
              "      <td>-1.357590</td>\n",
              "    </tr>\n",
              "    <tr>\n",
              "      <th>2</th>\n",
              "      <td>1949-03</td>\n",
              "      <td>-1.240483</td>\n",
              "    </tr>\n",
              "    <tr>\n",
              "      <th>3</th>\n",
              "      <td>1949-04</td>\n",
              "      <td>-1.265578</td>\n",
              "    </tr>\n",
              "    <tr>\n",
              "      <th>4</th>\n",
              "      <td>1949-05</td>\n",
              "      <td>-1.332496</td>\n",
              "    </tr>\n",
              "  </tbody>\n",
              "</table>\n",
              "</div>"
            ],
            "text/plain": [
              "     Month  Passengers\n",
              "0  1949-01   -1.407779\n",
              "1  1949-02   -1.357590\n",
              "2  1949-03   -1.240483\n",
              "3  1949-04   -1.265578\n",
              "4  1949-05   -1.332496"
            ]
          },
          "metadata": {},
          "execution_count": 59
        }
      ]
    },
    {
      "cell_type": "code",
      "source": [
        "def create_dataset(df, xLen, bias=10, future=1, present=0.33):\n",
        "  global ytest\n",
        "  train_dataset = df[:round(len(df)*(1-present))-1]\n",
        "  test_dataset = df[round(len(df)*(1-present)) + bias:]\n",
        "\n",
        "  xtrain = train_dataset[:-future-xLen+1]\n",
        "  ytrain = train_dataset[future+xLen-1:]\n",
        "\n",
        "  xtest = test_dataset[:-future-xLen+1]\n",
        "  ytest = test_dataset[future+xLen-1:]\n",
        "\n",
        "  dataset_train = keras.preprocessing.timeseries_dataset_from_array(\n",
        "    xtrain,\n",
        "    ytrain,\n",
        "    sequence_length=xLen,\n",
        "    sampling_rate=1,\n",
        "    batch_size=4,\n",
        "  )\n",
        "  dataset_test = keras.preprocessing.timeseries_dataset_from_array(\n",
        "      xtest,\n",
        "      ytest,\n",
        "      sequence_length=xLen,\n",
        "      sampling_rate=1,\n",
        "      batch_size=4,\n",
        "  )\n",
        "\n",
        "  return dataset_train, dataset_test"
      ],
      "metadata": {
        "id": "BU2AVALibJ3z"
      },
      "execution_count": 60,
      "outputs": []
    },
    {
      "cell_type": "code",
      "source": [
        "xLen = 6\n",
        "\n",
        "dataset_train, dataset_test = create_dataset(df['Passengers'], xLen)"
      ],
      "metadata": {
        "id": "qepw0CM3g_up"
      },
      "execution_count": 61,
      "outputs": []
    },
    {
      "cell_type": "code",
      "source": [
        "logdir = os.path.join(\"logs2\", datetime.datetime.now().strftime(\"%Y%m%d-%H%M%S\"))\n",
        "\n",
        "tensorboard_callback = TensorBoard( logdir, histogram_freq=1)\n",
        "\n",
        "callbaсk = EarlyStopping(monitor='val_mae', patience=3)"
      ],
      "metadata": {
        "id": "eEOfTG2pv42S"
      },
      "execution_count": 62,
      "outputs": []
    },
    {
      "cell_type": "code",
      "source": [
        "model = Sequential()\n",
        "\n",
        "model.add(LSTM(64, input_shape = (xLen, 1), return_sequences=\"True\"))\n",
        "\n",
        "model.add(Flatten())                          \n",
        "model.add(Dense(32, activation=\"linear\"))      \n",
        "\n",
        "model.add(Dense(1, activation=\"linear\"))\n",
        "\n",
        "model.compile(loss=\"mse\", optimizer=keras.optimizers.Adam(), metrics=['mae'])\n",
        "\n",
        "history = model.fit(\n",
        "    dataset_train,\n",
        "    epochs=50,\n",
        "    validation_data=dataset_test,\n",
        "    callbacks=[callbaсk, tensorboard_callback])\n",
        "\n",
        "loss_1, score_1 = model.evaluate(dataset_test, verbose=0)"
      ],
      "metadata": {
        "colab": {
          "base_uri": "https://localhost:8080/"
        },
        "id": "wNN-xYy7wPne",
        "outputId": "567491c0-ea3c-440a-f883-8df16aafc358"
      },
      "execution_count": 63,
      "outputs": [
        {
          "output_type": "stream",
          "name": "stdout",
          "text": [
            "Epoch 1/50\n",
            "21/21 [==============================] - 3s 40ms/step - loss: 0.2783 - mae: 0.4281 - val_loss: 0.6213 - val_mae: 0.6729\n",
            "Epoch 2/50\n",
            "21/21 [==============================] - 0s 13ms/step - loss: 0.0808 - mae: 0.2321 - val_loss: 0.6869 - val_mae: 0.6603\n",
            "Epoch 3/50\n",
            "21/21 [==============================] - 0s 13ms/step - loss: 0.1055 - mae: 0.2709 - val_loss: 0.5676 - val_mae: 0.6347\n",
            "Epoch 4/50\n",
            "21/21 [==============================] - 0s 15ms/step - loss: 0.0790 - mae: 0.2294 - val_loss: 0.6063 - val_mae: 0.6256\n",
            "Epoch 5/50\n",
            "21/21 [==============================] - 0s 14ms/step - loss: 0.0904 - mae: 0.2484 - val_loss: 0.5395 - val_mae: 0.6038\n",
            "Epoch 6/50\n",
            "21/21 [==============================] - 0s 14ms/step - loss: 0.0764 - mae: 0.2242 - val_loss: 0.5551 - val_mae: 0.5958\n",
            "Epoch 7/50\n",
            "21/21 [==============================] - 0s 13ms/step - loss: 0.0796 - mae: 0.2293 - val_loss: 0.5241 - val_mae: 0.5807\n",
            "Epoch 8/50\n",
            "21/21 [==============================] - 0s 13ms/step - loss: 0.0733 - mae: 0.2186 - val_loss: 0.5237 - val_mae: 0.5726\n",
            "Epoch 9/50\n",
            "21/21 [==============================] - 0s 17ms/step - loss: 0.0721 - mae: 0.2162 - val_loss: 0.5136 - val_mae: 0.5655\n",
            "Epoch 10/50\n",
            "21/21 [==============================] - 0s 14ms/step - loss: 0.0691 - mae: 0.2104 - val_loss: 0.5079 - val_mae: 0.5644\n",
            "Epoch 11/50\n",
            "21/21 [==============================] - 0s 15ms/step - loss: 0.0666 - mae: 0.2055 - val_loss: 0.5037 - val_mae: 0.5642\n",
            "Epoch 12/50\n",
            "21/21 [==============================] - 0s 14ms/step - loss: 0.0642 - mae: 0.2008 - val_loss: 0.5000 - val_mae: 0.5633\n",
            "Epoch 13/50\n",
            "21/21 [==============================] - 0s 14ms/step - loss: 0.0619 - mae: 0.1964 - val_loss: 0.4971 - val_mae: 0.5619\n",
            "Epoch 14/50\n",
            "21/21 [==============================] - 0s 13ms/step - loss: 0.0596 - mae: 0.1921 - val_loss: 0.4947 - val_mae: 0.5602\n",
            "Epoch 15/50\n",
            "21/21 [==============================] - 0s 14ms/step - loss: 0.0574 - mae: 0.1881 - val_loss: 0.4926 - val_mae: 0.5580\n",
            "Epoch 16/50\n",
            "21/21 [==============================] - 0s 13ms/step - loss: 0.0552 - mae: 0.1847 - val_loss: 0.4905 - val_mae: 0.5576\n",
            "Epoch 17/50\n",
            "21/21 [==============================] - 0s 13ms/step - loss: 0.0532 - mae: 0.1812 - val_loss: 0.4883 - val_mae: 0.5561\n",
            "Epoch 18/50\n",
            "21/21 [==============================] - 0s 13ms/step - loss: 0.0512 - mae: 0.1779 - val_loss: 0.4859 - val_mae: 0.5539\n",
            "Epoch 19/50\n",
            "21/21 [==============================] - 0s 13ms/step - loss: 0.0492 - mae: 0.1749 - val_loss: 0.4831 - val_mae: 0.5507\n",
            "Epoch 20/50\n",
            "21/21 [==============================] - 0s 13ms/step - loss: 0.0474 - mae: 0.1719 - val_loss: 0.4796 - val_mae: 0.5466\n",
            "Epoch 21/50\n",
            "21/21 [==============================] - 0s 13ms/step - loss: 0.0457 - mae: 0.1695 - val_loss: 0.4755 - val_mae: 0.5415\n",
            "Epoch 22/50\n",
            "21/21 [==============================] - 0s 14ms/step - loss: 0.0442 - mae: 0.1671 - val_loss: 0.4704 - val_mae: 0.5374\n",
            "Epoch 23/50\n",
            "21/21 [==============================] - 0s 16ms/step - loss: 0.0428 - mae: 0.1646 - val_loss: 0.4639 - val_mae: 0.5345\n",
            "Epoch 24/50\n",
            "21/21 [==============================] - 0s 13ms/step - loss: 0.0416 - mae: 0.1622 - val_loss: 0.4557 - val_mae: 0.5310\n",
            "Epoch 25/50\n",
            "21/21 [==============================] - 0s 15ms/step - loss: 0.0406 - mae: 0.1607 - val_loss: 0.4453 - val_mae: 0.5262\n",
            "Epoch 26/50\n",
            "21/21 [==============================] - 0s 13ms/step - loss: 0.0398 - mae: 0.1595 - val_loss: 0.4324 - val_mae: 0.5194\n",
            "Epoch 27/50\n",
            "21/21 [==============================] - 0s 14ms/step - loss: 0.0392 - mae: 0.1586 - val_loss: 0.4170 - val_mae: 0.5103\n",
            "Epoch 28/50\n",
            "21/21 [==============================] - 0s 16ms/step - loss: 0.0388 - mae: 0.1578 - val_loss: 0.3996 - val_mae: 0.4993\n",
            "Epoch 29/50\n",
            "21/21 [==============================] - 0s 14ms/step - loss: 0.0386 - mae: 0.1576 - val_loss: 0.3806 - val_mae: 0.4867\n",
            "Epoch 30/50\n",
            "21/21 [==============================] - 0s 14ms/step - loss: 0.0385 - mae: 0.1581 - val_loss: 0.3608 - val_mae: 0.4743\n",
            "Epoch 31/50\n",
            "21/21 [==============================] - 0s 16ms/step - loss: 0.0387 - mae: 0.1589 - val_loss: 0.3405 - val_mae: 0.4618\n",
            "Epoch 32/50\n",
            "21/21 [==============================] - 0s 17ms/step - loss: 0.0389 - mae: 0.1603 - val_loss: 0.3203 - val_mae: 0.4486\n",
            "Epoch 33/50\n",
            "21/21 [==============================] - 0s 15ms/step - loss: 0.0392 - mae: 0.1615 - val_loss: 0.3014 - val_mae: 0.4355\n",
            "Epoch 34/50\n",
            "21/21 [==============================] - 0s 14ms/step - loss: 0.0394 - mae: 0.1619 - val_loss: 0.2863 - val_mae: 0.4258\n",
            "Epoch 35/50\n",
            "21/21 [==============================] - 0s 13ms/step - loss: 0.0391 - mae: 0.1607 - val_loss: 0.2784 - val_mae: 0.4209\n",
            "Epoch 36/50\n",
            "21/21 [==============================] - 0s 16ms/step - loss: 0.0379 - mae: 0.1575 - val_loss: 0.2788 - val_mae: 0.4223\n",
            "Epoch 37/50\n",
            "21/21 [==============================] - 0s 15ms/step - loss: 0.0361 - mae: 0.1530 - val_loss: 0.2845 - val_mae: 0.4290\n",
            "Epoch 38/50\n",
            "21/21 [==============================] - 0s 13ms/step - loss: 0.0345 - mae: 0.1495 - val_loss: 0.2894 - val_mae: 0.4343\n"
          ]
        }
      ]
    },
    {
      "cell_type": "code",
      "source": [
        "predtest = model.predict(dataset_test).flatten()\n",
        "\n",
        "plt.figure(figsize=(10,5))\n",
        "plt.grid('on')\n",
        "plt.plot(predtest, \n",
        "         label='Прогноз')\n",
        "plt.plot(np.array(ytest), \n",
        "         label='Базовый ряд')\n",
        "plt.xlabel('Время')\n",
        "plt.ylabel('Значение ')\n",
        "\n",
        "plt.legend()\n",
        "plt.show()"
      ],
      "metadata": {
        "colab": {
          "base_uri": "https://localhost:8080/",
          "height": 334
        },
        "id": "b_UMiE_1V-qf",
        "outputId": "581baa93-b757-4c2e-d98f-edc78407df06"
      },
      "execution_count": 64,
      "outputs": [
        {
          "output_type": "display_data",
          "data": {
            "image/png": "[encoded data removed]",
            "text/plain": [
              "<Figure size 720x360 with 1 Axes>"
            ]
          },
          "metadata": {
            "needs_background": "light"
          }
        }
      ]
    },
    {
      "cell_type": "code",
      "source": [
        "xLen = 12\n",
        "\n",
        "dataset_train, dataset_test = create_dataset(df['Passengers'], xLen)"
      ],
      "metadata": {
        "id": "51uF7nau69EX"
      },
      "execution_count": 65,
      "outputs": []
    },
    {
      "cell_type": "code",
      "source": [
        "model = Sequential()\n",
        "\n",
        "model.add(LSTM(64, input_shape = (xLen, 1), return_sequences=\"True\"))\n",
        "\n",
        "model.add(Flatten())                          \n",
        "model.add(Dense(32, activation=\"linear\"))      \n",
        "\n",
        "model.add(Dense(1, activation=\"linear\"))\n",
        "\n",
        "model.compile(loss=\"mse\", optimizer=keras.optimizers.Adam(), metrics=['mae'])\n",
        "\n",
        "history = model.fit(\n",
        "    dataset_train,\n",
        "    epochs=50,\n",
        "    validation_data=dataset_test,\n",
        "    callbacks=[callbaсk, tensorboard_callback],\n",
        "    verbose=0)\n",
        "\n",
        "loss_2, score_2 = model.evaluate(dataset_test, verbose=0)\n"
      ],
      "metadata": {
        "id": "VluvgYxU7Xbc"
      },
      "execution_count": 66,
      "outputs": []
    },
    {
      "cell_type": "code",
      "source": [
        "xLen = 6\n",
        "\n",
        "dataset_train, dataset_test = create_dataset(df['Passengers'], xLen)"
      ],
      "metadata": {
        "id": "zUP3C8_twSee"
      },
      "execution_count": 67,
      "outputs": []
    },
    {
      "cell_type": "code",
      "source": [
        "model = Sequential()\n",
        "\n",
        "model.add(LSTM(64, input_shape = (xLen, 1), return_sequences=\"True\"))\n",
        "model.add(LSTM(64, return_sequences=\"True\"))\n",
        "\n",
        "model.add(Flatten())                          \n",
        "model.add(Dense(32, activation=\"linear\"))      \n",
        "\n",
        "model.add(Dense(1, activation=\"linear\"))\n",
        "\n",
        "model.compile(loss=\"mse\", optimizer=keras.optimizers.Adam(), metrics=['mae'])\n",
        "\n",
        "history = model.fit(\n",
        "    dataset_train,\n",
        "    epochs=50,\n",
        "    validation_data=dataset_test,\n",
        "    callbacks=[callbaсk, tensorboard_callback],\n",
        "    verbose=0)\n",
        "\n",
        "loss_3, score_3 = model.evaluate(dataset_test, verbose=0)"
      ],
      "metadata": {
        "id": "gQTn5yhIyk1m"
      },
      "execution_count": 68,
      "outputs": []
    },
    {
      "cell_type": "code",
      "source": [
        "xLen = 6\n",
        "\n",
        "dataset_train, dataset_test = create_dataset(df['Passengers'], xLen)"
      ],
      "metadata": {
        "id": "Kf0BD298y8pH"
      },
      "execution_count": 69,
      "outputs": []
    },
    {
      "cell_type": "code",
      "source": [
        "model = Sequential()\n",
        "\n",
        "model.add(LSTM(256, input_shape = (xLen, 1), return_sequences=\"True\"))\n",
        "\n",
        "model.add(Flatten())                          \n",
        "model.add(Dense(32, activation=\"linear\"))      \n",
        "\n",
        "model.add(Dense(1, activation=\"linear\"))\n",
        "\n",
        "model.compile(loss=\"mse\", optimizer=keras.optimizers.Adam(), metrics=['mae'])\n",
        "\n",
        "history = model.fit(\n",
        "    dataset_train,\n",
        "    epochs=50,\n",
        "    validation_data=dataset_test,\n",
        "    callbacks=[callbaсk, tensorboard_callback],\n",
        "    verbose=0)\n",
        "\n",
        "loss_4, score_4 = model.evaluate(dataset_test, verbose=0)"
      ],
      "metadata": {
        "id": "z4Vv_Zb52YL0"
      },
      "execution_count": 70,
      "outputs": []
    },
    {
      "cell_type": "code",
      "source": [
        "pd.DataFrame({'loss': [loss_1, loss_2, loss_3, loss_4], 'MAE': [score_1, score_2, score_3, score_4]})"
      ],
      "metadata": {
        "colab": {
          "base_uri": "https://localhost:8080/",
          "height": 175
        },
        "id": "ODt6eQZY22iX",
        "outputId": "32536cc7-c723-479f-90ff-f5cd22b6b8c5"
      },
      "execution_count": 71,
      "outputs": [
        {
          "output_type": "execute_result",
          "data": {
            "text/html": [
              "<div>\n",
              "<style scoped>\n",
              "    .dataframe tbody tr th:only-of-type {\n",
              "        vertical-align: middle;\n",
              "    }\n",
              "\n",
              "    .dataframe tbody tr th {\n",
              "        vertical-align: top;\n",
              "    }\n",
              "\n",
              "    .dataframe thead th {\n",
              "        text-align: right;\n",
              "    }\n",
              "</style>\n",
              "<table border=\"1\" class=\"dataframe\">\n",
              "  <thead>\n",
              "    <tr style=\"text-align: right;\">\n",
              "      <th></th>\n",
              "      <th>loss</th>\n",
              "      <th>MAE</th>\n",
              "    </tr>\n",
              "  </thead>\n",
              "  <tbody>\n",
              "    <tr>\n",
              "      <th>0</th>\n",
              "      <td>0.289441</td>\n",
              "      <td>0.434329</td>\n",
              "    </tr>\n",
              "    <tr>\n",
              "      <th>1</th>\n",
              "      <td>0.080685</td>\n",
              "      <td>0.228890</td>\n",
              "    </tr>\n",
              "    <tr>\n",
              "      <th>2</th>\n",
              "      <td>0.891470</td>\n",
              "      <td>0.743371</td>\n",
              "    </tr>\n",
              "    <tr>\n",
              "      <th>3</th>\n",
              "      <td>0.242830</td>\n",
              "      <td>0.406836</td>\n",
              "    </tr>\n",
              "  </tbody>\n",
              "</table>\n",
              "</div>"
            ],
            "text/plain": [
              "       loss       MAE\n",
              "0  0.289441  0.434329\n",
              "1  0.080685  0.228890\n",
              "2  0.891470  0.743371\n",
              "3  0.242830  0.406836"
            ]
          },
          "metadata": {},
          "execution_count": 71
        }
      ]
    },
    {
      "cell_type": "markdown",
      "source": [
        "Опишите, какой результата вы получили? Что помогло вам улучшить ее точность?"
      ],
      "metadata": {
        "id": "8zw2ZCtd68YF"
      }
    },
    {
      "cell_type": "markdown",
      "source": [
        "Модель хорошо предсказывает количество пассажиров. Наиболая проблема возникает в пиковх значениях. Наибольшее улучшение дала увеличение число прошлых результатов в модели. Так же помогло увеличение числа нейронов. Добавление LSTM слоя ухудшило результат."
      ],
      "metadata": {
        "id": "1hHniHqdVgoA"
      }
    }
  ]
}