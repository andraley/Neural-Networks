{
  "nbformat": 4,
  "nbformat_minor": 0,
  "metadata": {
    "colab": {
      "name": "hw2.ipynb",
      "provenance": [],
      "collapsed_sections": []
    },
    "kernelspec": {
      "display_name": "Python 3",
      "language": "python",
      "name": "python3"
    },
    "language_info": {
      "codemirror_mode": {
        "name": "ipython",
        "version": 3
      },
      "file_extension": ".py",
      "mimetype": "text/x-python",
      "name": "python",
      "nbconvert_exporter": "python",
      "pygments_lexer": "ipython3",
      "version": "3.8.8"
    },
    "accelerator": "GPU"
  },
  "cells": [
    {
      "cell_type": "markdown",
      "metadata": {
        "id": "XvhEhpGm9U8z"
      },
      "source": [
        "# Введение в искусственные нейронные сети\n",
        "# Урок 2. Keras"
      ]
    },
    {
      "cell_type": "markdown",
      "metadata": {
        "id": "LmKjkEH-9U84"
      },
      "source": [
        "## Содержание методического пособия:\n",
        "\n",
        "\n",
        "<ol>\n",
        "<li>Способы создания нейросетей</li>\n",
        "<li>Что такое Keras</li>\n",
        "<li>Основы синтаксиса</li>\n",
        "<li>Простая нейросеть на Keras</li>\n",
        "</ol>"
      ]
    },
    {
      "cell_type": "markdown",
      "metadata": {
        "id": "9gV6aaON9U86"
      },
      "source": [
        "## Способы создания нейросетей\n",
        "\n",
        "Нейросети это математические модели. Программирую на любом языке можно решать задачи связанные с математикой. Однако встает вопрос какой язык подойдет для этого больше? Не считая учебных нейросетей, нейросети как правило работают с большим количеством данных. Поэтому, чтобы обучение нейросетей происходило с приемлимой скоростью нужно использовать быстрый язык. Например Си. Но так как язык Си это язык с низким уровнем абстракции то программировать и модифицировать на нем нейросети было бы крайне затруднительно. \n",
        "\n",
        "Хорошо может подойти для этих целей язык Python. Так как он с одной стороны имеет высокий уровень абстракции с другой стороны операции с массивами данных могут сделать его библиотеки написанные на Си. Таким способом мы пользовались на первых 2 уроках. Однако если писать нейросети таким образом то будет много повторяющегося кода поскольку архитектуры нейросетей остаются одинаковыми и зачастую у них только меняются параметры. Кроме этого нам может понадобиться хорошо знать архитектуры самых разных нейронных сетей чтобы реализовать их вручную. Работа таким образом затруднительна для людей не имеющих достаточной подготовки, а для имеющих может быть нааборот рутиной.\n",
        "\n",
        "Существуют фреймворки для созданий нейронных сетей. Они являются, пожалуй основным рабочим способом создания нейронных сетей. Вот их неполный перечень:\n",
        "\n",
        "1. TensorFlow\n",
        "2. PyTorch\n",
        "3. Keras\n",
        "4. Microsoft Cognitive Toolkit (CNTK)\n",
        "5. Caffe\n",
        "6. Apache MXNet\n",
        "\n",
        "Упрощение создания нейронных сетей не заканчивается на этих фрейворках. Существуют инструменты которые позволяют создавать нейронные сети без навыков программирования, строя нейросети графически. Примеры: Neural Designer, Deep Learning Studio.\n",
        "\n",
        "Но и на этом не заканчиваются способы создания нейросетей. Существуют инструменты самостоятельно создающие нейронные сети. Это так называемые AutoML инструменты. Вот примеры популярных из них:\n",
        "1. MLBox\n",
        "2. TPOT\n",
        "3. Autokeras\n",
        "\n",
        "Как вы возможно заметили что все эти инструменты отранжированы походы изложения в порядке возрастания уровня абстракции. Соответсвенно говоря о плюсах минусах того или иного инструмента мы должны понимать в принципе плюсы минусы повышения уровня абстракции. Чем он выше тем меньше производительность и тем меньше его гибкость и набоорот.\n",
        "\n",
        "Как уже было сказано наиболее востребованных в рабочих целях является тот уровень абстракции, который дают фреймворки. Будем изучать дальше и пользовать ими. Остается сделать выбор среди них. Самый популярный фреймворк для создания нейросетей TensorFlow. Самый популярный для обучения - Keras. На этом уроке мы изучим с вами Keras, а на следующим TensorFlow. Также стоит отметить, что эти фреймворки взаимосвязаны - Keras как правило работает поверх TensorFlow, а сам TensorFlow позволяет пользовать средствами Keras при необходимости.\n"
      ]
    },
    {
      "cell_type": "markdown",
      "metadata": {
        "id": "b1uUklH29U88"
      },
      "source": [
        "## Что такое Keras\n",
        "\n",
        "Keras появился относительно недавно - в 2015 г. Но за это время стал одним из самых популярных фреймоворков для создания нейросетей и фактически стандартом для использования его начинающими.\n",
        "\n",
        "В чем причина его популярности? Keras позволяет создовать на высоком уровне абстракции. Т.е. на не нужно вручную реализовать с помощью математикаподобного кода те или иные элементы нейронной сети. Мы можем оперировать слоями, количеством нейронов в них, выбором функции активации и т.д. В тоже время keras содержит инструментарий для всего того, что может понадобиться для работы - например ряд встроенных датасетов, возможность обрабатывать изображения.\n",
        "\n",
        "В техническом плане Keras это оболочка над инструментами меньшей степени абстракции. На выбор он может работать поверх TensorFlow, Microsoft Cognitive Toolkit, R, Theano, PlaidML.\n",
        "\n",
        "Keras пользуется также на соревнованиях Kaggle.\n",
        "\n",
        "Однако стоит отметить, что в реальных проектах чаще используется TensorFlow, который мы будем изучать в след. уроках.\n",
        "\n",
        "Keras как и любой высокобастрактный инструмент имеет изъяны в качестве меньшей гибкостью и производительснотью чем тот же tensorflow.\n",
        "\n",
        "Стоит также отметить, что Google официально поддерживает Keras, его автор François Chollet, является сотрудником Google. TensorFlow сам в свою очередь позволяет использовать возможности Keras, т.е. в нем заложена возможность переходить на более высокой уровень абстракции.\n",
        "\n",
        "В данном уроке мы с вами рассмотрим пример обучения нейронной сети с помощью Keras. Но прежде давайте посмотрим на основы синтаксиса Keras и стандартные задачи, которые нужно выполнить при обучении нейронной сети."
      ]
    },
    {
      "cell_type": "markdown",
      "metadata": {
        "id": "iRJ_I6hu9U8-"
      },
      "source": [
        "## Основы синтаксиса"
      ]
    },
    {
      "cell_type": "markdown",
      "metadata": {
        "id": "Sars-tTz9U9A"
      },
      "source": [
        "**Установка и работа с данными**"
      ]
    },
    {
      "cell_type": "markdown",
      "metadata": {
        "id": "8w3sHXOV9U9B"
      },
      "source": [
        "Для начала необходимо установить keras. Надо полагать вы хорошо знакомы с командой pip."
      ]
    },
    {
      "cell_type": "markdown",
      "metadata": {
        "id": "05hfRCv09U9D"
      },
      "source": [
        "sudo python3 pip install keras"
      ]
    },
    {
      "cell_type": "markdown",
      "metadata": {
        "id": "EAwWzAS29U9F"
      },
      "source": [
        "Давайте попробуем получить датасет mnist и проанализировать его содержимое.\n",
        "Это еще не будет синтаксис Keras, но это часто встречающаяся задача. Не обращайте внимание на предупреждения от TensorFlow. Их часто бывает много и их можно подавить при необходимости."
      ]
    },
    {
      "cell_type": "markdown",
      "metadata": {
        "id": "iKgNxL4G9U9H"
      },
      "source": [
        "    import numpy as np\n",
        "    import mnist\n",
        "    import keras\n",
        "\n",
        "    # The first time you run this might be a bit slow, since the\n",
        "    # mnist package has to download and cache the data.\n",
        "    train_images = mnist.train_images()\n",
        "    train_labels = mnist.train_labels()\n",
        "\n",
        "    print(train_images.shape) # (60000, 28, 28)\n",
        "    print(train_labels.shape) # (60000,)"
      ]
    },
    {
      "cell_type": "markdown",
      "metadata": {
        "id": "F_3tRtvg9U9J"
      },
      "source": [
        "Что в данном случае мы смогли с вами узнать? Что тренировочный датасет mnist состоит из 60000 изображений 28 на 28 пикселей. Такие небольшие датасеты с маленькими изображениями встретятся вам и в других учебных датасетах."
      ]
    },
    {
      "cell_type": "markdown",
      "metadata": {
        "id": "DZiKILQd9U9L"
      },
      "source": [
        "Что нам нужно делать теперь? Если датасет не имеет разделения на тренировочный и тестовый то поделить их. В нашем случае наш тренировочный датасет состоит из 60 000 изображений и тестовый из 10 000 и они поделены по умолчанию.\n",
        "\n",
        "Нам теперь нужно конверитировать значения пикселей из вида от 1 до 255 в набор значений от -0.5 до 0.5.\n",
        "\n"
      ]
    },
    {
      "cell_type": "code",
      "metadata": {
        "colab": {
          "base_uri": "https://localhost:8080/"
        },
        "id": "TQMMZ_jw9U9N",
        "outputId": "f581e41b-d3f4-4cb3-bdda-b141c36d8458"
      },
      "source": [
        "import numpy as np\n",
        "#import mnist\n",
        "#import tensorflow as tf\n",
        "#import tf.kears as keras\n",
        "import keras\n",
        "from keras.datasets import mnist, boston_housing, fashion_mnist  # наборы для работы\n",
        "\n",
        "#train_images = mnist.train_images()\n",
        "#train_labels = mnist.train_labels()\n",
        "#test_images = mnist.test_images()\n",
        "#test_labels = mnist.test_labels()\n",
        "\n",
        "(train_imagesi,train_labels),(test_imagesi,testn_labels)=mnist.load_data()\n",
        "\n",
        "# Normalize the images.\n",
        "train_imagesi = (train_imagesi / 127) - 1\n",
        "test_imagesi = (test_imagesi / 127) - 1\n",
        "\n",
        "# Flatten the images.\n",
        "train_images = train_imagesi.reshape((-1, 784))\n",
        "test_images = test_imagesi.reshape((-1, 784))\n",
        "\n",
        "print(train_images.shape) # (60000, 784)\n",
        "print(test_images.shape)  # (10000, 784)"
      ],
      "execution_count": 136,
      "outputs": [
        {
          "output_type": "stream",
          "name": "stdout",
          "text": [
            "(60000, 784)\n",
            "(10000, 784)\n"
          ]
        }
      ]
    },
    {
      "cell_type": "code",
      "metadata": {
        "colab": {
          "base_uri": "https://localhost:8080/",
          "height": 36
        },
        "id": "3fwDFMMPJDFE",
        "outputId": "97f7dcb3-d274-48e9-b1ee-7925dd7670d3"
      },
      "source": [
        "keras.backend.backend()"
      ],
      "execution_count": 137,
      "outputs": [
        {
          "output_type": "execute_result",
          "data": {
            "application/vnd.google.colaboratory.intrinsic+json": {
              "type": "string"
            },
            "text/plain": [
              "'tensorflow'"
            ]
          },
          "metadata": {},
          "execution_count": 137
        }
      ]
    },
    {
      "cell_type": "code",
      "metadata": {
        "id": "Jp0WM1sS1DFX"
      },
      "source": [
        "import matplotlib.pyplot as plt"
      ],
      "execution_count": 138,
      "outputs": []
    },
    {
      "cell_type": "code",
      "metadata": {
        "colab": {
          "base_uri": "https://localhost:8080/",
          "height": 283
        },
        "id": "1GG9Z5HDEEWW",
        "outputId": "65e86701-5330-46eb-da73-4fcee6fae08d"
      },
      "source": [
        "plt.imshow(train_imagesi[2,:,:])\n",
        "plt.show()\n",
        "print(train_labels[2])"
      ],
      "execution_count": 139,
      "outputs": [
        {
          "output_type": "display_data",
          "data": {
            "image/png": "[encoded data removed]",
            "text/plain": [
              "<Figure size 432x288 with 1 Axes>"
            ]
          },
          "metadata": {
            "needs_background": "light"
          }
        },
        {
          "output_type": "stream",
          "name": "stdout",
          "text": [
            "4\n"
          ]
        }
      ]
    },
    {
      "cell_type": "code",
      "metadata": {
        "colab": {
          "base_uri": "https://localhost:8080/"
        },
        "id": "t58_YKCl38rz",
        "outputId": "66707c5d-0e2b-46e0-b0e1-712de37260ad"
      },
      "source": [
        "train_labels[:12]"
      ],
      "execution_count": 140,
      "outputs": [
        {
          "output_type": "execute_result",
          "data": {
            "text/plain": [
              "array([5, 0, 4, 1, 9, 2, 1, 3, 1, 4, 3, 5], dtype=uint8)"
            ]
          },
          "metadata": {},
          "execution_count": 140
        }
      ]
    },
    {
      "cell_type": "code",
      "metadata": {
        "colab": {
          "base_uri": "https://localhost:8080/"
        },
        "id": "1_Ae7niGnjb6",
        "outputId": "668853bd-2b2f-4d79-8b8a-24f229ada505"
      },
      "source": [
        "train_images[202,150:160]"
      ],
      "execution_count": 141,
      "outputs": [
        {
          "output_type": "execute_result",
          "data": {
            "text/plain": [
              "array([-1.        , -1.        , -1.        , -1.        , -1.        ,\n",
              "       -0.90551181, -0.80314961, -0.80314961, -0.80314961, -0.80314961])"
            ]
          },
          "metadata": {},
          "execution_count": 141
        }
      ]
    },
    {
      "cell_type": "markdown",
      "metadata": {
        "id": "Y6btW5Oz9U9W"
      },
      "source": [
        "**Создание модели**"
      ]
    },
    {
      "cell_type": "markdown",
      "metadata": {
        "id": "jgVdsO619U9Y"
      },
      "source": [
        "После первичной подготовки данных дальше как правило следует создание модели нейронной сети, которая будет учиться на этих данных.\n",
        "\n",
        "Ниже типичный код учебной нейросети - "
      ]
    },
    {
      "cell_type": "markdown",
      "metadata": {
        "id": "rfu5k2FX9U9a"
      },
      "source": [
        "    # define the keras model\n",
        "    model = Sequential()\n",
        "    model.add(Dense(12, input_dim=8, activation='relu'))\n",
        "    model.add(Dense(8, activation='relu'))\n",
        "    model.add(Dense(1, activation='sigmoid'))"
      ]
    },
    {
      "cell_type": "markdown",
      "metadata": {
        "id": "lb6IkKpN9U9c"
      },
      "source": [
        "Давайте разберемся с теми командами, которые нам встетились в этом коде.\n",
        "\n",
        "Sequential - позволяет создать нейросети где слои имеют форму стека. Сигнал в них передается от одного слоя к другому. В противовес этой разновидности есть нейросети где сигнал может не сразу передаваться в следующий слой а попадать в цикл. Такие нейросети мы разберем в следующих уроках.\n",
        "\n",
        "Dense - позволяет каждому нейронну быть связанному с другим нейронном. В противовес этом может быть необходимость не делать так много связей. Неполносвязнные архитектуры мы также разберем на этом курсе, они основа компьютерного зрения.\n",
        "\n",
        "Цифры 12, 8, 1 обозначают количество нейронов в каждом конкретном слое\n",
        "\n",
        "Activation - позволяет определить формулу по которой будет активироваться нейрон."
      ]
    },
    {
      "cell_type": "markdown",
      "metadata": {
        "id": "iVWaIK2l9U9e"
      },
      "source": [
        "**Компиляция модели**\n",
        "\n",
        "На этапе компиляции модель с заданными параметрами ранее создается. Вот типичный учебный пример:"
      ]
    },
    {
      "cell_type": "markdown",
      "metadata": {
        "id": "B6m5CF1l9U9g"
      },
      "source": [
        "    \n",
        "    # создание keras модели\n",
        "    model.compile(loss='binary_crossentropy', optimizer='adam', metrics=['accuracy'])"
      ]
    },
    {
      "cell_type": "markdown",
      "metadata": {
        "id": "IDbetrHA9U9i"
      },
      "source": [
        "Однако на этой стадии мы должны сделать еще некоторые настройки нейронной сети. Разберем команды из кода выше.\n",
        "\n",
        "loss - позволяет задать формулы по которой будет определяться степень ошибки нейронной сети.\n",
        "\n",
        "optimizer - позволяет задать алгоритм, который будет осуществлять изменения весов по всей нейронной сети (backpropagation)\n",
        "\n",
        "metrics - позволяет опредилить кретирии по которым будет оцениваться степень обученности нейросети.\n",
        "    \n",
        "    "
      ]
    },
    {
      "cell_type": "markdown",
      "metadata": {
        "id": "KH-Cy6Iy9U9l"
      },
      "source": [
        "**Передача данных для обучения нейросети**\n",
        "\n",
        "После того как нейросеть создана можно передавать ей данные для обучения. Ниже типичный пример кода для этого.\n"
      ]
    },
    {
      "cell_type": "markdown",
      "metadata": {
        "id": "TweWbzvu9U9o"
      },
      "source": [
        "    # передача обучающего датасета keras модели\n",
        "    model.fit(X, y, epochs=150, batch_size=10, verbose=0)"
      ]
    },
    {
      "cell_type": "markdown",
      "metadata": {
        "id": "tFt0A6m59U9q"
      },
      "source": [
        "Разберем команды из этого примера.\n",
        "X, y - содержат все обучающие данные\n",
        "epochs - определяет сколько раз через нейросеть должен пройти весь набор данных\n",
        "bath_size - определяет количество обучающих примеров передающихся нейросети на каждой итерации обучения.\n",
        "verbose - позволяет определять информацию, котору вы видете во время обучения нейронной сети."
      ]
    },
    {
      "cell_type": "markdown",
      "metadata": {
        "id": "P7ERG-o79U9s"
      },
      "source": [
        "**Оценка обученности нейронной сети**\n",
        "\n",
        "Следующей стадией может быть проверка обученности нейронной сети. Команда Keras для этих целей - \n",
        "\n",
        "    results = model.evaluate(x_test, y_test, batch_size=128)\n",
        "    \n",
        "В данном случае мы просто указываем какую модель на каких данных мы хотим проверить"
      ]
    },
    {
      "cell_type": "markdown",
      "metadata": {
        "id": "UHT1j0AX9U9t"
      },
      "source": [
        "**Запуск нейронной сети для выполнения работы**\n",
        "\n",
        "На этой стадии мы можем попробовать запустить нейронную сеть на данных которые мы хотели бы чтобы она оценила. Осуществить распознования объекта на фотографии например.\n",
        "Вот код для этих целей - \n",
        "\n",
        "    predictions = model.predict(x_test[:3])\n",
        "    \n",
        "В качестве аргумента здесь указывается массив даныхх содержащих, например фотографию в виде массива чисел.    \n",
        "    "
      ]
    },
    {
      "cell_type": "markdown",
      "metadata": {
        "id": "LoL6FC9I9U9v"
      },
      "source": [
        "Мы с вами рассмотрели основные стадии процесса обучения нейросети и команды Keras, для этого. Безусловно здесь приведен далеко неполный перечень возможностей Keras. У Keras есть также возможность сохранять созданную нейросеть, запускать уже имеющиюся, различные средства для создания нейросетей разных архитектур и другое. С чем то из арсенала Keras мы с вами познакомимся по ходу курса, а с остальным вы можете познакомиться на сайте Keras в разделе документация."
      ]
    },
    {
      "cell_type": "markdown",
      "metadata": {
        "id": "jnUt9U3_9U9x"
      },
      "source": [
        "## Простая нейросеть на Keras"
      ]
    },
    {
      "cell_type": "markdown",
      "metadata": {
        "id": "SAa_Lfn89U9y"
      },
      "source": [
        "Давайте попрубуем сделать нейросеть на Keras использую полученные выше знания. Попробуем обучить нейросеть различать рукописные цифры."
      ]
    },
    {
      "cell_type": "code",
      "metadata": {
        "id": "hf6f_oe7EH7A"
      },
      "source": [
        "# Код нейронной сети в Keras!\n",
        "###############################\n",
        "import numpy as np\n",
        "#import mnist\n",
        "from keras.models import Sequential\n",
        "from keras.layers import Dense\n",
        "from keras.datasets import mnist\n",
        "from tensorflow.keras.utils import to_categorical\n",
        "\n"
      ],
      "execution_count": 142,
      "outputs": []
    },
    {
      "cell_type": "code",
      "metadata": {
        "id": "hFo1_J0eEQ9k"
      },
      "source": [
        "\n",
        "(train_imagesi,train_labels),(test_imagesi,test_labels)=mnist.load_data()\n",
        "\n",
        "# можно брать mnist из специальной библиотеки\n",
        "#train_images = mnist.train_images()\n",
        "#train_labels = mnist.train_labels()\n",
        "#test_images = mnist.test_images()\n",
        "#test_labels = mnist.test_labels()\n",
        "\n",
        "# приведем изображение к диапазону (-1,1).\n",
        "train_images = (train_imagesi / 127) - 1\n",
        "test_images = (test_imagesi / 127) - 1\n",
        "\n",
        "# делаем векторизацию, т.к. наши слои полносвязные и хотят на вход вектор.\n",
        "train_images = train_images.reshape((-1, 784))\n",
        "test_images = test_images.reshape((-1, 784))"
      ],
      "execution_count": 143,
      "outputs": []
    },
    {
      "cell_type": "markdown",
      "metadata": {
        "id": "rlO6abtO0oFX"
      },
      "source": [
        "Размер набора входных данных для обучения "
      ]
    },
    {
      "cell_type": "code",
      "metadata": {
        "colab": {
          "base_uri": "https://localhost:8080/"
        },
        "id": "XLsN2KNiNHEf",
        "outputId": "961f3cdc-49c8-46cf-e9a7-e992103addc5"
      },
      "source": [
        "train_images.shape"
      ],
      "execution_count": 144,
      "outputs": [
        {
          "output_type": "execute_result",
          "data": {
            "text/plain": [
              "(60000, 784)"
            ]
          },
          "metadata": {},
          "execution_count": 144
        }
      ]
    },
    {
      "cell_type": "markdown",
      "metadata": {
        "id": "eHplAiIbpDLE"
      },
      "source": [
        "Собираем сеть по слоям через .add()"
      ]
    },
    {
      "cell_type": "code",
      "metadata": {
        "id": "b0-xDKrNHNrv"
      },
      "source": [
        "model1 = Sequential(name='my_model')\n",
        "model1.add(Dense( 128, activation='relu', input_shape=(784,)))  \n",
        "# входной слой + поносвязный слой из 128 нейронов с активацией ReLU\n",
        "for k in range(2):\n",
        "  model1.add(Dense(  10+(10-k)*10, activation='tanh')) \n",
        "  # Скрытый слой k из 10+(10-k)*10 нейронов с активацией tanh\n",
        "\n",
        "model1.add(Dense(10, activation='softmax')) \n",
        "# выходной слой из 10 нейронов (сколько классов, столько нейронов) + активация softmax"
      ],
      "execution_count": 145,
      "outputs": []
    },
    {
      "cell_type": "code",
      "metadata": {
        "id": "WjoJONokxO70"
      },
      "source": [
        "#keras.losses.SparseCategoricalCrossentropy().\n",
        "#keras.losses.categorical_crossentropy()\n",
        "# keras.metrics.accuracy"
      ],
      "execution_count": 146,
      "outputs": []
    },
    {
      "cell_type": "markdown",
      "metadata": {
        "id": "oZG48jgOpNmT"
      },
      "source": [
        "Компилируем сеть с оптимизатором , функцией потерь и метрикой:"
      ]
    },
    {
      "cell_type": "code",
      "metadata": {
        "id": "6pZ5taUWHke6"
      },
      "source": [
        "model1.compile(\n",
        "  optimizer='adam', # оптимизатор\n",
        "  loss=keras.losses.CategoricalCrossentropy(), # функция потерь\n",
        "  metrics=['accuracy'], # метрика\n",
        ") "
      ],
      "execution_count": 147,
      "outputs": []
    },
    {
      "cell_type": "markdown",
      "metadata": {
        "id": "d9Gi-C5ddKKL"
      },
      "source": [
        "Оптимизаторы:\n",
        "* SGD() (с или без моментум)\n",
        "* RMSprop()\n",
        "* Adam()\n",
        "* Adagrad()\n",
        "…\n",
        "\n",
        "Функции потерь:\n",
        "* CategoricalCrossentropy()\n",
        "* SparseCategoricalCrossentropy()\n",
        "* BinaryCrossentropy()\n",
        "* MeanSquaredError()\n",
        "* KLDivergence()\n",
        "* CosineSimilarity()\n",
        "…\n",
        "\n",
        "Метрики:\n",
        "* CategoricalAccuracy()\n",
        "* SparseCategoricalAccuracy()\n",
        "* BinaryAccuracy()\n",
        "* AUC()\n",
        "* Precision()\n",
        "* Recall()\n",
        "…"
      ]
    },
    {
      "cell_type": "markdown",
      "metadata": {
        "id": "kaOhpafIpZ5l"
      },
      "source": [
        "ПОсмотрим из чего она состоит:"
      ]
    },
    {
      "cell_type": "code",
      "metadata": {
        "colab": {
          "base_uri": "https://localhost:8080/"
        },
        "id": "MdAHcWIoE8rf",
        "outputId": "66749b0a-a63d-47d2-f2e3-0e3875e819fa"
      },
      "source": [
        "model1.summary()"
      ],
      "execution_count": 148,
      "outputs": [
        {
          "output_type": "stream",
          "name": "stdout",
          "text": [
            "Model: \"my_model\"\n",
            "_________________________________________________________________\n",
            " Layer (type)                Output Shape              Param #   \n",
            "=================================================================\n",
            " dense_835 (Dense)           (None, 128)               100480    \n",
            "                                                                 \n",
            " dense_836 (Dense)           (None, 110)               14190     \n",
            "                                                                 \n",
            " dense_837 (Dense)           (None, 100)               11100     \n",
            "                                                                 \n",
            " dense_838 (Dense)           (None, 10)                1010      \n",
            "                                                                 \n",
            "=================================================================\n",
            "Total params: 126,780\n",
            "Trainable params: 126,780\n",
            "Non-trainable params: 0\n",
            "_________________________________________________________________\n"
          ]
        }
      ]
    },
    {
      "cell_type": "markdown",
      "metadata": {
        "id": "i2YcWu0upeWi"
      },
      "source": [
        "126 780 параметров в сети. Все будем обучать.\n",
        "\n",
        "Как считать параметры слоя: (число входов нейрона +1)*число нейронов\n",
        "\n",
        "\n",
        "Например, для 5 входов и 10 нейронов в слое - число настраиваемых параметров = (5+1)*10 = 60"
      ]
    },
    {
      "cell_type": "markdown",
      "metadata": {
        "id": "f-drP8y5USej"
      },
      "source": [
        "Еще один способ создать линейную модель"
      ]
    },
    {
      "cell_type": "code",
      "metadata": {
        "id": "vT7VLh_SEcZS"
      },
      "source": [
        "\n",
        "# Build the model.\n",
        "model = Sequential([\n",
        "  Dense(128, activation='tanh', input_shape=(784,)),\n",
        "  Dense(110, activation='tanh'), # Скрытый слой из 110 нейронов с активацией tanh\n",
        "  Dense(100, activation='tanh'), # Скрытый слой k из 100 нейронов с активацией tanh\n",
        "  Dense(10, activation='softmax'),# выходной слой из 10 нейронов (сколько классов, столько нейронов) + активация softmax\n",
        "])\n",
        "\n",
        "# Compile the model.\n",
        "model.compile(\n",
        "  optimizer='adam',\n",
        "  loss='categorical_crossentropy',\n",
        "  metrics=['accuracy'],\n",
        ")"
      ],
      "execution_count": 149,
      "outputs": []
    },
    {
      "cell_type": "code",
      "metadata": {
        "colab": {
          "base_uri": "https://localhost:8080/"
        },
        "id": "O5DOd_RAGZHQ",
        "outputId": "83393380-ec4a-4ed2-901f-b8426fc89a59"
      },
      "source": [
        "model.summary()"
      ],
      "execution_count": 150,
      "outputs": [
        {
          "output_type": "stream",
          "name": "stdout",
          "text": [
            "Model: \"sequential_167\"\n",
            "_________________________________________________________________\n",
            " Layer (type)                Output Shape              Param #   \n",
            "=================================================================\n",
            " dense_839 (Dense)           (None, 128)               100480    \n",
            "                                                                 \n",
            " dense_840 (Dense)           (None, 110)               14190     \n",
            "                                                                 \n",
            " dense_841 (Dense)           (None, 100)               11100     \n",
            "                                                                 \n",
            " dense_842 (Dense)           (None, 10)                1010      \n",
            "                                                                 \n",
            "=================================================================\n",
            "Total params: 126,780\n",
            "Trainable params: 126,780\n",
            "Non-trainable params: 0\n",
            "_________________________________________________________________\n"
          ]
        }
      ]
    },
    {
      "cell_type": "markdown",
      "metadata": {
        "id": "D-ZKLY37Ulq7"
      },
      "source": [
        "Можно подсмотреть как наша модель описана после ее создания"
      ]
    },
    {
      "cell_type": "code",
      "metadata": {
        "colab": {
          "base_uri": "https://localhost:8080/"
        },
        "id": "p8zwmaHKzVUH",
        "outputId": "e5efca0a-3aea-4f13-f98f-05b508d8cbc0"
      },
      "source": [
        "model.get_config()"
      ],
      "execution_count": 151,
      "outputs": [
        {
          "output_type": "execute_result",
          "data": {
            "text/plain": [
              "{'layers': [{'class_name': 'InputLayer',\n",
              "   'config': {'batch_input_shape': (None, 784),\n",
              "    'dtype': 'float32',\n",
              "    'name': 'dense_839_input',\n",
              "    'ragged': False,\n",
              "    'sparse': False}},\n",
              "  {'class_name': 'Dense',\n",
              "   'config': {'activation': 'tanh',\n",
              "    'activity_regularizer': None,\n",
              "    'batch_input_shape': (None, 784),\n",
              "    'bias_constraint': None,\n",
              "    'bias_initializer': {'class_name': 'Zeros', 'config': {}},\n",
              "    'bias_regularizer': None,\n",
              "    'dtype': 'float32',\n",
              "    'kernel_constraint': None,\n",
              "    'kernel_initializer': {'class_name': 'GlorotUniform',\n",
              "     'config': {'seed': None}},\n",
              "    'kernel_regularizer': None,\n",
              "    'name': 'dense_839',\n",
              "    'trainable': True,\n",
              "    'units': 128,\n",
              "    'use_bias': True}},\n",
              "  {'class_name': 'Dense',\n",
              "   'config': {'activation': 'tanh',\n",
              "    'activity_regularizer': None,\n",
              "    'bias_constraint': None,\n",
              "    'bias_initializer': {'class_name': 'Zeros', 'config': {}},\n",
              "    'bias_regularizer': None,\n",
              "    'dtype': 'float32',\n",
              "    'kernel_constraint': None,\n",
              "    'kernel_initializer': {'class_name': 'GlorotUniform',\n",
              "     'config': {'seed': None}},\n",
              "    'kernel_regularizer': None,\n",
              "    'name': 'dense_840',\n",
              "    'trainable': True,\n",
              "    'units': 110,\n",
              "    'use_bias': True}},\n",
              "  {'class_name': 'Dense',\n",
              "   'config': {'activation': 'tanh',\n",
              "    'activity_regularizer': None,\n",
              "    'bias_constraint': None,\n",
              "    'bias_initializer': {'class_name': 'Zeros', 'config': {}},\n",
              "    'bias_regularizer': None,\n",
              "    'dtype': 'float32',\n",
              "    'kernel_constraint': None,\n",
              "    'kernel_initializer': {'class_name': 'GlorotUniform',\n",
              "     'config': {'seed': None}},\n",
              "    'kernel_regularizer': None,\n",
              "    'name': 'dense_841',\n",
              "    'trainable': True,\n",
              "    'units': 100,\n",
              "    'use_bias': True}},\n",
              "  {'class_name': 'Dense',\n",
              "   'config': {'activation': 'softmax',\n",
              "    'activity_regularizer': None,\n",
              "    'bias_constraint': None,\n",
              "    'bias_initializer': {'class_name': 'Zeros', 'config': {}},\n",
              "    'bias_regularizer': None,\n",
              "    'dtype': 'float32',\n",
              "    'kernel_constraint': None,\n",
              "    'kernel_initializer': {'class_name': 'GlorotUniform',\n",
              "     'config': {'seed': None}},\n",
              "    'kernel_regularizer': None,\n",
              "    'name': 'dense_842',\n",
              "    'trainable': True,\n",
              "    'units': 10,\n",
              "    'use_bias': True}}],\n",
              " 'name': 'sequential_167'}"
            ]
          },
          "metadata": {},
          "execution_count": 151
        }
      ]
    },
    {
      "cell_type": "markdown",
      "metadata": {
        "id": "Og3zBOXKUt6Q"
      },
      "source": [
        "Превратим выходы в векторые (OHE в keras - from keras.utils import to_categorical)"
      ]
    },
    {
      "cell_type": "code",
      "metadata": {
        "colab": {
          "base_uri": "https://localhost:8080/"
        },
        "id": "r4vfB93ZMa7k",
        "outputId": "29032e29-ab7c-4f7d-b315-e8a0c0597bf3"
      },
      "source": [
        "train_labels[:5]"
      ],
      "execution_count": 152,
      "outputs": [
        {
          "output_type": "execute_result",
          "data": {
            "text/plain": [
              "array([5, 0, 4, 1, 9], dtype=uint8)"
            ]
          },
          "metadata": {},
          "execution_count": 152
        }
      ]
    },
    {
      "cell_type": "code",
      "metadata": {
        "id": "fXgYOrUwGwzG"
      },
      "source": [
        "y_t = to_categorical( train_labels)\n",
        "y_tt = to_categorical(test_labels)"
      ],
      "execution_count": 153,
      "outputs": []
    },
    {
      "cell_type": "code",
      "metadata": {
        "colab": {
          "base_uri": "https://localhost:8080/"
        },
        "id": "HWKHT3kpG6yw",
        "outputId": "2225b62c-f5d2-41bd-f65e-5501d7c29b05"
      },
      "source": [
        "y_t[:3,:]"
      ],
      "execution_count": 154,
      "outputs": [
        {
          "output_type": "execute_result",
          "data": {
            "text/plain": [
              "array([[0., 0., 0., 0., 0., 1., 0., 0., 0., 0.],\n",
              "       [1., 0., 0., 0., 0., 0., 0., 0., 0., 0.],\n",
              "       [0., 0., 0., 0., 1., 0., 0., 0., 0., 0.]], dtype=float32)"
            ]
          },
          "metadata": {},
          "execution_count": 154
        }
      ]
    },
    {
      "cell_type": "code",
      "metadata": {
        "colab": {
          "base_uri": "https://localhost:8080/"
        },
        "id": "13v9kMf5Ouq_",
        "outputId": "8c3f0ba2-4f3e-406c-baae-49748e7f746b"
      },
      "source": [
        "train_labels[:5]"
      ],
      "execution_count": 155,
      "outputs": [
        {
          "output_type": "execute_result",
          "data": {
            "text/plain": [
              "array([5, 0, 4, 1, 9], dtype=uint8)"
            ]
          },
          "metadata": {},
          "execution_count": 155
        }
      ]
    },
    {
      "cell_type": "markdown",
      "metadata": {
        "id": "Xk1EavOKVBqI"
      },
      "source": [
        "Посмотрим на реакции модели до обучения - уже можно:)"
      ]
    },
    {
      "cell_type": "code",
      "metadata": {
        "id": "x6q31tJQLuol"
      },
      "source": [
        "y_pred = model.predict(test_images[:5,:])"
      ],
      "execution_count": 156,
      "outputs": []
    },
    {
      "cell_type": "code",
      "metadata": {
        "colab": {
          "base_uri": "https://localhost:8080/"
        },
        "id": "qM07Ce8IMKPh",
        "outputId": "49afb249-355d-4176-fc73-03d37a042b91"
      },
      "source": [
        "y_pred[0,:]"
      ],
      "execution_count": 157,
      "outputs": [
        {
          "output_type": "execute_result",
          "data": {
            "text/plain": [
              "array([0.05662898, 0.10276592, 0.04221441, 0.04844158, 0.11417007,\n",
              "       0.10024446, 0.17242238, 0.19362038, 0.07543641, 0.09405541],\n",
              "      dtype=float32)"
            ]
          },
          "metadata": {},
          "execution_count": 157
        }
      ]
    },
    {
      "cell_type": "code",
      "metadata": {
        "colab": {
          "base_uri": "https://localhost:8080/"
        },
        "id": "iFZ8fTdWL-2x",
        "outputId": "84f8e551-a9f9-4f20-80aa-c841bacbbdcf"
      },
      "source": [
        "y_class = np.argmax(y_pred, axis=1)\n",
        "print(y_class) # [7, 2, 1, 0, 4]"
      ],
      "execution_count": 158,
      "outputs": [
        {
          "output_type": "stream",
          "name": "stdout",
          "text": [
            "[7 1 7 8 8]\n"
          ]
        }
      ]
    },
    {
      "cell_type": "code",
      "metadata": {
        "colab": {
          "base_uri": "https://localhost:8080/",
          "height": 281
        },
        "id": "4XpTnd6bO2lt",
        "outputId": "ed01a9eb-d925-4e7b-d650-8cd759e0fe8a"
      },
      "source": [
        "n = 1\n",
        "plt.imshow(test_imagesi[n,:,:])\n",
        "plt.title('цифра - '+str(y_class[n]))\n",
        "plt.show()"
      ],
      "execution_count": 159,
      "outputs": [
        {
          "output_type": "display_data",
          "data": {
            "image/png": "[encoded data removed]",
            "text/plain": [
              "<Figure size 432x288 with 1 Axes>"
            ]
          },
          "metadata": {
            "needs_background": "light"
          }
        }
      ]
    },
    {
      "cell_type": "markdown",
      "metadata": {
        "id": "emVGoAdNVSK-"
      },
      "source": [
        "Сделаем цикл тренировки модели"
      ]
    },
    {
      "cell_type": "code",
      "metadata": {
        "colab": {
          "base_uri": "https://localhost:8080/"
        },
        "id": "9lCF4zXv9U90",
        "outputId": "83572fd8-8471-45c5-d003-98de794702db"
      },
      "source": [
        "\n",
        "# Train the model.\n",
        "model1.fit(  \n",
        "  train_images[:,:],\n",
        "\n",
        "  y_t[:,:],\n",
        "  epochs=15,\n",
        "  batch_size=32, validation_split=0.2\n",
        ")\n",
        "\n",
        "# Evaluate the model.\n",
        "model1.evaluate( \n",
        "  test_images,\n",
        "  y_tt\n",
        ")\n",
        "\n",
        "# Predict on the first 5 test images.\n",
        "predictions = model.predict(test_images[:5])\n",
        "\n",
        "# Print our model's predictions.\n",
        "print(np.argmax(predictions, axis=1)) # [7, 2, 1, 0, 4]\n",
        "\n",
        "# Check our predictions against the ground truths.\n",
        "print(test_labels[:5]) # [7, 2, 1, 0, 4]"
      ],
      "execution_count": 160,
      "outputs": [
        {
          "output_type": "stream",
          "name": "stdout",
          "text": [
            "Epoch 1/15\n",
            "1500/1500 [==============================] - 7s 4ms/step - loss: 0.3209 - accuracy: 0.9015 - val_loss: 0.1903 - val_accuracy: 0.9429\n",
            "Epoch 2/15\n",
            "1500/1500 [==============================] - 7s 4ms/step - loss: 0.1677 - accuracy: 0.9473 - val_loss: 0.1401 - val_accuracy: 0.9576\n",
            "Epoch 3/15\n",
            "1500/1500 [==============================] - 6s 4ms/step - loss: 0.1292 - accuracy: 0.9604 - val_loss: 0.1324 - val_accuracy: 0.9598\n",
            "Epoch 4/15\n",
            "1500/1500 [==============================] - 6s 4ms/step - loss: 0.1093 - accuracy: 0.9668 - val_loss: 0.1264 - val_accuracy: 0.9625\n",
            "Epoch 5/15\n",
            "1500/1500 [==============================] - 6s 4ms/step - loss: 0.0997 - accuracy: 0.9690 - val_loss: 0.1440 - val_accuracy: 0.9576\n",
            "Epoch 6/15\n",
            "1500/1500 [==============================] - 7s 4ms/step - loss: 0.0873 - accuracy: 0.9718 - val_loss: 0.1110 - val_accuracy: 0.9672\n",
            "Epoch 7/15\n",
            "1500/1500 [==============================] - 6s 4ms/step - loss: 0.0804 - accuracy: 0.9745 - val_loss: 0.1234 - val_accuracy: 0.9628\n",
            "Epoch 8/15\n",
            "1500/1500 [==============================] - 6s 4ms/step - loss: 0.0726 - accuracy: 0.9773 - val_loss: 0.1168 - val_accuracy: 0.9668\n",
            "Epoch 9/15\n",
            "1500/1500 [==============================] - 6s 4ms/step - loss: 0.0693 - accuracy: 0.9773 - val_loss: 0.1118 - val_accuracy: 0.9678\n",
            "Epoch 10/15\n",
            "1500/1500 [==============================] - 6s 4ms/step - loss: 0.0658 - accuracy: 0.9777 - val_loss: 0.1249 - val_accuracy: 0.9651\n",
            "Epoch 11/15\n",
            "1500/1500 [==============================] - 6s 4ms/step - loss: 0.0624 - accuracy: 0.9797 - val_loss: 0.1183 - val_accuracy: 0.9664\n",
            "Epoch 12/15\n",
            "1500/1500 [==============================] - 6s 4ms/step - loss: 0.0574 - accuracy: 0.9813 - val_loss: 0.1095 - val_accuracy: 0.9713\n",
            "Epoch 13/15\n",
            "1500/1500 [==============================] - 6s 4ms/step - loss: 0.0542 - accuracy: 0.9827 - val_loss: 0.1132 - val_accuracy: 0.9706\n",
            "Epoch 14/15\n",
            "1500/1500 [==============================] - 6s 4ms/step - loss: 0.0522 - accuracy: 0.9831 - val_loss: 0.1103 - val_accuracy: 0.9693\n",
            "Epoch 15/15\n",
            "1500/1500 [==============================] - 6s 4ms/step - loss: 0.0533 - accuracy: 0.9830 - val_loss: 0.1144 - val_accuracy: 0.9700\n",
            "313/313 [==============================] - 1s 4ms/step - loss: 0.1189 - accuracy: 0.9681\n",
            "[7 1 7 8 8]\n",
            "[7 2 1 0 4]\n"
          ]
        }
      ]
    },
    {
      "cell_type": "markdown",
      "metadata": {
        "id": "CUndBqeOVY1_"
      },
      "source": [
        "И можем еще один добавить (продолжаем от предществующего состояния)"
      ]
    },
    {
      "cell_type": "code",
      "metadata": {
        "colab": {
          "base_uri": "https://localhost:8080/"
        },
        "id": "z3Qc2u0mHfBJ",
        "outputId": "e5237407-2908-4df4-9882-d036ab94f24e"
      },
      "source": [
        "model.fit(\n",
        "  train_images,\n",
        "  y_t,\n",
        "  epochs=3,\n",
        "  batch_size=1024, validation_split=0.2\n",
        ")"
      ],
      "execution_count": 161,
      "outputs": [
        {
          "output_type": "stream",
          "name": "stdout",
          "text": [
            "Epoch 1/3\n",
            "47/47 [==============================] - 1s 13ms/step - loss: 0.7440 - accuracy: 0.7911 - val_loss: 0.3302 - val_accuracy: 0.9024\n",
            "Epoch 2/3\n",
            "47/47 [==============================] - 0s 8ms/step - loss: 0.2910 - accuracy: 0.9155 - val_loss: 0.2425 - val_accuracy: 0.9302\n",
            "Epoch 3/3\n",
            "47/47 [==============================] - 0s 8ms/step - loss: 0.2189 - accuracy: 0.9363 - val_loss: 0.1878 - val_accuracy: 0.9456\n"
          ]
        },
        {
          "output_type": "execute_result",
          "data": {
            "text/plain": [
              "<keras.callbacks.History at 0x7ff9342eb9d0>"
            ]
          },
          "metadata": {},
          "execution_count": 161
        }
      ]
    },
    {
      "cell_type": "markdown",
      "metadata": {
        "id": "EpxXh0NiVg8p"
      },
      "source": [
        "Сохраним модель на диск"
      ]
    },
    {
      "cell_type": "code",
      "metadata": {
        "id": "He1a5EemElpX"
      },
      "source": [
        "# сохранить веса модели.\n",
        "model.save_weights('model.h5')\n",
        "\n",
        "# загрузить веса модели:\n",
        "# model.load_weights('model.h5')\n"
      ],
      "execution_count": 162,
      "outputs": []
    },
    {
      "cell_type": "markdown",
      "metadata": {
        "id": "P5MHvkloVkqj"
      },
      "source": [
        "И еще тренируем (вторую модель)"
      ]
    },
    {
      "cell_type": "code",
      "metadata": {
        "colab": {
          "base_uri": "https://localhost:8080/"
        },
        "id": "1koJ2ivjLOrO",
        "outputId": "580fee2d-7a86-4c69-e084-9908a6df49f0"
      },
      "source": [
        "\n",
        "# Train the model. Вернем результаты по потерям и метрикам для всех эпох в hh \n",
        "hh = model1.fit( \n",
        "  train_images,\n",
        "  to_categorical(train_labels),\n",
        "  epochs=15,\n",
        "  batch_size=32, validation_split=0.2\n",
        ")\n",
        "\n",
        "# Evaluate the model.\n",
        "model1.evaluate(\n",
        "  test_images,\n",
        "  to_categorical(test_labels)\n",
        ")\n",
        "\n",
        "# Predict on the first 5 test images.\n",
        "predictions = model1.predict(test_images[:5])\n",
        "\n",
        "# Print our model's predictions.\n",
        "print(np.argmax(predictions, axis=1)) # [7, 2, 1, 0, 4]\n",
        "\n",
        "# Check our predictions against the ground truths.\n",
        "print(test_labels[:5]) # [7, 2, 1, 0, 4]"
      ],
      "execution_count": 163,
      "outputs": [
        {
          "output_type": "stream",
          "name": "stdout",
          "text": [
            "Epoch 1/15\n",
            "1500/1500 [==============================] - 6s 4ms/step - loss: 0.0524 - accuracy: 0.9829 - val_loss: 0.1230 - val_accuracy: 0.9682\n",
            "Epoch 2/15\n",
            "1500/1500 [==============================] - 6s 4ms/step - loss: 0.0488 - accuracy: 0.9842 - val_loss: 0.1055 - val_accuracy: 0.9725\n",
            "Epoch 3/15\n",
            "1500/1500 [==============================] - 6s 4ms/step - loss: 0.0476 - accuracy: 0.9842 - val_loss: 0.1034 - val_accuracy: 0.9726\n",
            "Epoch 4/15\n",
            "1500/1500 [==============================] - 6s 4ms/step - loss: 0.0458 - accuracy: 0.9851 - val_loss: 0.1032 - val_accuracy: 0.9731\n",
            "Epoch 5/15\n",
            "1500/1500 [==============================] - 7s 4ms/step - loss: 0.0426 - accuracy: 0.9860 - val_loss: 0.1102 - val_accuracy: 0.9715\n",
            "Epoch 6/15\n",
            "1500/1500 [==============================] - 6s 4ms/step - loss: 0.0436 - accuracy: 0.9856 - val_loss: 0.1116 - val_accuracy: 0.9714\n",
            "Epoch 7/15\n",
            "1500/1500 [==============================] - 6s 4ms/step - loss: 0.0455 - accuracy: 0.9850 - val_loss: 0.1055 - val_accuracy: 0.9728\n",
            "Epoch 8/15\n",
            "1500/1500 [==============================] - 6s 4ms/step - loss: 0.0399 - accuracy: 0.9874 - val_loss: 0.1155 - val_accuracy: 0.9718\n",
            "Epoch 9/15\n",
            "1500/1500 [==============================] - 7s 4ms/step - loss: 0.0393 - accuracy: 0.9868 - val_loss: 0.1286 - val_accuracy: 0.9663\n",
            "Epoch 10/15\n",
            "1500/1500 [==============================] - 6s 4ms/step - loss: 0.0441 - accuracy: 0.9847 - val_loss: 0.1174 - val_accuracy: 0.9696\n",
            "Epoch 11/15\n",
            "1500/1500 [==============================] - 7s 4ms/step - loss: 0.0426 - accuracy: 0.9857 - val_loss: 0.1083 - val_accuracy: 0.9737\n",
            "Epoch 12/15\n",
            "1500/1500 [==============================] - 7s 4ms/step - loss: 0.0358 - accuracy: 0.9879 - val_loss: 0.1169 - val_accuracy: 0.9705\n",
            "Epoch 13/15\n",
            "1500/1500 [==============================] - 7s 4ms/step - loss: 0.0405 - accuracy: 0.9864 - val_loss: 0.1237 - val_accuracy: 0.9699\n",
            "Epoch 14/15\n",
            "1500/1500 [==============================] - 7s 4ms/step - loss: 0.0336 - accuracy: 0.9888 - val_loss: 0.1096 - val_accuracy: 0.9723\n",
            "Epoch 15/15\n",
            "1500/1500 [==============================] - 6s 4ms/step - loss: 0.0372 - accuracy: 0.9877 - val_loss: 0.1129 - val_accuracy: 0.9715\n",
            "313/313 [==============================] - 1s 4ms/step - loss: 0.0999 - accuracy: 0.9738\n",
            "[7 2 1 0 4]\n",
            "[7 2 1 0 4]\n"
          ]
        }
      ]
    },
    {
      "cell_type": "markdown",
      "metadata": {
        "id": "Ckh_q63TvAja"
      },
      "source": [
        "Посмотрим на возвращаемый словарь hh.history (там результаты по эпохам для потерь и метрик по обучению и тестам)"
      ]
    },
    {
      "cell_type": "code",
      "metadata": {
        "colab": {
          "base_uri": "https://localhost:8080/"
        },
        "id": "myewLXE4KTZ6",
        "outputId": "88b4bfc3-dfd2-478b-cd30-6a237bdc1104"
      },
      "source": [
        "hh.history"
      ],
      "execution_count": 164,
      "outputs": [
        {
          "output_type": "execute_result",
          "data": {
            "text/plain": [
              "{'accuracy': [0.9829375147819519,\n",
              "  0.984208345413208,\n",
              "  0.9841874837875366,\n",
              "  0.9850833415985107,\n",
              "  0.9860208630561829,\n",
              "  0.9856250286102295,\n",
              "  0.9849791526794434,\n",
              "  0.987375020980835,\n",
              "  0.9867500066757202,\n",
              "  0.984749972820282,\n",
              "  0.9856874942779541,\n",
              "  0.9878958463668823,\n",
              "  0.9863749742507935,\n",
              "  0.9888333082199097,\n",
              "  0.987708330154419],\n",
              " 'loss': [0.0524425134062767,\n",
              "  0.04883890971541405,\n",
              "  0.0476173497736454,\n",
              "  0.04576489329338074,\n",
              "  0.042583297938108444,\n",
              "  0.043550144881010056,\n",
              "  0.04552368074655533,\n",
              "  0.039889801293611526,\n",
              "  0.039321526885032654,\n",
              "  0.04412062093615532,\n",
              "  0.04256192222237587,\n",
              "  0.035753510892391205,\n",
              "  0.04047004133462906,\n",
              "  0.03363802284002304,\n",
              "  0.03721156716346741],\n",
              " 'val_accuracy': [0.9681666493415833,\n",
              "  0.9725000262260437,\n",
              "  0.9725833535194397,\n",
              "  0.9730833172798157,\n",
              "  0.9714999794960022,\n",
              "  0.9714166522026062,\n",
              "  0.9728333353996277,\n",
              "  0.971750020980835,\n",
              "  0.9662500023841858,\n",
              "  0.9695833325386047,\n",
              "  0.9736666679382324,\n",
              "  0.9704999923706055,\n",
              "  0.9699166417121887,\n",
              "  0.9723333120346069,\n",
              "  0.9714999794960022],\n",
              " 'val_loss': [0.12299088388681412,\n",
              "  0.10550525039434433,\n",
              "  0.10335217416286469,\n",
              "  0.10319095849990845,\n",
              "  0.1101585254073143,\n",
              "  0.1115579828619957,\n",
              "  0.10553479939699173,\n",
              "  0.115464948117733,\n",
              "  0.12857316434383392,\n",
              "  0.11743790656328201,\n",
              "  0.1082928255200386,\n",
              "  0.11694186180830002,\n",
              "  0.12374920397996902,\n",
              "  0.10959964990615845,\n",
              "  0.11291052401065826]}"
            ]
          },
          "metadata": {},
          "execution_count": 164
        }
      ]
    },
    {
      "cell_type": "markdown",
      "metadata": {
        "id": "lJpjFH7hVw8Q"
      },
      "source": [
        "Покажем как выглядит кривая обучения"
      ]
    },
    {
      "cell_type": "code",
      "metadata": {
        "colab": {
          "base_uri": "https://localhost:8080/",
          "height": 458
        },
        "id": "5fBO1Yh2PyIK",
        "outputId": "a9ace95b-25ae-482e-ea81-04ccacea7057"
      },
      "source": [
        "plt.figure(figsize=(15,7))\n",
        "plt.plot(hh.history['loss'], label = 'потери для тренировки')\n",
        "plt.plot(hh.history['val_loss'], label = 'потери для валидации')\n",
        "plt.xlabel('эпох')\n",
        "plt.ylabel('loss')\n",
        "plt.legend()\n",
        "plt.grid('On')\n",
        "plt.title('потери от эпох')\n",
        "plt.show()\n"
      ],
      "execution_count": 165,
      "outputs": [
        {
          "output_type": "display_data",
          "data": {
            "image/png": "[encoded data removed]",
            "text/plain": [
              "<Figure size 1080x504 with 1 Axes>"
            ]
          },
          "metadata": {
            "needs_background": "light"
          }
        }
      ]
    },
    {
      "cell_type": "code",
      "metadata": {
        "colab": {
          "base_uri": "https://localhost:8080/"
        },
        "id": "6qh30hSNwohn",
        "outputId": "b5017810-ecea-4c07-ac1a-2268cb71e1d0"
      },
      "source": [
        "hh"
      ],
      "execution_count": 166,
      "outputs": [
        {
          "output_type": "execute_result",
          "data": {
            "text/plain": [
              "<keras.callbacks.History at 0x7ff933efae50>"
            ]
          },
          "metadata": {},
          "execution_count": 166
        }
      ]
    },
    {
      "cell_type": "markdown",
      "metadata": {
        "id": "a8zh5g-GBQIp"
      },
      "source": [
        "Эксперимент с разными оптимизаторами для одной начальной модели:\n",
        "\n",
        "  - создаем модель model\n",
        "  - сохраняем ее веса (это начальная точка) model.save_weights('model.h5')\n",
        "  - создаем рабочую модель modeli куда будем загружать эти вес (она должна быть идентичной структуры) \n",
        "  - загружаем веса modeli.load_weights('model.h5')\n",
        "  - компилируем modeli с одним из оптимизаторов\n",
        "  - вычисляем ошибку для modeli без обучения (т.к. все модели начинают с одной точки, то все ошибки должны быть одинаковые, но будем контролировать это и считаем каждый раз заново)\n",
        "  - проводим обучение модели и пишем ошибки в истории hh\n",
        "  - выводим ошибки для 0-го момента и каждой эпохи обучения по тестовой и валидационной частям данных\n",
        "\n",
        "\n",
        "\n",
        "Оптимизаторы:\n",
        "* SGD() (с или без моментум)\n",
        "* RMSprop()\n",
        "* Adam()\n",
        "* Adagrad()\n",
        "…\n"
      ]
    },
    {
      "cell_type": "code",
      "metadata": {
        "colab": {
          "base_uri": "https://localhost:8080/",
          "height": 458
        },
        "id": "jaqCLGg3w_Nl",
        "outputId": "6899867b-0d9e-4e1e-852a-b65d1ebda213"
      },
      "source": [
        "# создаем модель model\n",
        "model = Sequential([\n",
        "                      Dense( 64, activation='relu', input_shape=(784,)),\n",
        "                      Dense(64, activation='tanh'),\n",
        "                      Dense(10, activation='softmax'),\n",
        "                      ])\n",
        "# сохраняем ее веса (это начальная точка) model.save_weights('model.h5')\n",
        "model.save_weights('model.h5')\n",
        "\n",
        "plt.figure(figsize=(16,7))\n",
        "\n",
        "# число рабочих эпох\n",
        "epochs = 15\n",
        "# вектор для выводв результатов\n",
        "epoch = np.arange(epochs+1)\n",
        "\n",
        "# будем изменять оптимизаторы\n",
        "\n",
        "#opt_list = [keras.optimizers.SGD( ),keras.optimizers.Adam( ),keras.optimizers.Nadam( )]\n",
        "for i_optim in ['SGD','RMSProp','adam','NAdam']:\n",
        "  # создаем рабочую модель modeli куда будем загружать эти вес (она должна быть идентичной структуры)\n",
        "  modeli = Sequential([\n",
        "                      Dense(64, activation='relu', input_shape=(784,)),\n",
        "                      Dense(64, activation='tanh'),\n",
        "                      Dense(10, activation='softmax'),\n",
        "                      ])\n",
        "  # загружаем веса modeli.load_weights('model.h5')\n",
        "  modeli.load_weights('model.h5')\n",
        "  # компилируем modeli с одним из оптимизаторов\n",
        "  modeli.compile(\n",
        "      optimizer=i_optim,\n",
        "      loss='categorical_crossentropy',\n",
        "      metrics=['accuracy'],\n",
        "      )\n",
        "  # вычисляем ошибку для modeli без обучения\n",
        "  hh0_tr = modeli.evaluate(  train_images[:48000,:], to_categorical(train_labels[:48000]),verbose = 0)\n",
        "  hh0_val = modeli.evaluate(  train_images[48000:,:], to_categorical(train_labels[48000:]),verbose = 0)\n",
        "  # проводим обучение модели \n",
        "  hh = modeli.fit(\n",
        "                  train_images,\n",
        "                  to_categorical(train_labels),\n",
        "                  epochs=epochs,\n",
        "                  batch_size=32, validation_split=0.2, verbose = 0\n",
        "                  )\n",
        "  # картинки\n",
        "  plt.plot(epoch,np.log([hh0_tr[0]]+hh.history['loss']),'-',label = modeli.optimizer.get_config()['name']+' train')\n",
        "  plt.plot(epoch,np.log([hh0_val[0]]+hh.history['val_loss']),'--',label = modeli.optimizer.get_config()['name']+' val')\n",
        "plt.legend()\n",
        "plt.grid('On')\n",
        "\n",
        "plt.title('нейросети от оптимизатора log(loss)')\n",
        "plt.xlabel('epoch')\n",
        "plt.ylabel('log(loss)')\n",
        "plt.show()\n"
      ],
      "execution_count": 167,
      "outputs": [
        {
          "output_type": "display_data",
          "data": {
            "image/png": "[encoded data removed]",
            "text/plain": [
              "<Figure size 1152x504 with 1 Axes>"
            ]
          },
          "metadata": {
            "needs_background": "light"
          }
        }
      ]
    },
    {
      "cell_type": "code",
      "metadata": {
        "colab": {
          "base_uri": "https://localhost:8080/"
        },
        "id": "viS_E5s6z2UU",
        "outputId": "b349b41a-e970-485b-e47c-085622e793c6"
      },
      "source": [
        " modeli.optimizer.get_config()"
      ],
      "execution_count": 168,
      "outputs": [
        {
          "output_type": "execute_result",
          "data": {
            "text/plain": [
              "{'beta_1': 0.9,\n",
              " 'beta_2': 0.999,\n",
              " 'decay': 0.004,\n",
              " 'epsilon': 1e-07,\n",
              " 'learning_rate': 0.001,\n",
              " 'name': 'Nadam'}"
            ]
          },
          "metadata": {},
          "execution_count": 168
        }
      ]
    },
    {
      "cell_type": "markdown",
      "metadata": {
        "id": "eUVhmimFvp-k"
      },
      "source": [
        "Посмотрим на результат предсказаний  (inference) для обученной модели (последняя в цикле)"
      ]
    },
    {
      "cell_type": "code",
      "metadata": {
        "colab": {
          "base_uri": "https://localhost:8080/",
          "height": 187
        },
        "id": "wj7fhqd3FKFe",
        "outputId": "d1eb0001-5122-412a-8181-b8ba49459f8e"
      },
      "source": [
        "N = 9\n",
        "y_pred = model1.predict(test_images[:N,:])\n",
        "y_pred_class = np.argmax(y_pred,axis=1)\n",
        "plt.figure(figsize =(3*N,5))\n",
        "for i in range(N):\n",
        "  plt.subplot(1,N,i+1)\n",
        "  plt.imshow(test_images[i,:].reshape(28,28))\n",
        "  plt.xlabel(str(y_pred_class[i]))\n",
        "plt.show()  "
      ],
      "execution_count": 169,
      "outputs": [
        {
          "output_type": "display_data",
          "data": {
            "image/png": "[encoded data removed]",
            "text/plain": [
              "<Figure size 1944x360 with 9 Axes>"
            ]
          },
          "metadata": {
            "needs_background": "light"
          }
        }
      ]
    },
    {
      "cell_type": "code",
      "metadata": {
        "colab": {
          "base_uri": "https://localhost:8080/"
        },
        "id": "Q561c6eaGxcB",
        "outputId": "ac42c74f-44ee-40aa-eaca-0e2f678101cb"
      },
      "source": [
        "y_pred_class"
      ],
      "execution_count": 170,
      "outputs": [
        {
          "output_type": "execute_result",
          "data": {
            "text/plain": [
              "array([7, 2, 1, 0, 4, 1, 4, 9, 6])"
            ]
          },
          "metadata": {},
          "execution_count": 170
        }
      ]
    },
    {
      "cell_type": "markdown",
      "metadata": {
        "id": "ws3OtgYMfpXI"
      },
      "source": [
        "Вариант синтаксиса:"
      ]
    },
    {
      "cell_type": "code",
      "metadata": {
        "colab": {
          "base_uri": "https://localhost:8080/"
        },
        "id": "IvO2kuDRerfX",
        "outputId": "7fea369e-aee0-407c-fd3b-65f1a77d3358"
      },
      "source": [
        "y_predi = model1(test_images[:,:])\n",
        "np.argmax(y_predi,axis=1)"
      ],
      "execution_count": 171,
      "outputs": [
        {
          "output_type": "execute_result",
          "data": {
            "text/plain": [
              "array([7, 2, 1, ..., 4, 5, 6])"
            ]
          },
          "metadata": {},
          "execution_count": 171
        }
      ]
    },
    {
      "cell_type": "code",
      "metadata": {
        "colab": {
          "base_uri": "https://localhost:8080/"
        },
        "id": "EREg7l6YUK7P",
        "outputId": "b7ac1c2d-f75c-4d67-af7e-ca774d98f257"
      },
      "source": [
        "yy = np.argmax(y_predi,axis=1)\n",
        "np.where(test_labels != yy)[0]"
      ],
      "execution_count": 172,
      "outputs": [
        {
          "output_type": "execute_result",
          "data": {
            "text/plain": [
              "array([   8,  104,  241,  247,  259,  320,  340,  445,  448,  449,  479,\n",
              "        495,  619,  628,  646,  684,  691,  720,  740,  813,  882,  938,\n",
              "        947,  951,  965, 1014, 1039, 1112, 1166, 1178, 1182, 1226, 1232,\n",
              "       1242, 1247, 1283, 1289, 1290, 1299, 1319, 1328, 1364, 1378, 1393,\n",
              "       1395, 1414, 1494, 1496, 1500, 1522, 1527, 1531, 1553, 1559, 1609,\n",
              "       1611, 1681, 1751, 1754, 1773, 1790, 1809, 1850, 1868, 1901, 1903,\n",
              "       1911, 1941, 1952, 1969, 1982, 1984, 2016, 2018, 2035, 2053, 2098,\n",
              "       2109, 2129, 2135, 2266, 2293, 2325, 2369, 2381, 2387, 2408, 2414,\n",
              "       2488, 2560, 2582, 2648, 2654, 2743, 2769, 2836, 2877, 2927, 2939,\n",
              "       2953, 3005, 3060, 3108, 3117, 3213, 3218, 3225, 3240, 3250, 3282,\n",
              "       3289, 3329, 3333, 3384, 3422, 3441, 3451, 3457, 3475, 3503, 3520,\n",
              "       3533, 3534, 3549, 3558, 3567, 3604, 3662, 3716, 3751, 3767, 3776,\n",
              "       3780, 3808, 3811, 3817, 3836, 3838, 3853, 3869, 3893, 3926, 3941,\n",
              "       3951, 3976, 3985, 3995, 4000, 4063, 4065, 4075, 4078, 4140, 4163,\n",
              "       4176, 4201, 4205, 4211, 4224, 4231, 4248, 4284, 4285, 4289, 4294,\n",
              "       4363, 4372, 4477, 4487, 4497, 4536, 4571, 4632, 4635, 4668, 4690,\n",
              "       4731, 4737, 4740, 4751, 4807, 4823, 4874, 4880, 4890, 4915, 4966,\n",
              "       4990, 5138, 5331, 5409, 5457, 5495, 5596, 5600, 5642, 5655, 5676,\n",
              "       5734, 5842, 5887, 5888, 5955, 5973, 6011, 6026, 6042, 6045, 6059,\n",
              "       6091, 6166, 6172, 6555, 6558, 6560, 6571, 6576, 6597, 6617, 6632,\n",
              "       6651, 6662, 6735, 6755, 6783, 6954, 7107, 7216, 7258, 7432, 8059,\n",
              "       8255, 8272, 8325, 8339, 8520, 8522, 9009, 9015, 9019, 9022, 9024,\n",
              "       9036, 9045, 9280, 9587, 9634, 9638, 9669, 9679, 9712, 9716, 9729,\n",
              "       9741, 9745, 9768, 9770, 9779, 9792, 9808, 9890, 9944])"
            ]
          },
          "metadata": {},
          "execution_count": 172
        }
      ]
    },
    {
      "cell_type": "markdown",
      "metadata": {
        "id": "NRSQbmXD9U98"
      },
      "source": [
        "## Практическое задание\n",
        "\n",
        "Используем набор примеров fashion-MNIST\n",
        "\n",
        "1.  Опишите - какой результата получен в нейросети в зависимости от:\n",
        "  -  числа нейронов в слое(для 2-хслойной сети), \n",
        "  - числа слоев (2, 3, 5, 10) при близких размерах сети (близкое число тренируемых парметров).\n",
        "  - фиксируйте для тренировочного и тестового набора метрики accuracy.\n",
        "2.  Проверьте работу разных оптимизаторов (SGD, Adam, RMSProp) для одной из моделей п.1.Фиксируйте для тренировочного и тестового набора метрики accuracy.\n",
        "\n",
        "3. Сделайте вывод - что помогло вам улучшить качество классификации в нейросети на тестовом наборе? \n",
        "\n",
        "4. Для одного варианта сетей сформируйте матрицу ошибок по классам. Оцените качество модели по каждому классу отдельно (полнота , точность). Сделайте вывод."
      ]
    },
    {
      "cell_type": "markdown",
      "metadata": {
        "id": "HN8DNX38v4JC"
      },
      "source": [
        "Загрузка Fashion_MNIST"
      ]
    },
    {
      "cell_type": "code",
      "metadata": {
        "id": "lzui-f-AMxXM"
      },
      "source": [
        "from keras.datasets import fashion_mnist\n"
      ],
      "execution_count": 173,
      "outputs": []
    },
    {
      "cell_type": "code",
      "metadata": {
        "id": "cnrrzpi6NBLV"
      },
      "source": [
        "(train_imagef,train_labelf),(test_imagef,test_labelf)=fashion_mnist.load_data()"
      ],
      "execution_count": 174,
      "outputs": []
    },
    {
      "cell_type": "code",
      "metadata": {
        "colab": {
          "base_uri": "https://localhost:8080/",
          "height": 265
        },
        "id": "HgkWr0rjE47r",
        "outputId": "8b570359-3972-4f18-b100-b43a2b1568d9"
      },
      "source": [
        "plt.imshow(train_imagef[11,:,:])\n",
        "plt.show()"
      ],
      "execution_count": 175,
      "outputs": [
        {
          "output_type": "display_data",
          "data": {
            "image/png": "[encoded data removed]",
            "text/plain": [
              "<Figure size 432x288 with 1 Axes>"
            ]
          },
          "metadata": {
            "needs_background": "light"
          }
        }
      ]
    },
    {
      "cell_type": "markdown",
      "metadata": {
        "id": "m2wW13WB9U99"
      },
      "source": [
        "## Дополнительные материалы\n",
        "\n",
        "<ol>\n",
        "    <li> https://keras.io/</li>\n",
        "    <li> https://playground.tensorflow.org/ - визуализация сетей \n",
        "</ol>"
      ]
    },
    {
      "cell_type": "markdown",
      "metadata": {
        "id": "v6h1K5ET9U9_"
      },
      "source": [
        "## Используемая литература \n",
        "\n",
        "Для подготовки данного методического пособия были использованы следующие ресурсы:\n",
        "<ol>\n",
        "    <li>https://keras.io/</li>\n",
        "    <li>Шакла Н. — Машинное обучение и TensorFlow 2019</li>\n",
        "    <li>Саймон Хайкин — Нейронные сети: полный курс</li>\n",
        "    <li>Википедия</li>\n",
        "    \n",
        "</ol>"
      ]
    },
    {
      "cell_type": "markdown",
      "metadata": {
        "id": "V1qi_81z2NJ7"
      },
      "source": [
        "## Практическое задание"
      ]
    },
    {
      "cell_type": "markdown",
      "metadata": {
        "id": "8c8NgXqA2NJ7"
      },
      "source": [
        "\n",
        "1.  Опишите - какой результата получен в нейросети в зависимости от:\n",
        "  -  числа нейронов в слое(для 2-хслойной сети), \n",
        "  - числа слоев (2, 3, 5, 10) при близких размерах сети (близкое число тренируемых парметров).\n",
        "  - фиксируйте для тренировочного и тестового набора метрики accuracy."
      ]
    },
    {
      "cell_type": "code",
      "metadata": {
        "id": "0CCnTeXaJEX5"
      },
      "source": [
        "train_imagef = (train_imagef / 127) - 1\n",
        "test_imagef = (test_imagef / 127) - 1\n",
        "\n",
        "\n",
        "train_imagef = train_imagef.reshape((-1, 784))\n",
        "test_imagef = test_imagef.reshape((-1, 784))"
      ],
      "execution_count": 176,
      "outputs": []
    },
    {
      "cell_type": "code",
      "metadata": {
        "colab": {
          "base_uri": "https://localhost:8080/"
        },
        "id": "wA0RRp-h2NJ9",
        "outputId": "74be7fd2-1080-4af6-bbd2-b6d0752207a3"
      },
      "source": [
        "# 2 слоя\n",
        "modelf_32 = Sequential([\n",
        "                      Dense(32, activation='tanh', input_shape=(784,)),\n",
        "                      Dense(32, activation='tanh'),\n",
        "                      Dense(10, activation='softmax'),\n",
        "                      ])\n",
        "\n",
        "modelf_32.compile(\n",
        "  optimizer='adam',\n",
        "  loss='categorical_crossentropy',\n",
        "  metrics=['accuracy'],\n",
        ")\n",
        "\n",
        "modelf_32.fit(   \n",
        "  train_imagef,\n",
        "  to_categorical(train_labelf),\n",
        "  epochs=15,\n",
        "  batch_size=2048, validation_split=0.2,\n",
        "  verbose=2\n",
        ")"
      ],
      "execution_count": 177,
      "outputs": [
        {
          "output_type": "stream",
          "name": "stdout",
          "text": [
            "Epoch 1/15\n",
            "24/24 - 1s - loss: 1.4680 - accuracy: 0.5516 - val_loss: 1.0537 - val_accuracy: 0.7040 - 852ms/epoch - 35ms/step\n",
            "Epoch 2/15\n",
            "24/24 - 0s - loss: 0.9176 - accuracy: 0.7277 - val_loss: 0.7972 - val_accuracy: 0.7574 - 177ms/epoch - 7ms/step\n",
            "Epoch 3/15\n",
            "24/24 - 0s - loss: 0.7333 - accuracy: 0.7706 - val_loss: 0.6670 - val_accuracy: 0.7885 - 218ms/epoch - 9ms/step\n",
            "Epoch 4/15\n",
            "24/24 - 0s - loss: 0.6263 - accuracy: 0.7996 - val_loss: 0.5856 - val_accuracy: 0.8086 - 206ms/epoch - 9ms/step\n",
            "Epoch 5/15\n",
            "24/24 - 0s - loss: 0.5561 - accuracy: 0.8214 - val_loss: 0.5327 - val_accuracy: 0.8248 - 216ms/epoch - 9ms/step\n",
            "Epoch 6/15\n",
            "24/24 - 0s - loss: 0.5101 - accuracy: 0.8311 - val_loss: 0.4992 - val_accuracy: 0.8303 - 189ms/epoch - 8ms/step\n",
            "Epoch 7/15\n",
            "24/24 - 0s - loss: 0.4780 - accuracy: 0.8406 - val_loss: 0.4723 - val_accuracy: 0.8373 - 173ms/epoch - 7ms/step\n",
            "Epoch 8/15\n",
            "24/24 - 0s - loss: 0.4535 - accuracy: 0.8460 - val_loss: 0.4539 - val_accuracy: 0.8420 - 214ms/epoch - 9ms/step\n",
            "Epoch 9/15\n",
            "24/24 - 0s - loss: 0.4349 - accuracy: 0.8513 - val_loss: 0.4402 - val_accuracy: 0.8455 - 179ms/epoch - 7ms/step\n",
            "Epoch 10/15\n",
            "24/24 - 0s - loss: 0.4209 - accuracy: 0.8554 - val_loss: 0.4287 - val_accuracy: 0.8493 - 192ms/epoch - 8ms/step\n",
            "Epoch 11/15\n",
            "24/24 - 0s - loss: 0.4095 - accuracy: 0.8580 - val_loss: 0.4174 - val_accuracy: 0.8520 - 200ms/epoch - 8ms/step\n",
            "Epoch 12/15\n",
            "24/24 - 0s - loss: 0.3983 - accuracy: 0.8619 - val_loss: 0.4135 - val_accuracy: 0.8534 - 186ms/epoch - 8ms/step\n",
            "Epoch 13/15\n",
            "24/24 - 0s - loss: 0.3878 - accuracy: 0.8651 - val_loss: 0.4014 - val_accuracy: 0.8570 - 206ms/epoch - 9ms/step\n",
            "Epoch 14/15\n",
            "24/24 - 0s - loss: 0.3798 - accuracy: 0.8676 - val_loss: 0.3961 - val_accuracy: 0.8587 - 185ms/epoch - 8ms/step\n",
            "Epoch 15/15\n",
            "24/24 - 0s - loss: 0.3703 - accuracy: 0.8719 - val_loss: 0.3901 - val_accuracy: 0.8640 - 215ms/epoch - 9ms/step\n"
          ]
        },
        {
          "output_type": "execute_result",
          "data": {
            "text/plain": [
              "<keras.callbacks.History at 0x7ff92de55490>"
            ]
          },
          "metadata": {},
          "execution_count": 177
        }
      ]
    },
    {
      "cell_type": "code",
      "metadata": {
        "colab": {
          "base_uri": "https://localhost:8080/"
        },
        "id": "5DeAORKGORar",
        "outputId": "cc0ba2ba-75fa-4040-a954-b29ed7c1c596"
      },
      "source": [
        "modelf_128 = Sequential([\n",
        "                      Dense(128, activation='tanh', input_shape=(784,)),\n",
        "                      Dense(128, activation='tanh'),\n",
        "                      Dense(10, activation='softmax'),\n",
        "                      ])\n",
        "\n",
        "modelf_128.compile(\n",
        "  optimizer='adam',\n",
        "  loss='categorical_crossentropy',\n",
        "  metrics=['accuracy'],\n",
        ")\n",
        "\n",
        "modelf_128.fit( \n",
        "  train_imagef,\n",
        "  to_categorical(train_labelf),\n",
        "  epochs=15,\n",
        "  batch_size=2048, validation_split=0.2,\n",
        "  verbose=2\n",
        ")"
      ],
      "execution_count": 178,
      "outputs": [
        {
          "output_type": "stream",
          "name": "stdout",
          "text": [
            "Epoch 1/15\n",
            "24/24 - 1s - loss: 1.0033 - accuracy: 0.6642 - val_loss: 0.6149 - val_accuracy: 0.7824 - 844ms/epoch - 35ms/step\n",
            "Epoch 2/15\n",
            "24/24 - 0s - loss: 0.5487 - accuracy: 0.8055 - val_loss: 0.4971 - val_accuracy: 0.8222 - 244ms/epoch - 10ms/step\n",
            "Epoch 3/15\n",
            "24/24 - 0s - loss: 0.4691 - accuracy: 0.8337 - val_loss: 0.4599 - val_accuracy: 0.8336 - 200ms/epoch - 8ms/step\n",
            "Epoch 4/15\n",
            "24/24 - 0s - loss: 0.4312 - accuracy: 0.8472 - val_loss: 0.4219 - val_accuracy: 0.8487 - 184ms/epoch - 8ms/step\n",
            "Epoch 5/15\n",
            "24/24 - 0s - loss: 0.4004 - accuracy: 0.8586 - val_loss: 0.4072 - val_accuracy: 0.8518 - 189ms/epoch - 8ms/step\n",
            "Epoch 6/15\n",
            "24/24 - 0s - loss: 0.3808 - accuracy: 0.8640 - val_loss: 0.3949 - val_accuracy: 0.8562 - 220ms/epoch - 9ms/step\n",
            "Epoch 7/15\n",
            "24/24 - 0s - loss: 0.3662 - accuracy: 0.8704 - val_loss: 0.3906 - val_accuracy: 0.8587 - 235ms/epoch - 10ms/step\n",
            "Epoch 8/15\n",
            "24/24 - 0s - loss: 0.3524 - accuracy: 0.8749 - val_loss: 0.3784 - val_accuracy: 0.8656 - 190ms/epoch - 8ms/step\n",
            "Epoch 9/15\n",
            "24/24 - 0s - loss: 0.3414 - accuracy: 0.8791 - val_loss: 0.3675 - val_accuracy: 0.8677 - 219ms/epoch - 9ms/step\n",
            "Epoch 10/15\n",
            "24/24 - 0s - loss: 0.3287 - accuracy: 0.8840 - val_loss: 0.3607 - val_accuracy: 0.8698 - 193ms/epoch - 8ms/step\n",
            "Epoch 11/15\n",
            "24/24 - 0s - loss: 0.3196 - accuracy: 0.8862 - val_loss: 0.3512 - val_accuracy: 0.8752 - 193ms/epoch - 8ms/step\n",
            "Epoch 12/15\n",
            "24/24 - 0s - loss: 0.3115 - accuracy: 0.8895 - val_loss: 0.3442 - val_accuracy: 0.8784 - 227ms/epoch - 9ms/step\n",
            "Epoch 13/15\n",
            "24/24 - 0s - loss: 0.3021 - accuracy: 0.8914 - val_loss: 0.3429 - val_accuracy: 0.8763 - 237ms/epoch - 10ms/step\n",
            "Epoch 14/15\n",
            "24/24 - 0s - loss: 0.2934 - accuracy: 0.8945 - val_loss: 0.3432 - val_accuracy: 0.8757 - 185ms/epoch - 8ms/step\n",
            "Epoch 15/15\n",
            "24/24 - 0s - loss: 0.2872 - accuracy: 0.8982 - val_loss: 0.3471 - val_accuracy: 0.8727 - 182ms/epoch - 8ms/step\n"
          ]
        },
        {
          "output_type": "execute_result",
          "data": {
            "text/plain": [
              "<keras.callbacks.History at 0x7ff930f8d110>"
            ]
          },
          "metadata": {},
          "execution_count": 178
        }
      ]
    },
    {
      "cell_type": "code",
      "metadata": {
        "colab": {
          "base_uri": "https://localhost:8080/"
        },
        "id": "po0RtuN7K0mq",
        "outputId": "cfc3f43a-033f-4dfd-df59-200622a192f3"
      },
      "source": [
        "results_32 = modelf_32.evaluate(\n",
        "  test_imagef,\n",
        "  to_categorical(test_labelf),\n",
        "  verbose=0\n",
        ")\n",
        "\n",
        "results_128 = modelf_128.evaluate(\n",
        "  test_imagef,\n",
        "  to_categorical(test_labelf),\n",
        "  verbose=0\n",
        ")\n",
        "print('Точность для 32-х нейронов = ',  np.round(results_32[1], 4))\n",
        "print('Точночть для 128-х нейронов = ',  np.round(results_128[1], 4))"
      ],
      "execution_count": 179,
      "outputs": [
        {
          "output_type": "stream",
          "name": "stdout",
          "text": [
            "Точность для 32-х нейронов =  0.8527\n",
            "Точночть для 128-х нейронов =  0.8645\n"
          ]
        }
      ]
    },
    {
      "cell_type": "code",
      "metadata": {
        "colab": {
          "base_uri": "https://localhost:8080/"
        },
        "id": "4mTlDiCcNxE0",
        "outputId": "288c3595-516b-4572-d4e0-91e3d558a656"
      },
      "source": [
        "layers = [2, 3, 5, 10]\n",
        "neurons = [128, 115, 99, 79]\n",
        "\n",
        "\n",
        "for i, layer in enumerate(layers):\n",
        "\n",
        "  modelf_ml = Sequential()\n",
        "\n",
        "  for _ in range(layer):\n",
        "    modelf_ml.add(Dense(neurons[i], activation='tanh'))\n",
        "\n",
        "  modelf_ml.add(Dense(10, activation='softmax'))\n",
        "\n",
        "  modelf_ml.compile(\n",
        "    optimizer='adam',\n",
        "    loss='categorical_crossentropy',\n",
        "    metrics=['accuracy'],\n",
        "  )\n",
        "\n",
        "  modelf_ml.fit(   \n",
        "  train_imagef,\n",
        "  to_categorical(train_labelf),\n",
        "  epochs=15,\n",
        "  batch_size=2048, validation_split=0.2,\n",
        "  verbose=0\n",
        "  )\n",
        "\n",
        "  results_ml = modelf_ml.evaluate(\n",
        "  test_imagef,\n",
        "  to_categorical(test_labelf),\n",
        "  verbose=0\n",
        "  )\n",
        "  print(f'Точность для {layer} слойной сети = {np.round(results_ml[1], 4)}, параметры: {modelf_ml.count_params()}')\n"
      ],
      "execution_count": 181,
      "outputs": [
        {
          "output_type": "stream",
          "name": "stdout",
          "text": [
            "Точность для 2 слойной сети = 0.8676, параметры: 118282\n",
            "Точность для 3 слойной сети = 0.8697, параметры: 118115\n",
            "Точность для 5 слойной сети = 0.8685, параметры: 118315\n",
            "Точность для 10 слойной сети = 0.8648, параметры: 119695\n"
          ]
        }
      ]
    },
    {
      "cell_type": "markdown",
      "metadata": {
        "id": "n-IB4Wwky6xj"
      },
      "source": [
        "Повышение числа нейронов в сети улучшает результат модели, но начинает появляться переобучения. Увилечение числа слоёв (стем же количеством параметром) улучшает результат сначала, но с большим количеством слоев релультат начинает уменьшаться."
      ]
    },
    {
      "cell_type": "markdown",
      "metadata": {
        "id": "n0f5chUs0a6n"
      },
      "source": [
        "2.  Проверьте работу разных оптимизаторов (SGD, Adam, RMSProp) для одной из моделей п.1.Фиксируйте для тренировочного и тестового набора метрики accuracy."
      ]
    },
    {
      "cell_type": "code",
      "metadata": {
        "colab": {
          "base_uri": "https://localhost:8080/"
        },
        "id": "rq94jX8bZoe5",
        "outputId": "ea8c12e4-a3d9-4091-fda1-4746cd33c3d1"
      },
      "source": [
        "modelf_adam = Sequential([\n",
        "                      Dense(32, activation='tanh', input_shape=(784,)),\n",
        "                      Dense(32, activation='tanh'),\n",
        "                      Dense(10, activation='softmax'),\n",
        "                      ])\n",
        "\n",
        "modelf_adam.compile(\n",
        "  optimizer='adam',\n",
        "  loss='categorical_crossentropy',\n",
        "  metrics=['accuracy'],\n",
        ")\n",
        "\n",
        "modelf_adam.fit(   \n",
        "  train_imagef,\n",
        "  to_categorical(train_labelf),\n",
        "  epochs=15,\n",
        "  batch_size=2048, validation_split=0.2,\n",
        "  verbose=2\n",
        ")"
      ],
      "execution_count": 187,
      "outputs": [
        {
          "output_type": "stream",
          "name": "stdout",
          "text": [
            "Epoch 1/15\n",
            "24/24 - 1s - loss: 1.4562 - accuracy: 0.5586 - val_loss: 1.0203 - val_accuracy: 0.7077 - 852ms/epoch - 36ms/step\n",
            "Epoch 2/15\n",
            "24/24 - 0s - loss: 0.8998 - accuracy: 0.7330 - val_loss: 0.7834 - val_accuracy: 0.7652 - 178ms/epoch - 7ms/step\n",
            "Epoch 3/15\n",
            "24/24 - 0s - loss: 0.7245 - accuracy: 0.7816 - val_loss: 0.6588 - val_accuracy: 0.7983 - 194ms/epoch - 8ms/step\n",
            "Epoch 4/15\n",
            "24/24 - 0s - loss: 0.6200 - accuracy: 0.8092 - val_loss: 0.5786 - val_accuracy: 0.8165 - 219ms/epoch - 9ms/step\n",
            "Epoch 5/15\n",
            "24/24 - 0s - loss: 0.5520 - accuracy: 0.8266 - val_loss: 0.5288 - val_accuracy: 0.8268 - 206ms/epoch - 9ms/step\n",
            "Epoch 6/15\n",
            "24/24 - 0s - loss: 0.5082 - accuracy: 0.8379 - val_loss: 0.4945 - val_accuracy: 0.8344 - 172ms/epoch - 7ms/step\n",
            "Epoch 7/15\n",
            "24/24 - 0s - loss: 0.4766 - accuracy: 0.8454 - val_loss: 0.4696 - val_accuracy: 0.8410 - 207ms/epoch - 9ms/step\n",
            "Epoch 8/15\n",
            "24/24 - 0s - loss: 0.4533 - accuracy: 0.8514 - val_loss: 0.4492 - val_accuracy: 0.8464 - 206ms/epoch - 9ms/step\n",
            "Epoch 9/15\n",
            "24/24 - 0s - loss: 0.4333 - accuracy: 0.8567 - val_loss: 0.4398 - val_accuracy: 0.8482 - 206ms/epoch - 9ms/step\n",
            "Epoch 10/15\n",
            "24/24 - 0s - loss: 0.4187 - accuracy: 0.8605 - val_loss: 0.4245 - val_accuracy: 0.8530 - 203ms/epoch - 8ms/step\n",
            "Epoch 11/15\n",
            "24/24 - 0s - loss: 0.4074 - accuracy: 0.8639 - val_loss: 0.4176 - val_accuracy: 0.8522 - 164ms/epoch - 7ms/step\n",
            "Epoch 12/15\n",
            "24/24 - 0s - loss: 0.3948 - accuracy: 0.8678 - val_loss: 0.4079 - val_accuracy: 0.8584 - 199ms/epoch - 8ms/step\n",
            "Epoch 13/15\n",
            "24/24 - 0s - loss: 0.3867 - accuracy: 0.8690 - val_loss: 0.4002 - val_accuracy: 0.8598 - 190ms/epoch - 8ms/step\n",
            "Epoch 14/15\n",
            "24/24 - 0s - loss: 0.3768 - accuracy: 0.8723 - val_loss: 0.3943 - val_accuracy: 0.8623 - 189ms/epoch - 8ms/step\n",
            "Epoch 15/15\n",
            "24/24 - 0s - loss: 0.3699 - accuracy: 0.8741 - val_loss: 0.3868 - val_accuracy: 0.8630 - 229ms/epoch - 10ms/step\n"
          ]
        },
        {
          "output_type": "execute_result",
          "data": {
            "text/plain": [
              "<keras.callbacks.History at 0x7ff9343fe490>"
            ]
          },
          "metadata": {},
          "execution_count": 187
        }
      ]
    },
    {
      "cell_type": "code",
      "metadata": {
        "colab": {
          "base_uri": "https://localhost:8080/"
        },
        "id": "FXccJkjf1KSz",
        "outputId": "c51985ad-7975-43b8-d6d2-faad259a2b7f"
      },
      "source": [
        "modelf_sgd = Sequential([\n",
        "                      Dense(32, activation='tanh', input_shape=(784,)),\n",
        "                      Dense(32, activation='tanh'),\n",
        "                      Dense(10, activation='softmax'),\n",
        "                      ])\n",
        "\n",
        "modelf_sgd.compile(\n",
        "  optimizer='SGD',\n",
        "  loss='categorical_crossentropy',\n",
        "  metrics=['accuracy'],\n",
        ")\n",
        "\n",
        "modelf_sgd.fit(   \n",
        "  train_imagef,\n",
        "  to_categorical(train_labelf),\n",
        "  epochs=15,\n",
        "  batch_size=2048, validation_split=0.2,\n",
        "  verbose=2\n",
        ")"
      ],
      "execution_count": 188,
      "outputs": [
        {
          "output_type": "stream",
          "name": "stdout",
          "text": [
            "Epoch 1/15\n",
            "24/24 - 1s - loss: 2.0285 - accuracy: 0.3097 - val_loss: 1.7311 - val_accuracy: 0.4822 - 799ms/epoch - 33ms/step\n",
            "Epoch 2/15\n",
            "24/24 - 0s - loss: 1.6087 - accuracy: 0.5222 - val_loss: 1.4859 - val_accuracy: 0.5715 - 204ms/epoch - 8ms/step\n",
            "Epoch 3/15\n",
            "24/24 - 0s - loss: 1.4177 - accuracy: 0.5909 - val_loss: 1.3425 - val_accuracy: 0.6236 - 171ms/epoch - 7ms/step\n",
            "Epoch 4/15\n",
            "24/24 - 0s - loss: 1.2986 - accuracy: 0.6333 - val_loss: 1.2441 - val_accuracy: 0.6569 - 204ms/epoch - 9ms/step\n",
            "Epoch 5/15\n",
            "24/24 - 0s - loss: 1.2124 - accuracy: 0.6587 - val_loss: 1.1689 - val_accuracy: 0.6790 - 166ms/epoch - 7ms/step\n",
            "Epoch 6/15\n",
            "24/24 - 0s - loss: 1.1445 - accuracy: 0.6781 - val_loss: 1.1079 - val_accuracy: 0.6947 - 179ms/epoch - 7ms/step\n",
            "Epoch 7/15\n",
            "24/24 - 0s - loss: 1.0883 - accuracy: 0.6939 - val_loss: 1.0564 - val_accuracy: 0.7067 - 179ms/epoch - 7ms/step\n",
            "Epoch 8/15\n",
            "24/24 - 0s - loss: 1.0403 - accuracy: 0.7055 - val_loss: 1.0121 - val_accuracy: 0.7167 - 177ms/epoch - 7ms/step\n",
            "Epoch 9/15\n",
            "24/24 - 0s - loss: 0.9986 - accuracy: 0.7152 - val_loss: 0.9735 - val_accuracy: 0.7252 - 198ms/epoch - 8ms/step\n",
            "Epoch 10/15\n",
            "24/24 - 0s - loss: 0.9619 - accuracy: 0.7236 - val_loss: 0.9392 - val_accuracy: 0.7318 - 168ms/epoch - 7ms/step\n",
            "Epoch 11/15\n",
            "24/24 - 0s - loss: 0.9292 - accuracy: 0.7302 - val_loss: 0.9086 - val_accuracy: 0.7357 - 195ms/epoch - 8ms/step\n",
            "Epoch 12/15\n",
            "24/24 - 0s - loss: 0.9001 - accuracy: 0.7361 - val_loss: 0.8813 - val_accuracy: 0.7412 - 174ms/epoch - 7ms/step\n",
            "Epoch 13/15\n",
            "24/24 - 0s - loss: 0.8739 - accuracy: 0.7411 - val_loss: 0.8568 - val_accuracy: 0.7469 - 172ms/epoch - 7ms/step\n",
            "Epoch 14/15\n",
            "24/24 - 0s - loss: 0.8503 - accuracy: 0.7464 - val_loss: 0.8347 - val_accuracy: 0.7507 - 168ms/epoch - 7ms/step\n",
            "Epoch 15/15\n",
            "24/24 - 0s - loss: 0.8289 - accuracy: 0.7507 - val_loss: 0.8146 - val_accuracy: 0.7554 - 200ms/epoch - 8ms/step\n"
          ]
        },
        {
          "output_type": "execute_result",
          "data": {
            "text/plain": [
              "<keras.callbacks.History at 0x7ff933ebb850>"
            ]
          },
          "metadata": {},
          "execution_count": 188
        }
      ]
    },
    {
      "cell_type": "code",
      "metadata": {
        "colab": {
          "base_uri": "https://localhost:8080/"
        },
        "id": "NuX5zgTT1j5x",
        "outputId": "0562c8c6-2401-496e-c1ce-284adc590aa3"
      },
      "source": [
        "modelf_nadam = Sequential([\n",
        "                      Dense(32, activation='tanh', input_shape=(784,)),\n",
        "                      Dense(32, activation='tanh'),\n",
        "                      Dense(10, activation='softmax'),\n",
        "                      ])\n",
        "\n",
        "modelf_nadam.compile(\n",
        "  optimizer='NAdam',\n",
        "  loss='categorical_crossentropy',\n",
        "  metrics=['accuracy'],\n",
        ")\n",
        "\n",
        "modelf_nadam.fit(   \n",
        "  train_imagef,\n",
        "  to_categorical(train_labelf),\n",
        "  epochs=15,\n",
        "  batch_size=2048, validation_split=0.2,\n",
        "  verbose=2\n",
        ")"
      ],
      "execution_count": 189,
      "outputs": [
        {
          "output_type": "stream",
          "name": "stdout",
          "text": [
            "Epoch 1/15\n",
            "24/24 - 1s - loss: 1.4986 - accuracy: 0.5404 - val_loss: 1.0580 - val_accuracy: 0.6974 - 1s/epoch - 59ms/step\n",
            "Epoch 2/15\n",
            "24/24 - 0s - loss: 0.9122 - accuracy: 0.7384 - val_loss: 0.8006 - val_accuracy: 0.7587 - 234ms/epoch - 10ms/step\n",
            "Epoch 3/15\n",
            "24/24 - 0s - loss: 0.7303 - accuracy: 0.7792 - val_loss: 0.6761 - val_accuracy: 0.7919 - 224ms/epoch - 9ms/step\n",
            "Epoch 4/15\n",
            "24/24 - 0s - loss: 0.6347 - accuracy: 0.8018 - val_loss: 0.6062 - val_accuracy: 0.8061 - 210ms/epoch - 9ms/step\n",
            "Epoch 5/15\n",
            "24/24 - 0s - loss: 0.5701 - accuracy: 0.8172 - val_loss: 0.5747 - val_accuracy: 0.8107 - 249ms/epoch - 10ms/step\n",
            "Epoch 6/15\n",
            "24/24 - 0s - loss: 0.5315 - accuracy: 0.8245 - val_loss: 0.5196 - val_accuracy: 0.8255 - 217ms/epoch - 9ms/step\n",
            "Epoch 7/15\n",
            "24/24 - 0s - loss: 0.4989 - accuracy: 0.8336 - val_loss: 0.4956 - val_accuracy: 0.8328 - 218ms/epoch - 9ms/step\n",
            "Epoch 8/15\n",
            "24/24 - 0s - loss: 0.4797 - accuracy: 0.8380 - val_loss: 0.4906 - val_accuracy: 0.8342 - 222ms/epoch - 9ms/step\n",
            "Epoch 9/15\n",
            "24/24 - 0s - loss: 0.4584 - accuracy: 0.8438 - val_loss: 0.4693 - val_accuracy: 0.8367 - 246ms/epoch - 10ms/step\n",
            "Epoch 10/15\n",
            "24/24 - 0s - loss: 0.4436 - accuracy: 0.8467 - val_loss: 0.4712 - val_accuracy: 0.8367 - 246ms/epoch - 10ms/step\n",
            "Epoch 11/15\n",
            "24/24 - 0s - loss: 0.4392 - accuracy: 0.8489 - val_loss: 0.4477 - val_accuracy: 0.8429 - 232ms/epoch - 10ms/step\n",
            "Epoch 12/15\n",
            "24/24 - 0s - loss: 0.4200 - accuracy: 0.8540 - val_loss: 0.4440 - val_accuracy: 0.8438 - 244ms/epoch - 10ms/step\n",
            "Epoch 13/15\n",
            "24/24 - 0s - loss: 0.4127 - accuracy: 0.8570 - val_loss: 0.4297 - val_accuracy: 0.8488 - 242ms/epoch - 10ms/step\n",
            "Epoch 14/15\n",
            "24/24 - 0s - loss: 0.4046 - accuracy: 0.8581 - val_loss: 0.4367 - val_accuracy: 0.8437 - 241ms/epoch - 10ms/step\n",
            "Epoch 15/15\n",
            "24/24 - 0s - loss: 0.3940 - accuracy: 0.8631 - val_loss: 0.4175 - val_accuracy: 0.8536 - 209ms/epoch - 9ms/step\n"
          ]
        },
        {
          "output_type": "execute_result",
          "data": {
            "text/plain": [
              "<keras.callbacks.History at 0x7ff92fa43850>"
            ]
          },
          "metadata": {},
          "execution_count": 189
        }
      ]
    },
    {
      "cell_type": "code",
      "metadata": {
        "colab": {
          "base_uri": "https://localhost:8080/"
        },
        "id": "QLS2FfT61njo",
        "outputId": "09b6fc63-c00e-439b-ea85-7216b90dd376"
      },
      "source": [
        "modelf_rmsprop = Sequential([\n",
        "                      Dense(32, activation='tanh', input_shape=(784,)),\n",
        "                      Dense(32, activation='tanh'),\n",
        "                      Dense(10, activation='softmax'),\n",
        "                      ])\n",
        "\n",
        "modelf_rmsprop.compile(\n",
        "  optimizer='RMSProp',\n",
        "  loss='categorical_crossentropy',\n",
        "  metrics=['accuracy'],\n",
        ")\n",
        "\n",
        "modelf_rmsprop.fit(   \n",
        "  train_imagef,\n",
        "  to_categorical(train_labelf),\n",
        "  epochs=15,\n",
        "  batch_size=2048, validation_split=0.2,\n",
        "  verbose=2\n",
        ")"
      ],
      "execution_count": 190,
      "outputs": [
        {
          "output_type": "stream",
          "name": "stdout",
          "text": [
            "Epoch 1/15\n",
            "24/24 - 1s - loss: 1.3621 - accuracy: 0.5935 - val_loss: 0.9418 - val_accuracy: 0.7418 - 1s/epoch - 42ms/step\n",
            "Epoch 2/15\n",
            "24/24 - 0s - loss: 0.8379 - accuracy: 0.7591 - val_loss: 0.7296 - val_accuracy: 0.7819 - 198ms/epoch - 8ms/step\n",
            "Epoch 3/15\n",
            "24/24 - 0s - loss: 0.6795 - accuracy: 0.7902 - val_loss: 0.6284 - val_accuracy: 0.7977 - 241ms/epoch - 10ms/step\n",
            "Epoch 4/15\n",
            "24/24 - 0s - loss: 0.6027 - accuracy: 0.8034 - val_loss: 0.5558 - val_accuracy: 0.8137 - 191ms/epoch - 8ms/step\n",
            "Epoch 5/15\n",
            "24/24 - 0s - loss: 0.5453 - accuracy: 0.8175 - val_loss: 0.5442 - val_accuracy: 0.8133 - 217ms/epoch - 9ms/step\n",
            "Epoch 6/15\n",
            "24/24 - 0s - loss: 0.5108 - accuracy: 0.8272 - val_loss: 0.5132 - val_accuracy: 0.8207 - 220ms/epoch - 9ms/step\n",
            "Epoch 7/15\n",
            "24/24 - 0s - loss: 0.4844 - accuracy: 0.8333 - val_loss: 0.5337 - val_accuracy: 0.8085 - 189ms/epoch - 8ms/step\n",
            "Epoch 8/15\n",
            "24/24 - 0s - loss: 0.4671 - accuracy: 0.8380 - val_loss: 0.4650 - val_accuracy: 0.8357 - 227ms/epoch - 9ms/step\n",
            "Epoch 9/15\n",
            "24/24 - 0s - loss: 0.4506 - accuracy: 0.8437 - val_loss: 0.4521 - val_accuracy: 0.8396 - 195ms/epoch - 8ms/step\n",
            "Epoch 10/15\n",
            "24/24 - 0s - loss: 0.4402 - accuracy: 0.8453 - val_loss: 0.4619 - val_accuracy: 0.8347 - 188ms/epoch - 8ms/step\n",
            "Epoch 11/15\n",
            "24/24 - 0s - loss: 0.4286 - accuracy: 0.8493 - val_loss: 0.4393 - val_accuracy: 0.8462 - 250ms/epoch - 10ms/step\n",
            "Epoch 12/15\n",
            "24/24 - 0s - loss: 0.4190 - accuracy: 0.8528 - val_loss: 0.4404 - val_accuracy: 0.8420 - 248ms/epoch - 10ms/step\n",
            "Epoch 13/15\n",
            "24/24 - 0s - loss: 0.4093 - accuracy: 0.8543 - val_loss: 0.4478 - val_accuracy: 0.8420 - 192ms/epoch - 8ms/step\n",
            "Epoch 14/15\n",
            "24/24 - 0s - loss: 0.4039 - accuracy: 0.8569 - val_loss: 0.4462 - val_accuracy: 0.8397 - 234ms/epoch - 10ms/step\n",
            "Epoch 15/15\n",
            "24/24 - 0s - loss: 0.3985 - accuracy: 0.8574 - val_loss: 0.4067 - val_accuracy: 0.8537 - 236ms/epoch - 10ms/step\n"
          ]
        },
        {
          "output_type": "execute_result",
          "data": {
            "text/plain": [
              "<keras.callbacks.History at 0x7ff9341caed0>"
            ]
          },
          "metadata": {},
          "execution_count": 190
        }
      ]
    },
    {
      "cell_type": "code",
      "metadata": {
        "colab": {
          "base_uri": "https://localhost:8080/"
        },
        "id": "ulIo_AVv1EE_",
        "outputId": "7450cdcb-fb7a-423f-e1e3-388595cd9ec6"
      },
      "source": [
        "results_adam = modelf_adam.evaluate(\n",
        "  test_imagef,\n",
        "  to_categorical(test_labelf),\n",
        "  verbose=0\n",
        ")\n",
        "\n",
        "results_sgd = modelf_sgd.evaluate(\n",
        "  test_imagef,\n",
        "  to_categorical(test_labelf),\n",
        "  verbose=0\n",
        ")\n",
        "\n",
        "results_nadam = modelf_nadam.evaluate(\n",
        "  test_imagef,\n",
        "  to_categorical(test_labelf),\n",
        "  verbose=0\n",
        ")\n",
        "\n",
        "results_rmsprop = modelf_rmsprop.evaluate(\n",
        "  test_imagef,\n",
        "  to_categorical(test_labelf),\n",
        "  verbose=0\n",
        ")\n",
        "print('Точность для ADAM = ',  np.round(results_adam[1], 4))\n",
        "print('Точночть для SGD = ',  np.round(results_sgd[1], 4))\n",
        "print('Точность для NADAM = ',  np.round(results_nadam[1], 4))\n",
        "print('Точночть для RMSProp = ',  np.round(results_rmsprop[1], 4))"
      ],
      "execution_count": 191,
      "outputs": [
        {
          "output_type": "stream",
          "name": "stdout",
          "text": [
            "Точность для ADAM =  0.8541\n",
            "Точночть для SGD =  0.7445\n",
            "Точность для NADAM =  0.8441\n",
            "Точночть для RMSProp =  0.844\n"
          ]
        }
      ]
    },
    {
      "cell_type": "markdown",
      "metadata": {
        "id": "udvrAWK43XR9"
      },
      "source": [
        "Лучше всего показал себя оптимизатор АДАМ, SGD показал результат сильно хуже остальных метрик."
      ]
    },
    {
      "cell_type": "markdown",
      "metadata": {
        "id": "03FvFmJR4fTM"
      },
      "source": [
        "3. Сделайте вывод - что помогло вам улучшить качество классификации в нейросети на тестовом наборе? "
      ]
    },
    {
      "cell_type": "markdown",
      "metadata": {
        "id": "FJ_LAw8B4qua"
      },
      "source": [
        "Для улучшения метрики помогает усложнение сети (увеличение числа нейронов, добавление новых слоев), так же увеличение эпох может помочь получить более лучший результат, но нужно следить чтобы не появилось переобучение."
      ]
    },
    {
      "cell_type": "markdown",
      "metadata": {
        "id": "TQrZ_XpE61Fp"
      },
      "source": [
        "4. Для одного варианта сетей сформируйте матрицу ошибок по классам. Оцените качество модели по каждому классу отдельно (полнота , точность). Сделайте вывод."
      ]
    },
    {
      "cell_type": "code",
      "metadata": {
        "colab": {
          "base_uri": "https://localhost:8080/",
          "height": 599
        },
        "id": "9z6_sskb60e-",
        "outputId": "53624ace-092e-4a87-c0d4-e185dc4f99d0"
      },
      "source": [
        "from sklearn import metrics\n",
        "import seaborn as sn\n",
        "import pandas as pd\n",
        "import matplotlib.pyplot as plt\n",
        "\n",
        "predictions = modelf_adam.predict(test_imagef)\n",
        "predictions = np.argmax(predictions,axis=1)\n",
        "\n",
        "array = metrics.confusion_matrix(test_labelf, predictions)\n",
        "\n",
        "df_cm = pd.DataFrame(array, range(10), range(10))\n",
        "plt.figure(figsize=(12,10))\n",
        "sn.set(font_scale=1.4) # for label size\n",
        "sn.heatmap(df_cm, annot=True, annot_kws={\"size\": 12}) # font size\n",
        "\n",
        "plt.show()"
      ],
      "execution_count": 224,
      "outputs": [
        {
          "output_type": "display_data",
          "data": {
            "image/png": "[encoded data removed]",
            "text/plain": [
              "<Figure size 864x720 with 2 Axes>"
            ]
          },
          "metadata": {}
        }
      ]
    },
    {
      "cell_type": "code",
      "metadata": {
        "colab": {
          "base_uri": "https://localhost:8080/"
        },
        "id": "bxkUw0qx4qK0",
        "outputId": "d5f0a87d-c0ee-4891-9e1a-2cb846359d34"
      },
      "source": [
        "print(metrics.classification_report(test_labelf, predictions, digits=3))"
      ],
      "execution_count": 202,
      "outputs": [
        {
          "output_type": "stream",
          "name": "stdout",
          "text": [
            "              precision    recall  f1-score   support\n",
            "\n",
            "           0      0.800     0.826     0.813      1000\n",
            "           1      0.982     0.954     0.968      1000\n",
            "           2      0.753     0.773     0.763      1000\n",
            "           3      0.849     0.870     0.859      1000\n",
            "           4      0.757     0.784     0.770      1000\n",
            "           5      0.941     0.920     0.930      1000\n",
            "           6      0.667     0.589     0.626      1000\n",
            "           7      0.916     0.924     0.920      1000\n",
            "           8      0.934     0.952     0.943      1000\n",
            "           9      0.930     0.949     0.940      1000\n",
            "\n",
            "    accuracy                          0.854     10000\n",
            "   macro avg      0.853     0.854     0.853     10000\n",
            "weighted avg      0.853     0.854     0.853     10000\n",
            "\n"
          ]
        }
      ]
    },
    {
      "cell_type": "markdown",
      "metadata": {
        "id": "ow2vJzCGCVGv"
      },
      "source": [
        "Лучше всего определяется 1-ый класс, хуже - 2-ой клас, он часто распознается как 0-ой или 2-ой классы"
      ]
    },
    {
      "cell_type": "code",
      "metadata": {
        "id": "KwURyhQSDch7"
      },
      "source": [
        ""
      ],
      "execution_count": null,
      "outputs": []
    }
  ]
}